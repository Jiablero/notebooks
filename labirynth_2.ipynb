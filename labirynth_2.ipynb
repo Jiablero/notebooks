{
  "nbformat": 4,
  "nbformat_minor": 0,
  "metadata": {
    "colab": {
      "name": "labirynth_2.ipynb",
      "provenance": [],
      "authorship_tag": "ABX9TyPYAUX/yAyqnjadI/FJN4f+",
      "include_colab_link": true
    },
    "kernelspec": {
      "name": "python3",
      "display_name": "Python 3"
    },
    "language_info": {
      "name": "python"
    }
  },
  "cells": [
    {
      "cell_type": "markdown",
      "metadata": {
        "id": "view-in-github",
        "colab_type": "text"
      },
      "source": [
        "<a href=\"https://colab.research.google.com/github/Jiablero/notebooks/blob/master/labirynth_2.ipynb\" target=\"_parent\"><img src=\"https://colab.research.google.com/assets/colab-badge.svg\" alt=\"Open In Colab\"/></a>"
      ]
    },
    {
      "cell_type": "code",
      "metadata": {
        "id": "t6S0PntDVzyv"
      },
      "source": [
        "!rm 321.csv"
      ],
      "execution_count": null,
      "outputs": []
    },
    {
      "cell_type": "code",
      "metadata": {
        "id": "37_tXFeILcmx"
      },
      "source": [
        "import random"
      ],
      "execution_count": null,
      "outputs": []
    },
    {
      "cell_type": "code",
      "metadata": {
        "id": "ZXV-TSBML3MU"
      },
      "source": [
        "lab_file = '123.csv'\n",
        "result_file = 'end.csv'\n",
        "matrix = []\n",
        "result = []\n",
        "maxval = 0\n",
        "allvals = {}"
      ],
      "execution_count": null,
      "outputs": []
    },
    {
      "cell_type": "code",
      "metadata": {
        "id": "o73ZnCXQMBXq"
      },
      "source": [
        "# открытие файла\n",
        "with open(lab_file) as lab:\n",
        "  lines = lab.read().split('\\n')\n",
        "  for l in lines[:-1]: matrix.append(l.split(','))"
      ],
      "execution_count": null,
      "outputs": []
    },
    {
      "cell_type": "code",
      "metadata": {
        "id": "0eg8QfQTMvKd"
      },
      "source": [
        "# нахождение максимального числа в матрице\n",
        "for m in matrix:\n",
        "  for v in m:\n",
        "    if int(v) > maxval: maxval = int(v)"
      ],
      "execution_count": null,
      "outputs": []
    },
    {
      "cell_type": "code",
      "metadata": {
        "colab": {
          "base_uri": "https://localhost:8080/"
        },
        "id": "Q70uJm0-Nvdr",
        "outputId": "654724f3-12d7-4817-cfd7-6c8949f0fc70"
      },
      "source": [
        "matrix"
      ],
      "execution_count": null,
      "outputs": [
        {
          "output_type": "execute_result",
          "data": {
            "text/plain": [
              "[['9', '1', '10', '7', '1', '6', '8', '6', '1', '3'],\n",
              " ['8', '4', '10', '2', '1', '6', '7', '2', '2', '9'],\n",
              " ['9', '4', '10', '8', '6', '1', '6', '8', '8', '6'],\n",
              " ['8', '1', '10', '10', '10', '10', '10', '10', '9', '3'],\n",
              " ['5', '3', '3', '9', '5', '1', '9', '10', '3', '7'],\n",
              " ['9', '3', '4', '8', '2', '2', '2', '10', '7', '6'],\n",
              " ['2', '1', '8', '10', '10', '10', '10', '10', '7', '1'],\n",
              " ['4', '6', '7', '10', '7', '6', '8', '1', '6', '5'],\n",
              " ['9', '7', '6', '10', '9', '5', '2', '9', '6', '4']]"
            ]
          },
          "metadata": {
            "tags": []
          },
          "execution_count": 52
        }
      ]
    },
    {
      "cell_type": "code",
      "metadata": {
        "id": "2UF4tlrWNN-j"
      },
      "source": [
        "# генерирует словарь с ключом \"число\" и всеми возможными решениями \n",
        "# для этого числа, плюс позиция, которая в начале равна 0\n",
        "for m in matrix:\n",
        "  for v in m: \n",
        "    if v not in allvals:\n",
        "      val = int(v)\n",
        "      if val == 0:\n",
        "        sums = [f'{i} - {i}' for i in range(0, maxval)] #['0-0', '1-1', ...]\n",
        "      else:\n",
        "        sums = [f'{i} + {val - i}' for i in range(0, val)] # val = 5 тогда ['4 + 1',]\n",
        "        if val < maxval:\n",
        "          for i in range(0, 10):\n",
        "            sums.append(f'{val + i} - {i}') # val = 5 ['8 - 3', ...]\n",
        "      random.shuffle(sums)\n",
        "      allvals[v] = {'sums': sums, 'pos': 0} # {'5':{'sums': [.....], 'pos': 0}}\n"
      ],
      "execution_count": null,
      "outputs": []
    },
    {
      "cell_type": "code",
      "metadata": {
        "id": "JsOEuK2VQHHn"
      },
      "source": [
        "# подставляет в матрицу matrix вместо чисел одно из решений \n",
        "# для этого числа из словаря allvals\n",
        "for m in matrix:\n",
        "  newline = []\n",
        "  for l in m:\n",
        "    if allvals[l]['pos'] >= len(allvals[l]['sums']) - 1: allvals[l]['pos'] = 0\n",
        "    newline.append(allvals[l]['sums'][allvals[l]['pos']])  \n",
        "    #print ('{} = {}'.format(l, allvals[l]['sums'][allvals[l]['pos']]))\n",
        "    allvals[l]['pos'] += 1\n",
        "  result.append(newline)"
      ],
      "execution_count": null,
      "outputs": []
    },
    {
      "cell_type": "code",
      "metadata": {
        "id": "S7mTtqFoSp_K"
      },
      "source": [
        "  # сохраняет файл\n",
        "  with open(result_file, 'w') as fl:\n",
        "    fl.write('\\n'.join(','.join(j for j in i) for i in result))"
      ],
      "execution_count": null,
      "outputs": []
    },
    {
      "cell_type": "code",
      "metadata": {
        "colab": {
          "base_uri": "https://localhost:8080/"
        },
        "id": "a002xykXUI8P",
        "outputId": "01a37891-852c-41d8-96c4-4c154eb09ef3"
      },
      "source": [
        "result"
      ],
      "execution_count": null,
      "outputs": [
        {
          "output_type": "execute_result",
          "data": {
            "text/plain": [
              "[['9 - 0',\n",
              "  '7 - 6',\n",
              "  '1 + 9',\n",
              "  '2 + 5',\n",
              "  '0 + 1',\n",
              "  '2 + 4',\n",
              "  '5 + 3',\n",
              "  '13 - 7',\n",
              "  '6 - 5',\n",
              "  '2 + 1'],\n",
              " ['8 - 0',\n",
              "  '12 - 8',\n",
              "  '8 + 2',\n",
              "  '7 - 5',\n",
              "  '4 - 3',\n",
              "  '0 + 6',\n",
              "  '15 - 8',\n",
              "  '3 - 1',\n",
              "  '2 - 0',\n",
              "  '17 - 8'],\n",
              " ['5 + 4',\n",
              "  '13 - 9',\n",
              "  '5 + 5',\n",
              "  '11 - 3',\n",
              "  '4 + 2',\n",
              "  '3 - 2',\n",
              "  '8 - 2',\n",
              "  '1 + 7',\n",
              "  '7 + 1',\n",
              "  '7 - 1'],\n",
              " ['3 + 5',\n",
              "  '5 - 4',\n",
              "  '2 + 8',\n",
              "  '4 + 6',\n",
              "  '6 + 4',\n",
              "  '3 + 7',\n",
              "  '7 + 3',\n",
              "  '0 + 10',\n",
              "  '2 + 7',\n",
              "  '4 - 1'],\n",
              " ['12 - 7',\n",
              "  '5 - 2',\n",
              "  '1 + 2',\n",
              "  '12 - 3',\n",
              "  '3 + 2',\n",
              "  '1 - 0',\n",
              "  '10 - 1',\n",
              "  '1 + 9',\n",
              "  '9 - 6',\n",
              "  '3 + 4'],\n",
              " ['0 + 9',\n",
              "  '0 + 3',\n",
              "  '4 - 0',\n",
              "  '9 - 1',\n",
              "  '4 - 2',\n",
              "  '10 - 8',\n",
              "  '11 - 9',\n",
              "  '8 + 2',\n",
              "  '12 - 5',\n",
              "  '14 - 8'],\n",
              " ['9 - 7',\n",
              "  '9 - 8',\n",
              "  '13 - 5',\n",
              "  '5 + 5',\n",
              "  '2 + 8',\n",
              "  '4 + 6',\n",
              "  '6 + 4',\n",
              "  '3 + 7',\n",
              "  '8 - 1',\n",
              "  '8 - 7'],\n",
              " ['8 - 4',\n",
              "  '6 - 0',\n",
              "  '9 - 2',\n",
              "  '7 + 3',\n",
              "  '11 - 4',\n",
              "  '5 + 1',\n",
              "  '6 + 2',\n",
              "  '2 - 1',\n",
              "  '9 - 3',\n",
              "  '9 - 4'],\n",
              " ['18 - 9',\n",
              "  '14 - 7',\n",
              "  '3 + 3',\n",
              "  '0 + 10',\n",
              "  '1 + 8',\n",
              "  '10 - 5',\n",
              "  '0 + 2',\n",
              "  '16 - 7',\n",
              "  '15 - 9',\n",
              "  '6 - 2']]"
            ]
          },
          "metadata": {
            "tags": []
          },
          "execution_count": 57
        }
      ]
    },
    {
      "cell_type": "code",
      "metadata": {
        "colab": {
          "base_uri": "https://localhost:8080/",
          "height": 103
        },
        "id": "b6JdVn_-T0qg",
        "outputId": "e0878327-9ef6-4bd2-a407-6eec0205fef2"
      },
      "source": [
        "aaa = '\\n'.join(','.join(j for j in i) for i in result)\n",
        "aaa"
      ],
      "execution_count": null,
      "outputs": [
        {
          "output_type": "execute_result",
          "data": {
            "application/vnd.google.colaboratory.intrinsic+json": {
              "type": "string"
            },
            "text/plain": [
              "'9 - 0,7 - 6,1 + 9,2 + 5,0 + 1,2 + 4,5 + 3,13 - 7,6 - 5,2 + 1\\n8 - 0,12 - 8,8 + 2,7 - 5,4 - 3,0 + 6,15 - 8,3 - 1,2 - 0,17 - 8\\n5 + 4,13 - 9,5 + 5,11 - 3,4 + 2,3 - 2,8 - 2,1 + 7,7 + 1,7 - 1\\n3 + 5,5 - 4,2 + 8,4 + 6,6 + 4,3 + 7,7 + 3,0 + 10,2 + 7,4 - 1\\n12 - 7,5 - 2,1 + 2,12 - 3,3 + 2,1 - 0,10 - 1,1 + 9,9 - 6,3 + 4\\n0 + 9,0 + 3,4 - 0,9 - 1,4 - 2,10 - 8,11 - 9,8 + 2,12 - 5,14 - 8\\n9 - 7,9 - 8,13 - 5,5 + 5,2 + 8,4 + 6,6 + 4,3 + 7,8 - 1,8 - 7\\n8 - 4,6 - 0,9 - 2,7 + 3,11 - 4,5 + 1,6 + 2,2 - 1,9 - 3,9 - 4\\n18 - 9,14 - 7,3 + 3,0 + 10,1 + 8,10 - 5,0 + 2,16 - 7,15 - 9,6 - 2'"
            ]
          },
          "metadata": {
            "tags": []
          },
          "execution_count": 56
        }
      ]
    },
    {
      "cell_type": "code",
      "metadata": {
        "colab": {
          "base_uri": "https://localhost:8080/"
        },
        "id": "Jg0LzqkCVIrq",
        "outputId": "d73f52cb-807f-490d-94e9-dc2659a2766a"
      },
      "source": [
        "if 10%3 > 0: print('otstoy')"
      ],
      "execution_count": null,
      "outputs": [
        {
          "output_type": "stream",
          "text": [
            "otstoy\n"
          ],
          "name": "stdout"
        }
      ]
    }
  ]
}