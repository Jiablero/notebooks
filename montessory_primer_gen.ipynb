{
  "nbformat": 4,
  "nbformat_minor": 0,
  "metadata": {
    "colab": {
      "name": "montessory_primer_gen.ipynb",
      "provenance": [],
      "collapsed_sections": [],
      "authorship_tag": "ABX9TyPYd1LRuz/nkXOJYByFUEqa",
      "include_colab_link": true
    },
    "kernelspec": {
      "name": "python3",
      "display_name": "Python 3"
    }
  },
  "cells": [
    {
      "cell_type": "markdown",
      "metadata": {
        "id": "view-in-github",
        "colab_type": "text"
      },
      "source": [
        "<a href=\"https://colab.research.google.com/github/Jiablero/notebooks/blob/master/montessory_primer_gen.ipynb\" target=\"_parent\"><img src=\"https://colab.research.google.com/assets/colab-badge.svg\" alt=\"Open In Colab\"/></a>"
      ]
    },
    {
      "cell_type": "markdown",
      "metadata": {
        "id": "iy4xVNCBWUi3",
        "colab_type": "text"
      },
      "source": [
        "**Генератор примеров.**\n",
        "\n",
        "\n",
        "*   Сложение без перехода через десяток\n",
        "*   Вычитание без перехода через десяток\n",
        "*   Сложение с переходом через десяток\n",
        "*   Вычитание с переходом через десяток\n",
        "\n",
        "---\n",
        "\n",
        "**Запуск в Colab:** Runtime -> Run all.\n",
        "После запуска должен открыться диалог сохранения файла.\n",
        "\n",
        "Кол-во примеров каждого типа: изменить в коде **num_primers** на нужное число.\n",
        "\n",
        "**Колонки в файле:**\n",
        "1.   порядковый номер\n",
        "2.   x\n",
        "3.   y\n",
        "4.   result - ответ\n",
        "5.   тип примера\n",
        "\n",
        "**Типы примеров:**\n",
        "*   plus_no_10 - сложение без перехода через десяток\n",
        "*   minus_no_10 - вычитание без перехода через десяток\n",
        "*   plus_with_10 - сложение с переходом через десяток\n",
        "*   minus_with_10 - вычитание с переходом через десяток\n",
        "\n",
        "**Известные проблемы**\n",
        "Переход через десяток может вызвать лавинообразные переходы в других регистрах, вплоть до изменения разрядности результирующего числа.\n",
        "\n",
        "\n",
        "\n"
      ]
    },
    {
      "cell_type": "code",
      "metadata": {
        "id": "sYXhSvNvLeBD",
        "colab_type": "code",
        "colab": {}
      },
      "source": [
        "import pandas as pd\n",
        "import random \n",
        "\n",
        "num_primers = 100\n",
        "\n",
        "def rand_plus_no10():\n",
        "  X = [random.randint(1, 8)]\n",
        "  Y = [random.randint(1, 8 - X[0] if X[0] != 8 else 1)]\n",
        "  for i in range(1,4):\n",
        "    X.append(random.randint(0, 9))\n",
        "    Y.append(random.randint(0, 9 - X[i] if X[i] != 9 else 0))\n",
        "  X = int(''.join(str(x) for x in X))\n",
        "  Y = int(''.join(str(y) for y in Y))\n",
        "  return X, Y, X + Y, 'plus_no_10'\n",
        "\n",
        "def rand_minus_no10():\n",
        "  X = [random.randint(2, 9)]\n",
        "  Y = [random.randint(1, X[0] - 1)]\n",
        "  for i in range(1,4):\n",
        "    X.append(random.randint(0, 9))\n",
        "    Y.append(random.randint(0, X[i] - 1 if X[i] != 0 else 0))\n",
        "  X = int(''.join(str(x) for x in X))\n",
        "  Y = int(''.join(str(y) for y in Y))\n",
        "  return X, Y, X - Y, 'minus_no_10'\n",
        "\n",
        "def rand_plus_10():\n",
        "  stage1 = rand_plus_no10()\n",
        "  X = list(str(stage1[0]))\n",
        "  Y = list(str(stage1[1]))\n",
        "  idx = random.randint(1, len(X) - 1)\n",
        "  x = random.randint(1,9)\n",
        "  Y[idx] = str(random.randint(10-x, 9))\n",
        "  X[idx] = str(x)\n",
        "  X = int(''.join(X))\n",
        "  Y = int(''.join(Y))\n",
        "  return X, Y, X + Y, 'plus_with_10'\n",
        "\n",
        "def rand_minus_10():\n",
        "  stage1 = rand_minus_no10()\n",
        "  X = list(str(stage1[0]))\n",
        "  Y = list(str(stage1[1]))\n",
        "  idx = random.randint(1, len(X) - 1)\n",
        "  x = random.randint(1,8)\n",
        "  Y[idx] = str(random.randint(x + 1, 9))\n",
        "  X[idx] = str(x)\n",
        "  X = int(''.join(X))\n",
        "  Y = int(''.join(Y))\n",
        "  return X, Y, X - Y, 'minus_with_10'\n",
        "\n",
        "data = pd.DataFrame(data = [rand_minus_no10() for _ in range(num_primers)])\n",
        "data = data.append([rand_plus_no10() for _ in range(num_primers)])\n",
        "data = data.append([rand_plus_10() for _ in range(num_primers)])\n",
        "data = data.append([rand_minus_10() for _ in range(num_primers)])\n",
        "data = data.rename(columns={0: 'x', 1: 'y', 2: 'result', 3: 'type'})\n",
        "\n",
        "data.to_csv('primers.csv')\n",
        "\n",
        "from google.colab import files\n",
        "files.download('primers.csv') \n"
      ],
      "execution_count": 0,
      "outputs": []
    }
  ]
}