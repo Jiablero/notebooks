{
  "nbformat": 4,
  "nbformat_minor": 0,
  "metadata": {
    "colab": {
      "name": "my_tiny_XOR_nn.ipynb",
      "provenance": [],
      "collapsed_sections": [],
      "authorship_tag": "ABX9TyMUj/gANwKGJYH3zOjSj1hl",
      "include_colab_link": true
    },
    "kernelspec": {
      "name": "python3",
      "display_name": "Python 3"
    }
  },
  "cells": [
    {
      "cell_type": "markdown",
      "metadata": {
        "id": "view-in-github",
        "colab_type": "text"
      },
      "source": [
        "<a href=\"https://colab.research.google.com/github/Jiablero/notebooks/blob/master/my_tiny_XOR_nn.ipynb\" target=\"_parent\"><img src=\"https://colab.research.google.com/assets/colab-badge.svg\" alt=\"Open In Colab\"/></a>"
      ]
    },
    {
      "cell_type": "markdown",
      "metadata": {
        "id": "cpBdlESX1244",
        "colab_type": "text"
      },
      "source": [
        "**Задача:** написать модель простейшей нейросети, способной обучиться и выполнить операцию XOR.\n",
        "\n",
        "Навеяно задачей из курса: https://stepik.org/lesson/210101/step/13?unit=183578\n",
        "\n"
      ]
    },
    {
      "cell_type": "code",
      "metadata": {
        "id": "0hr4kokJ28D0",
        "colab_type": "code",
        "colab": {}
      },
      "source": [
        "import random # потребуется для \"обучения\""
      ],
      "execution_count": 206,
      "outputs": []
    },
    {
      "cell_type": "code",
      "metadata": {
        "id": "7pn4OOlgtnoC",
        "colab_type": "code",
        "colab": {}
      },
      "source": [
        "# пишем свой нейрон с пороговой функцией активации\n",
        "\n",
        "class neuron():\n",
        "  def __init__(self, weights, bias, signals = None):\t\n",
        "    self.weights = weights\n",
        "    self.inputs = len(weights)\n",
        "    self.bias = bias\n",
        "    self.minweight = -1\n",
        "    self.maxweight = 1\n",
        "\n",
        "    # это позволит создать и получить результат работы нейрона в одно действие\n",
        "    self.output = self.activate(signals) if signals is not None else None\n",
        "\n",
        "\n",
        "\t# пороговая ф-я активации\n",
        "  def actfunc(self, result):\n",
        "    if result <= 0: \n",
        "      return 0\n",
        "    else: return 1\n",
        "\n",
        "\n",
        "  def activate(self, signals):\n",
        "    result = 0\n",
        "    signals = [signals] if type(signals) is not list else signals\n",
        "    for i in range(0, self.inputs):\n",
        "      result = result + (self.weights[i] * signals[i])\n",
        "    result = result + self.bias\n",
        "    return self.actfunc(result)\n",
        "  \n",
        "\n",
        "  def fit(self, Xarr, yarr):\n",
        "    # обучаем, подставляя значения рандомом.\n",
        "    # плохая идея, с точки зрения оптимизации, но реализовать проще всего\n",
        "    iternum = 0\n",
        "    resparr = []\n",
        "    \n",
        "    # пока массив ответов не совпадет с нужными выходными значениями\n",
        "    # задача простая, и это возможно\n",
        "    while resparr != yarr:\n",
        "      resparr = []\n",
        "      for i in range(0, self.inputs):\n",
        "        self.weights[i] = random.randint(self.minweight, self.maxweight)\n",
        "      self.bias = random.randint(self.minweight, self.maxweight)\n",
        "      for X in Xarr:\n",
        "        resparr.append(self.activate(X))\n",
        "      iternum += 1\n",
        "    print('Fitting ended. Weights:', self.weights, 'Bias:', self.bias, 'Iterations:', iternum)\n",
        "\n",
        "\n"
      ],
      "execution_count": 207,
      "outputs": []
    },
    {
      "cell_type": "markdown",
      "metadata": {
        "id": "ZF2RCjiMyDI5",
        "colab_type": "text"
      },
      "source": [
        "Сначала попробуем обучать 1 нейрон"
      ]
    },
    {
      "cell_type": "code",
      "metadata": {
        "id": "QrtjC_OjxGCM",
        "colab_type": "code",
        "colab": {}
      },
      "source": [
        "# neu пустой нейрон с 1 входом, будем делать операцию НЕ на основе данных nonX [[[x1]], и nony [значение на выходе]\n",
        "nonX = [[0], [1]]\n",
        "nony = [1, 0]\n",
        "neu = neuron(weights = [0], bias = 0)"
      ],
      "execution_count": 208,
      "outputs": []
    },
    {
      "cell_type": "code",
      "metadata": {
        "id": "NYcpqHlD4qqq",
        "colab_type": "code",
        "colab": {
          "base_uri": "https://localhost:8080/",
          "height": 34
        },
        "outputId": "76eecfb2-71dc-4b57-98eb-4083af1451ae"
      },
      "source": [
        "neu.fit(nonX, nony)"
      ],
      "execution_count": 209,
      "outputs": [
        {
          "output_type": "stream",
          "text": [
            "Fitting ended. Weights: [-1] Bias: 1 Iterations: 1\n"
          ],
          "name": "stdout"
        }
      ]
    },
    {
      "cell_type": "code",
      "metadata": {
        "id": "3ouJtOZ74x_b",
        "colab_type": "code",
        "colab": {
          "base_uri": "https://localhost:8080/",
          "height": 34
        },
        "outputId": "a4233b76-4907-4987-a835-14176c97fb4f"
      },
      "source": [
        "# Ура! Получилось! Нейрон ирвертирует полученные значения.\n",
        "print(neu.activate([1]), neu.activate([0]))"
      ],
      "execution_count": 210,
      "outputs": [
        {
          "output_type": "stream",
          "text": [
            "0 1\n"
          ],
          "name": "stdout"
        }
      ]
    },
    {
      "cell_type": "markdown",
      "metadata": {
        "id": "bieD9O-Y6o5f",
        "colab_type": "text"
      },
      "source": [
        "Теперь придумаем как быть с несколькими нейронами"
      ]
    },
    {
      "cell_type": "code",
      "metadata": {
        "id": "r_pAMuyu6v-q",
        "colab_type": "code",
        "colab": {
          "base_uri": "https://localhost:8080/",
          "height": 87
        },
        "outputId": "ef4b9574-74a5-4f21-95a2-c5ce6cc4cafc"
      },
      "source": [
        "# пишем вручную \"нейросетку\" на классе neuron, вручную расставив веса и bias\n",
        "\n",
        "# все возможные значения для двух входов\n",
        "values = [[0, 0], [0, 1], [1, 0], [1, 1]]\n",
        "\n",
        "# генерим \"ответы\" из готовой xornn на трёх нейронах на основе values\n",
        "xornny = []\n",
        "for v in values:\n",
        "    x1 = v[0]\n",
        "    x2 = v[1]\n",
        "    xornn3 = neuron([1, -1], 0, [\n",
        "\t\t\t\t\t\t\t\t\t\tneuron([1, 1], 0, [x1, x2]).output, \n",
        "\t\t\t\t\t\t\t\t\t\tneuron([1, 1], -1, [x1, x2]).output\n",
        "\t\t\t\t\t\t\t\t])\t\t\n",
        "    print(x1, x2, '=', xornn3.output)\n",
        "    xornny.append(xornn3.output)"
      ],
      "execution_count": 205,
      "outputs": [
        {
          "output_type": "stream",
          "text": [
            "0 0 = 0\n",
            "0 1 = 1\n",
            "1 0 = 1\n",
            "1 1 = 0\n"
          ],
          "name": "stdout"
        }
      ]
    },
    {
      "cell_type": "code",
      "metadata": {
        "id": "kOCqnjub7jZV",
        "colab_type": "code",
        "colab": {
          "base_uri": "https://localhost:8080/",
          "height": 34
        },
        "outputId": "0f4db436-6dcf-4489-ce09-7dfd2440e990"
      },
      "source": [
        "# Ура, работает. Сохраняем выходные значения этой сети как эталонные. На них будем обучать.\n",
        "xornny"
      ],
      "execution_count": 7,
      "outputs": [
        {
          "output_type": "execute_result",
          "data": {
            "text/plain": [
              "[0, 1, 1, 0]"
            ]
          },
          "metadata": {
            "tags": []
          },
          "execution_count": 7
        }
      ]
    },
    {
      "cell_type": "markdown",
      "metadata": {
        "id": "E1fzTu8X79oD",
        "colab_type": "text"
      },
      "source": [
        "Теперь сделать класс нейросети. На входном слое будет n нейронов с одинаковым количеством входов. На выходном один нейрон с количеством входов, равным кол-ву нейронов входного слоя. Внутренних слоев пока не будет.\n",
        "\n"
      ]
    },
    {
      "cell_type": "code",
      "metadata": {
        "id": "Xu8OyLCt7ly9",
        "colab_type": "code",
        "colab": {}
      },
      "source": [
        "class NNetwork():\n",
        "  def __init__(self, input_amount, inputs_per_neu):\n",
        "    self.minweight = -1\n",
        "    self.maxweight = 1\n",
        "    \n",
        "    self.input_amount = input_amount # кол-во нейронов во входном слое\n",
        "    self.inputs_per_neu = inputs_per_neu # кол-во входов в один нейрон\n",
        "\n",
        "    inputs = [0 for _ in range(self.inputs_per_neu)] # нулевые веса по кол-ву входов для входного слоя\n",
        "    inputs_outer = [0 for _ in range(self.input_amount)] # нулевые веса по количеству нейронов для входов внешнего слоя\n",
        "    \n",
        "    #генерим слои\n",
        "    self.input_layer = [neuron(weights = inputs, bias = 0) for _ in range(self.input_amount)]\n",
        "    self.outer_layer = neuron(weights = inputs_outer, bias = 0)\n",
        "\n",
        "  def layer_activate(self, layer, signals):\n",
        "    result = []\n",
        "    signals = [signals] if type(signals) is not list else signals\n",
        "    for i in range(self.input_amount):\n",
        "      result.append(layer[i].activate(signals[i]))\n",
        "    return result\n",
        "\n",
        "  def activate(self, signals):\n",
        "    layer1_result = self.layer_activate(self.input_layer, signals)\n",
        "    result = self.outer_layer.activate(layer1_result)\n",
        "    return result\n",
        "\n",
        "  def set_neuron_rnd(self, neu):\n",
        "    # Расстановка весов аналогично тому как это делается в классе нейрона. \n",
        "    # По логике туда бы это и перенести.\n",
        "    for i in range(0, neu.inputs):\n",
        "      neu.weights[i] = random.randint(self.minweight, self.maxweight)\n",
        "    neu.bias = random.randint(self.minweight, self.maxweight)\n",
        "\n",
        "  def fit(self, Xarr, yarr):\n",
        "    # обучаем, подставляя значения рандомом.\n",
        "    iternum = 0\n",
        "    resparr = []\n",
        "    while resparr != yarr:\n",
        "      resparr = []\n",
        "      for i in range(self.input_amount):\n",
        "        self.set_neuron_rnd(self.input_layer[i])\n",
        "      self.set_neuron_rnd(self.outer_layer)\n",
        "      for i in range(len(Xarr)):\n",
        "        resparr.append(self.activate(Xarr[i]))\n",
        "      iternum += 1\n",
        "      #print('Iter:',iternum, 'output:', resparr, 'expected:', yarr)\n",
        "    print('Fitting ended. Iterations:', iternum)\n",
        "\n",
        "#  def fit_cor(self, Xarr, yarr):\n",
        "    # пробуем метод коррекции ошибки\n",
        "#    iternum = 0\n",
        "#    resparr = []\n",
        "#    while resparr != yarr:\n",
        "#      resparr = []\n",
        "#      for y in yarr:\n",
        "#        for X in Xarr:\n",
        "#          for x in range(len(X)):\n",
        "#            pass \n",
        "# бросил это дело найдя ошибку в топологии (об этом ниже). Слишком сложное решение для данной задачи.\n"
      ],
      "execution_count": 178,
      "outputs": []
    },
    {
      "cell_type": "code",
      "metadata": {
        "id": "K6wIJLRJ7V-7",
        "colab_type": "code",
        "colab": {}
      },
      "source": [
        "# Создаем \"сетку\": число входных нейронов 2, число входов в каждом входном нейроне 1\n",
        "xor_test = NNetwork(2, 1)"
      ],
      "execution_count": 179,
      "outputs": []
    },
    {
      "cell_type": "code",
      "metadata": {
        "id": "jbO6Pu4f7x7U",
        "colab_type": "code",
        "colab": {
          "base_uri": "https://localhost:8080/",
          "height": 34
        },
        "outputId": "822b23ed-ea58-475d-e893-b73d62529145"
      },
      "source": [
        "# Поскольку все веса по-умолчанию нулевые, то и выдает она всегда 0\n",
        "xor_test.activate([0,1])"
      ],
      "execution_count": 197,
      "outputs": [
        {
          "output_type": "execute_result",
          "data": {
            "text/plain": [
              "0"
            ]
          },
          "metadata": {
            "tags": []
          },
          "execution_count": 197
        }
      ]
    },
    {
      "cell_type": "code",
      "metadata": {
        "id": "0cadzzJDAcs2",
        "colab_type": "code",
        "colab": {}
      },
      "source": [
        "# Пробуем обучить\n",
        "xor_test.fit(values, xornny) # будет выполняться бесконечно - неправильная топология сети"
      ],
      "execution_count": null,
      "outputs": []
    },
    {
      "cell_type": "markdown",
      "metadata": {
        "id": "3L1-4qSH5xAq",
        "colab_type": "text"
      },
      "source": [
        "Долго не мог понять что неправильно, \"сетка\" отлично работала со всеми выходными значениями кроме: [1, 0, 0, 1] и [0, 1, 1, 0] (последнее, собственно, результат XOR).\n",
        "\n",
        "Потом выяснилось что ошибка в количестве входов у нейронов входного слоя, их должно быть два на каждом из двух нейронов, чтобы получить элементы НЕ+И, что не может получится с одним входом. \n",
        "\n",
        "Правильная топология такова - входной слой из двух нейронов формирует два элемента НЕ+И:\n",
        "1.   X и не-Y;\n",
        "2.   не-X и Y;\n",
        "3.   Все это подается на входы выходного нейрона, реализующего логику ИЛИ. \n",
        "\n",
        "Таким образом получается операция XOR.\n",
        "\n",
        "Другим вариантом может быть решение на 5-ти нейронах, но для нее класс NNetwork придется чуть-чуть перепилить:\n",
        "1.   не-X;\n",
        "2.   не-Y;\n",
        "3.   Нейрон 'И', получающий на вход результат первого нейрона и Y (не-X и Y);\n",
        "4.   Нейрон 'И', получающий на вход результат второго нейрона и X (не-Y и X);\n",
        "5.   Все это подается на входы выходного нейрона, реализующего логику ИЛИ.\n",
        "\n",
        "При правильной топологии все встает на свои места даже с random - обучением. \n",
        "\n",
        "Данные values тоже пришлось поменять: в оба входных нейрона должны приходить одни и те же данные"
      ]
    },
    {
      "cell_type": "markdown",
      "metadata": {
        "id": "f8CjuaLT5RhT",
        "colab_type": "text"
      },
      "source": [
        ""
      ]
    },
    {
      "cell_type": "code",
      "metadata": {
        "id": "cbmaTK65BaGU",
        "colab_type": "code",
        "colab": {}
      },
      "source": [
        "# Делаем сеть с правильной топологией\n",
        "\n",
        "xor_test_good = NNetwork(2, 2)\n"
      ],
      "execution_count": 198,
      "outputs": []
    },
    {
      "cell_type": "code",
      "metadata": {
        "id": "d6gGdq9UvyLo",
        "colab_type": "code",
        "colab": {
          "base_uri": "https://localhost:8080/",
          "height": 34
        },
        "outputId": "feaa7cf8-a1f3-43ad-9169-34923a263ed9"
      },
      "source": [
        "# Переделываем входные значения, на два входа, и чтобы на входы обоих нейронов подавалось одно и то же\n",
        "values_good = [[[0, 0], [0, 0]],\n",
        "               [[0, 1], [0, 1]],\n",
        "               [[1, 0], [1, 0]],\n",
        "               [[1, 1], [1, 1]]\n",
        "              ] \n",
        "xor_test_good.fit(values_good, xornny)"
      ],
      "execution_count": 204,
      "outputs": [
        {
          "output_type": "stream",
          "text": [
            "Fitting ended. Iterations: 8\n"
          ],
          "name": "stdout"
        }
      ]
    },
    {
      "cell_type": "markdown",
      "metadata": {
        "id": "L10PqoLQ8xAA",
        "colab_type": "text"
      },
      "source": [
        "**Ура!**"
      ]
    },
    {
      "cell_type": "code",
      "metadata": {
        "id": "IzlK9k6A80Ps",
        "colab_type": "code",
        "colab": {
          "base_uri": "https://localhost:8080/",
          "height": 87
        },
        "outputId": "bb03b757-d3d6-4aad-c812-2050bcb289d8"
      },
      "source": [
        "# Проверяем\n",
        "for val in values_good:\n",
        "  print(\"Входные данные:\", val, \"Результат:\", xor_test_good.activate(val))"
      ],
      "execution_count": 213,
      "outputs": [
        {
          "output_type": "stream",
          "text": [
            "Входные данные: [[0, 0], [0, 0]] Результат: 0\n",
            "Входные данные: [[0, 1], [0, 1]] Результат: 1\n",
            "Входные данные: [[1, 0], [1, 0]] Результат: 1\n",
            "Входные данные: [[1, 1], [1, 1]] Результат: 0\n"
          ],
          "name": "stdout"
        }
      ]
    }
  ]
}