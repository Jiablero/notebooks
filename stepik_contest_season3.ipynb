{
  "nbformat": 4,
  "nbformat_minor": 0,
  "metadata": {
    "colab": {
      "name": "stepik_contest_season3.ipynb",
      "provenance": [],
      "collapsed_sections": [],
      "authorship_tag": "ABX9TyPTd8bWotzYQGd0zSTwXbcw",
      "include_colab_link": true
    },
    "kernelspec": {
      "name": "python3",
      "display_name": "Python 3"
    }
  },
  "cells": [
    {
      "cell_type": "markdown",
      "metadata": {
        "id": "view-in-github",
        "colab_type": "text"
      },
      "source": [
        "<a href=\"https://colab.research.google.com/github/Jiablero/notebooks/blob/master/stepik_contest_season3.ipynb\" target=\"_parent\"><img src=\"https://colab.research.google.com/assets/colab-badge.svg\" alt=\"Open In Colab\"/></a>"
      ]
    },
    {
      "cell_type": "code",
      "metadata": {
        "id": "HL06qZPhpTM_",
        "colab_type": "code",
        "colab": {}
      },
      "source": [
        "import pandas as pd\n",
        "from sklearn.model_selection import train_test_split, cross_val_score\n",
        "from sklearn.metrics import classification_report, roc_auc_score, confusion_matrix\n",
        "import numpy as np"
      ],
      "execution_count": 0,
      "outputs": []
    },
    {
      "cell_type": "code",
      "metadata": {
        "id": "tb7f6k1GpVdq",
        "colab_type": "code",
        "colab": {}
      },
      "source": [
        "submissions = pd.read_csv('https://stepik.org/media/attachments/course/4852/submission_data_test.csv')\n",
        "events = pd.read_csv('https://stepik.org/media/attachments/course/4852/events_data_test.csv')"
      ],
      "execution_count": 0,
      "outputs": []
    },
    {
      "cell_type": "code",
      "metadata": {
        "id": "kfrdj65lpW1E",
        "colab_type": "code",
        "colab": {}
      },
      "source": [
        "userdata = pd.DataFrame()"
      ],
      "execution_count": 0,
      "outputs": []
    },
    {
      "cell_type": "code",
      "metadata": {
        "id": "MWI_M6BippKQ",
        "colab_type": "code",
        "colab": {}
      },
      "source": [
        "events = pd.get_dummies(events)"
      ],
      "execution_count": 0,
      "outputs": []
    },
    {
      "cell_type": "code",
      "metadata": {
        "id": "lO63-s46qLde",
        "colab_type": "code",
        "colab": {}
      },
      "source": [
        "userdata = events.groupby('user_id').agg({'action_passed': 'sum', 'action_viewed': 'sum', 'action_started_attempt': 'sum'}).reset_index()"
      ],
      "execution_count": 0,
      "outputs": []
    },
    {
      "cell_type": "code",
      "metadata": {
        "id": "VakPBZGMqnIE",
        "colab_type": "code",
        "colab": {}
      },
      "source": [
        "submissions = pd.get_dummies(submissions)"
      ],
      "execution_count": 0,
      "outputs": []
    },
    {
      "cell_type": "code",
      "metadata": {
        "id": "iqa2fzu3rEhV",
        "colab_type": "code",
        "colab": {}
      },
      "source": [
        "userdata = userdata.merge(submissions.groupby('user_id').agg({'submission_status_correct': 'sum', 'submission_status_wrong': 'sum'}).reset_index(), how='outer')"
      ],
      "execution_count": 0,
      "outputs": []
    },
    {
      "cell_type": "code",
      "metadata": {
        "id": "nqlYBNAervto",
        "colab_type": "code",
        "colab": {}
      },
      "source": [
        "userdata = userdata.fillna(0)"
      ],
      "execution_count": 0,
      "outputs": []
    },
    {
      "cell_type": "code",
      "metadata": {
        "id": "0vPjCU8csZRC",
        "colab_type": "code",
        "colab": {}
      },
      "source": [
        "userdata['passed'] = userdata.action_passed.map(lambda x: 1 if x >= 40 else 0)"
      ],
      "execution_count": 0,
      "outputs": []
    },
    {
      "cell_type": "code",
      "metadata": {
        "id": "mr3dJwFKtpe_",
        "colab_type": "code",
        "colab": {}
      },
      "source": [
        "userdata = userdata.rename({'action_started_attempt': 'tried', 'action_viewed': 'viewed', 'submission_status_correct': 'correct',\n",
        "                 'submission_status_wrong': 'wrong'}, axis = 1).drop('action_passed', axis = 1)"
      ],
      "execution_count": 0,
      "outputs": []
    },
    {
      "cell_type": "code",
      "metadata": {
        "id": "OaDrhQyzv1rn",
        "colab_type": "code",
        "colab": {}
      },
      "source": [
        "X = userdata.drop('passed', axis = 1)\n",
        "y = userdata.passed"
      ],
      "execution_count": 0,
      "outputs": []
    },
    {
      "cell_type": "code",
      "metadata": {
        "id": "cF1a7_Iixc2o",
        "colab_type": "code",
        "colab": {}
      },
      "source": [
        "X_train, X_test, y_train, y_test = train_test_split(X, y, test_size=0.2, stratify=y)"
      ],
      "execution_count": 0,
      "outputs": []
    },
    {
      "cell_type": "code",
      "metadata": {
        "id": "TX3nc_X5v99m",
        "colab_type": "code",
        "colab": {}
      },
      "source": [
        "from sklearn.model_selection import GridSearchCV\n",
        "from sklearn.ensemble import RandomForestClassifier"
      ],
      "execution_count": 0,
      "outputs": []
    },
    {
      "cell_type": "code",
      "metadata": {
        "id": "Lakp1s7IwDkm",
        "colab_type": "code",
        "colab": {}
      },
      "source": [
        "def grid_search(clf, params, X, y):\n",
        "  gs = GridSearchCV(clf, params, n_jobs=-1)\n",
        "  gs.fit(X, y)\n",
        "  # best_params_ для отладки\n",
        "  return {'best_params_': gs.best_params_, 'best_estimator_': gs.best_estimator_}"
      ],
      "execution_count": 0,
      "outputs": []
    },
    {
      "cell_type": "code",
      "metadata": {
        "id": "2o8STkPQwGTY",
        "colab_type": "code",
        "colab": {}
      },
      "source": [
        "# Random Forest\n",
        "rf_clf = RandomForestClassifier()\n",
        "rf_parameters = {\n",
        "    'n_estimators': range(10, 30, 5), \n",
        "    'max_depth': range(3, 10, 1), \n",
        "    'min_samples_leaf': range(1, 7), \n",
        "    'min_samples_split': range(4, 12, 2)}"
      ],
      "execution_count": 0,
      "outputs": []
    },
    {
      "cell_type": "code",
      "metadata": {
        "id": "Uy3QE9oswKVt",
        "colab_type": "code",
        "colab": {}
      },
      "source": [
        "clf_final_rf = grid_search(rf_clf, rf_parameters, X_train, y_train)"
      ],
      "execution_count": 0,
      "outputs": []
    },
    {
      "cell_type": "code",
      "metadata": {
        "id": "T6ULv7RTwPs2",
        "colab_type": "code",
        "colab": {
          "base_uri": "https://localhost:8080/",
          "height": 34
        },
        "outputId": "a997f21a-913e-4cae-b4c4-79be2953800f"
      },
      "source": [
        "clf_final_rf.get('best_estimator_').score(X_test, y_test)"
      ],
      "execution_count": 64,
      "outputs": [
        {
          "output_type": "execute_result",
          "data": {
            "text/plain": [
              "0.9935327405012127"
            ]
          },
          "metadata": {
            "tags": []
          },
          "execution_count": 64
        }
      ]
    },
    {
      "cell_type": "code",
      "metadata": {
        "id": "kuUKzBf0ycSz",
        "colab_type": "code",
        "colab": {}
      },
      "source": [
        "pred_proba = clf_final_rf.get('best_estimator_').predict_proba(X_test)\n",
        "roc_score = roc_auc_score(y_test, pred_proba[:, 1])"
      ],
      "execution_count": 0,
      "outputs": []
    },
    {
      "cell_type": "code",
      "metadata": {
        "id": "6DnhReNXyuM5",
        "colab_type": "code",
        "colab": {
          "base_uri": "https://localhost:8080/",
          "height": 34
        },
        "outputId": "b14efe16-76a8-4bc4-aa3c-06f49e366d16"
      },
      "source": [
        "roc_score"
      ],
      "execution_count": 71,
      "outputs": [
        {
          "output_type": "execute_result",
          "data": {
            "text/plain": [
              "0.9993409680207432"
            ]
          },
          "metadata": {
            "tags": []
          },
          "execution_count": 71
        }
      ]
    },
    {
      "cell_type": "code",
      "metadata": {
        "id": "9h3qotKry3Fx",
        "colab_type": "code",
        "colab": {}
      },
      "source": [
        "clf_cv = RandomForestClassifier(**clf_final_rf.get('best_estimator_').get_params())\n",
        "cv_scores = cross_val_score(clf_cv, X, y, scoring='roc_auc', cv=10, n_jobs=-1)\n",
        "mean_cv_scores = np.mean(cv_scores)"
      ],
      "execution_count": 0,
      "outputs": []
    },
    {
      "cell_type": "code",
      "metadata": {
        "id": "uDbuNOzJzWWd",
        "colab_type": "code",
        "colab": {
          "base_uri": "https://localhost:8080/",
          "height": 34
        },
        "outputId": "69abd97b-a848-4307-bb3a-cb026678e64f"
      },
      "source": [
        "mean_cv_scores"
      ],
      "execution_count": 84,
      "outputs": [
        {
          "output_type": "execute_result",
          "data": {
            "text/plain": [
              "0.9978011793069745"
            ]
          },
          "metadata": {
            "tags": []
          },
          "execution_count": 84
        }
      ]
    },
    {
      "cell_type": "code",
      "metadata": {
        "id": "omhzE-vE0hzw",
        "colab_type": "code",
        "colab": {}
      },
      "source": [
        "# попробуем с полными данными "
      ],
      "execution_count": 0,
      "outputs": []
    },
    {
      "cell_type": "code",
      "metadata": {
        "id": "YWKk2pXKQM_r",
        "colab_type": "code",
        "colab": {}
      },
      "source": [
        "# полные варианты таблиц из https://stepik.org/lesson/222124/step/3?unit=195045\n",
        "submissions_full = pd.read_csv('https://stepik.org/media/attachments/course/4852/submissions_data_train.zip')\n",
        "events_full = pd.read_csv('https://stepik.org/media/attachments/course/4852/event_data_train.zip')"
      ],
      "execution_count": 0,
      "outputs": []
    },
    {
      "cell_type": "code",
      "metadata": {
        "id": "XS7xnLo_0mjT",
        "colab_type": "code",
        "colab": {}
      },
      "source": [
        ""
      ],
      "execution_count": 0,
      "outputs": []
    }
  ]
}