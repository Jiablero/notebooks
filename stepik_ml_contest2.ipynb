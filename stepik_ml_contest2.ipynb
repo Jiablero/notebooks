{
  "nbformat": 4,
  "nbformat_minor": 0,
  "metadata": {
    "kernelspec": {
      "display_name": "Python 3",
      "language": "python",
      "name": "python3"
    },
    "language_info": {
      "codemirror_mode": {
        "name": "ipython",
        "version": 3
      },
      "file_extension": ".py",
      "mimetype": "text/x-python",
      "name": "python",
      "nbconvert_exporter": "python",
      "pygments_lexer": "ipython3",
      "version": "3.7.1"
    },
    "colab": {
      "name": "stepik_ml_contest2.ipynb",
      "provenance": [],
      "include_colab_link": true
    }
  },
  "cells": [
    {
      "cell_type": "markdown",
      "metadata": {
        "id": "view-in-github",
        "colab_type": "text"
      },
      "source": [
        "<a href=\"https://colab.research.google.com/github/Jiablero/notebooks/blob/master/stepik_ml_contest2.ipynb\" target=\"_parent\"><img src=\"https://colab.research.google.com/assets/colab-badge.svg\" alt=\"Open In Colab\"/></a>"
      ]
    },
    {
      "cell_type": "markdown",
      "metadata": {
        "id": "zRpqb0qIjcJB",
        "colab_type": "text"
      },
      "source": [
        "# 2.9.Stepik ML contest\n",
        "\n",
        "Мы продолжаем предсказывать отток студентов с курса по Анализу данных в R. В этом модуле мы завершим подготовительный этап и доведем данные до состояния, когда можно обучить первый вариант модели!"
      ]
    },
    {
      "cell_type": "markdown",
      "metadata": {
        "id": "u-QaYz-8jcJD",
        "colab_type": "text"
      },
      "source": [
        "## step 2"
      ]
    },
    {
      "cell_type": "markdown",
      "metadata": {
        "id": "mUiwyae-jcJE",
        "colab_type": "text"
      },
      "source": [
        "Итак, возвращаемся к нашей практической задаче - предсказание оттоков пользователей со степика.\n",
        "\n",
        "В первом модуле мы закончили довольно важный и при этом довольно понятный этап для любой задачи, возникающей в `machine-learning`, аналитике, `data-mining` и т.д. У нас просто были какие-то сырые данные, и мы привели их к более понятному виду. Мы их смёрджили, предобработали, агрегировали. Мы как минимум получили понятную историю в этих данных, посмотрели, что всё с этими данными всё хорошо и с ними можно работать.\n",
        "\n",
        "На самом деле ещё даже до применения моделей (особенно когда речь идёт о продуктовой аналитике и у нас есть цель скажем, разобраться почему пользователи дропаются) уже какие-то гипотезы можно получить, просто посмотрев на такой промежуточный агрегат. \n",
        "\n",
        "Допустим, уже сейчас можно изучить последние сессии дропнувшихся пользователей и убедиться в том, что один из таких частых сценариев - это когда человек натыкается на какую-то сложную задачу, очень долго подряд не может её решить и потом уже никогда к нашему курсу не возвращается.\n",
        "\n",
        "В своё время, когда автор курса работал в степике, он первым делом пробежался по своим курсам и отредактировал довольно много задач. Особенно в курсе по `R`. Буквально в первом-втором уроке была сложная задача на работу с временными рядами и временные ряды до этого не обсуждались. Автору казалось, что самостоятельная работа слушателей с материалами по данной теме приведёт к положительному эффекту. На практике выяснилось, что огромное количество людей доходили до этой задачи, не могли её решить и больше никогда не появлялись на этом курсе.\n",
        "\n",
        "И тут уже некоторый описательный анализ данных помог эту задачу изменить. на была перенесена в конец урока, выведена под звёздочку, было сказано, что необязательно решать её сейчас, поскольку можно пройти по курсу вперёд, а потом вернуться к её решению. И это в дальнейшем повлияло на результат.\n",
        "\n",
        "Таким образом, некоторые интересные вещи ещё до моделирования, до обучения могут броситься в глаза.\n",
        "\n",
        "Сейчас перед нами стоит задача продвинуться чуть дальше и привести данные к тому формату, когда уже можно будет обучать какие-то модели, делать интересные предсказания. \n",
        "\n",
        "Давайте переформулируем нашу задачу на язык машинного обучения. Наша цель как можно раньше предсказать, что пользователь уйдёт с курса `\"Анализ данных в R\"` и давайте для начала решим первую версию задачи. Для этого ответим на опрос - \"можем ли мы, анализируя поведения пользователя за первые N дней, предсказать тот факт, что пользователь пройдёт курс до конца или дропнется и не наберёт нужное количество баллов?\"."
      ]
    },
    {
      "cell_type": "markdown",
      "metadata": {
        "id": "OW3W-hc3jcJF",
        "colab_type": "text"
      },
      "source": [
        "## Подгрузка предыдущих наработок\n",
        "\n",
        "Подгружу в данный ноутбук наши ранее выполненные наработки."
      ]
    },
    {
      "cell_type": "code",
      "metadata": {
        "id": "vkP1VFIwjcJG",
        "colab_type": "code",
        "colab": {
          "base_uri": "https://localhost:8080/",
          "height": 71
        },
        "outputId": "cb2ed533-9768-4685-cc6a-1d8a28011a7e"
      },
      "source": [
        "import pandas as pd\n",
        "import numpy as np\n",
        "\n",
        "%matplotlib inline\n",
        "import matplotlib.pyplot as plt\n",
        "import seaborn as sns\n",
        "\n",
        "# reading datasets\n",
        "events_data = pd.read_csv('event_data_train.zip', compression='zip')\n",
        "submissions_data = pd.read_csv('submissions_data_train.zip', compression='zip')"
      ],
      "execution_count": 1,
      "outputs": [
        {
          "output_type": "stream",
          "text": [
            "/usr/local/lib/python3.6/dist-packages/statsmodels/tools/_testing.py:19: FutureWarning: pandas.util.testing is deprecated. Use the functions in the public API at pandas.testing instead.\n",
            "  import pandas.util.testing as tm\n"
          ],
          "name": "stderr"
        }
      ]
    },
    {
      "cell_type": "code",
      "metadata": {
        "id": "Yqqd2Xm4jcJK",
        "colab_type": "code",
        "colab": {}
      },
      "source": [
        "# adding new columns\n",
        "events_data['date'] = pd.to_datetime(events_data.timestamp, unit='s')\n",
        "events_data['day'] = events_data.date.dt.date\n",
        "\n",
        "submissions_data['date'] = pd.to_datetime(submissions_data.timestamp, unit='s')\n",
        "submissions_data['day'] = submissions_data.date.dt.date\n",
        "\n",
        "# calculating for each user count correct submimit\n",
        "users_scores = submissions_data.pivot_table(index='user_id',\n",
        "                        columns='submission_status',\n",
        "                        values='step_id',\n",
        "                        aggfunc='count',\n",
        "                        fill_value=0).reset_index()\n",
        "\n",
        "users_data = events_data.groupby('user_id', as_index=False) \\\n",
        "    .agg({'timestamp': 'max'}).rename(columns={\n",
        "    'timestamp': 'last_timestamp'\n",
        "})\n",
        "\n",
        "now = 1526772811\n",
        "drop_out_treshold = 30 * 24 * 60 * 60 # пороговое значение\n",
        "users_data['is_gone_user'] = (now - users_data.last_timestamp) > drop_out_treshold\n",
        "\n",
        "users_data = users_data.merge(users_scores, on='user_id', how='outer')\n",
        "users_data = users_data.fillna(0)\n",
        "\n",
        "users_events_data = events_data.pivot_table(index='user_id',\n",
        "                        columns='action',\n",
        "                        values='step_id', \n",
        "                        aggfunc='count', \n",
        "                        fill_value=0).reset_index()\n",
        "users_data = users_data.merge(users_events_data, how='outer')\n",
        "\n",
        "users_days = events_data.groupby('user_id').day.nunique()\n",
        "users_days = events_data.groupby('user_id').day.nunique().to_frame().reset_index()\n",
        "users_data = users_data.merge(users_days, how='outer')\n",
        "\n",
        "users_data['passed_course'] = users_data.passed > 175"
      ],
      "execution_count": 0,
      "outputs": []
    },
    {
      "cell_type": "code",
      "metadata": {
        "id": "eGFg_NfrjcJO",
        "colab_type": "code",
        "colab": {
          "base_uri": "https://localhost:8080/",
          "height": 224
        },
        "outputId": "194c5564-a0dc-4f75-cfe3-70109196e517"
      },
      "source": [
        "users_data.head()"
      ],
      "execution_count": 3,
      "outputs": [
        {
          "output_type": "execute_result",
          "data": {
            "text/html": [
              "<div>\n",
              "<style scoped>\n",
              "    .dataframe tbody tr th:only-of-type {\n",
              "        vertical-align: middle;\n",
              "    }\n",
              "\n",
              "    .dataframe tbody tr th {\n",
              "        vertical-align: top;\n",
              "    }\n",
              "\n",
              "    .dataframe thead th {\n",
              "        text-align: right;\n",
              "    }\n",
              "</style>\n",
              "<table border=\"1\" class=\"dataframe\">\n",
              "  <thead>\n",
              "    <tr style=\"text-align: right;\">\n",
              "      <th></th>\n",
              "      <th>user_id</th>\n",
              "      <th>last_timestamp</th>\n",
              "      <th>is_gone_user</th>\n",
              "      <th>correct</th>\n",
              "      <th>wrong</th>\n",
              "      <th>discovered</th>\n",
              "      <th>passed</th>\n",
              "      <th>started_attempt</th>\n",
              "      <th>viewed</th>\n",
              "      <th>day</th>\n",
              "      <th>passed_course</th>\n",
              "    </tr>\n",
              "  </thead>\n",
              "  <tbody>\n",
              "    <tr>\n",
              "      <th>0</th>\n",
              "      <td>1</td>\n",
              "      <td>1472827464</td>\n",
              "      <td>True</td>\n",
              "      <td>0.0</td>\n",
              "      <td>0.0</td>\n",
              "      <td>1</td>\n",
              "      <td>0</td>\n",
              "      <td>0</td>\n",
              "      <td>1</td>\n",
              "      <td>1</td>\n",
              "      <td>False</td>\n",
              "    </tr>\n",
              "    <tr>\n",
              "      <th>1</th>\n",
              "      <td>2</td>\n",
              "      <td>1519226966</td>\n",
              "      <td>True</td>\n",
              "      <td>2.0</td>\n",
              "      <td>0.0</td>\n",
              "      <td>9</td>\n",
              "      <td>9</td>\n",
              "      <td>2</td>\n",
              "      <td>10</td>\n",
              "      <td>2</td>\n",
              "      <td>False</td>\n",
              "    </tr>\n",
              "    <tr>\n",
              "      <th>2</th>\n",
              "      <td>3</td>\n",
              "      <td>1444581588</td>\n",
              "      <td>True</td>\n",
              "      <td>29.0</td>\n",
              "      <td>23.0</td>\n",
              "      <td>91</td>\n",
              "      <td>87</td>\n",
              "      <td>30</td>\n",
              "      <td>192</td>\n",
              "      <td>7</td>\n",
              "      <td>False</td>\n",
              "    </tr>\n",
              "    <tr>\n",
              "      <th>3</th>\n",
              "      <td>5</td>\n",
              "      <td>1499859939</td>\n",
              "      <td>True</td>\n",
              "      <td>2.0</td>\n",
              "      <td>2.0</td>\n",
              "      <td>11</td>\n",
              "      <td>11</td>\n",
              "      <td>4</td>\n",
              "      <td>12</td>\n",
              "      <td>2</td>\n",
              "      <td>False</td>\n",
              "    </tr>\n",
              "    <tr>\n",
              "      <th>4</th>\n",
              "      <td>7</td>\n",
              "      <td>1521634660</td>\n",
              "      <td>True</td>\n",
              "      <td>0.0</td>\n",
              "      <td>0.0</td>\n",
              "      <td>1</td>\n",
              "      <td>1</td>\n",
              "      <td>0</td>\n",
              "      <td>1</td>\n",
              "      <td>1</td>\n",
              "      <td>False</td>\n",
              "    </tr>\n",
              "  </tbody>\n",
              "</table>\n",
              "</div>"
            ],
            "text/plain": [
              "   user_id  last_timestamp  is_gone_user  ...  viewed  day  passed_course\n",
              "0        1      1472827464          True  ...       1    1          False\n",
              "1        2      1519226966          True  ...      10    2          False\n",
              "2        3      1444581588          True  ...     192    7          False\n",
              "3        5      1499859939          True  ...      12    2          False\n",
              "4        7      1521634660          True  ...       1    1          False\n",
              "\n",
              "[5 rows x 11 columns]"
            ]
          },
          "metadata": {
            "tags": []
          },
          "execution_count": 3
        }
      ]
    },
    {
      "cell_type": "code",
      "metadata": {
        "id": "DfiUmDjyjcJT",
        "colab_type": "code",
        "colab": {
          "base_uri": "https://localhost:8080/",
          "height": 34
        },
        "outputId": "b3ac9183-d5b6-4b75-edc8-e2108046afbe"
      },
      "source": [
        "# Проверка, что данные не потеряны\n",
        "users_data.user_id.nunique()"
      ],
      "execution_count": 4,
      "outputs": [
        {
          "output_type": "execute_result",
          "data": {
            "text/plain": [
              "19234"
            ]
          },
          "metadata": {
            "tags": []
          },
          "execution_count": 4
        }
      ]
    },
    {
      "cell_type": "code",
      "metadata": {
        "id": "xBKnlKkYjcJX",
        "colab_type": "code",
        "colab": {
          "base_uri": "https://localhost:8080/",
          "height": 34
        },
        "outputId": "0e7db1aa-99a2-400c-d7fc-0fdb69600e1b"
      },
      "source": [
        "events_data.user_id.nunique()"
      ],
      "execution_count": 5,
      "outputs": [
        {
          "output_type": "execute_result",
          "data": {
            "text/plain": [
              "19234"
            ]
          },
          "metadata": {
            "tags": []
          },
          "execution_count": 5
        }
      ]
    },
    {
      "cell_type": "markdown",
      "metadata": {
        "id": "-r10jmrujcJb",
        "colab_type": "text"
      },
      "source": [
        "Количество строк совпало, значит мы ничего не потеряли."
      ]
    },
    {
      "cell_type": "markdown",
      "metadata": {
        "id": "aUL6rkgHjcJc",
        "colab_type": "text"
      },
      "source": [
        "## step 3"
      ]
    },
    {
      "cell_type": "markdown",
      "metadata": {
        "id": "IUi64fVFjcJd",
        "colab_type": "text"
      },
      "source": [
        "На предыдущем этапе мы остановились на том, что предобработали данные и сделали сводную выгрузку users_data. \n",
        "\n",
        "Из сырых логов и разных источников мы свели все данные воедино. И, в принципе, можно наполнить эту табличку ещё несколькими важными колонками, но сейчас основная идея этой таблички была в том, что у нас были сырые логи, а теперь есть датафрейм users_data, в котором про каждого пользователя мы знаем:\n",
        "\n",
        "+ его статус на текущий момент (правда ли, что он закончил курс успешно / дропнулся), + сколько он сделал попыток,   \n",
        "+ когда его последний раз видели на курсе.\n",
        "\n",
        "То есть пока ещё датафрейм, наверное, не очень применим для какого-то машинного обучения, хотя какие-то гипотезы можно уже и отсюда повытаскивать. Однако этот датафрейм нам точно потребуется ещё не раз, потому что, например, его можно использовать для разметки нашей выборки.\n",
        "\n",
        "Теперь давайте подбираться к нашей первой задаче машинного обучения - попробуем, анализируя поведение пользователя за его первые несколько дней, после которых он начал курс, предсказать - правда ли, что он успешно закончит курсу или дропнется с него.\n",
        "\n",
        "Для начала можно предположить, что мы можем использовать, скажем, первые 2-3 дня. Вообще, есл бы мы решали эту задачу по-настоящему - это как раз тот пример. когда у нас нет готового правильного ответа на вопрос \"сколько первых дней нам нужно, чтобы предсказать уйдёт пользователь с курса или нет?\". Поэтому можно попробовать разные пороги, нащупать какой-то оптимальный баланс времени и качества. Понятное дело, что если мы будем использовать первые две недели, то мы слишком поздно будем реагировать. Если мы будем пытаться предсказывать поведение пользователя за первые два часа с момента его начала работы с курсом - это, конечно, здорово, но возможно мы потеряем в точности.\n",
        "\n",
        "Поэтому нужно экспериментировать и давайте начнём, например, с 3-х дней. Для начала можно в принципе проверить насколько это адекватно, потому что у нас есть данные про то сколько уникальных дней пользователь потратил на прохождение курса - колонка day. Можно посчитать медиану, предварительно отобрав только те наблюдения, у которых `passed_course = True`.\n",
        "\n",
        "Обратите внимание, что это уже вектор True\\False, поэтому можно просто передать его в качестве фильтра. Хотя это возможно не очень правильно, но так можно сделать.\n",
        "\n",
        "добавим ещё одну колонку - когда пользователь первый раз появился на курсе."
      ]
    },
    {
      "cell_type": "code",
      "metadata": {
        "id": "tbMQvN_WjcJe",
        "colab_type": "code",
        "colab": {
          "base_uri": "https://localhost:8080/",
          "height": 34
        },
        "outputId": "c09006c2-2353-4ec3-c798-cb63562bd315"
      },
      "source": [
        "users_data[users_data.passed_course].day.median()"
      ],
      "execution_count": 6,
      "outputs": [
        {
          "output_type": "execute_result",
          "data": {
            "text/plain": [
              "21.0"
            ]
          },
          "metadata": {
            "tags": []
          },
          "execution_count": 6
        }
      ]
    },
    {
      "cell_type": "markdown",
      "metadata": {
        "id": "KehOr8eMjcJj",
        "colab_type": "text"
      },
      "source": [
        "Мы видим, что медиана у нас 20 дней. Если построить гистограмму, то мы увидим типично скошенную метрику."
      ]
    },
    {
      "cell_type": "code",
      "metadata": {
        "id": "mEweHlOvjcJj",
        "colab_type": "code",
        "colab": {
          "base_uri": "https://localhost:8080/",
          "height": 282
        },
        "outputId": "9b20f499-a29d-4c7f-b6af-4229517e02f3"
      },
      "source": [
        "users_data[users_data.passed_course].day.hist()"
      ],
      "execution_count": 7,
      "outputs": [
        {
          "output_type": "execute_result",
          "data": {
            "text/plain": [
              "<matplotlib.axes._subplots.AxesSubplot at 0x7f9c02a21a58>"
            ]
          },
          "metadata": {
            "tags": []
          },
          "execution_count": 7
        },
        {
          "output_type": "display_data",
          "data": {
            "image/png": "[encoded data removed]",
            "text/plain": [
              "<Figure size 432x288 with 1 Axes>"
            ]
          },
          "metadata": {
            "tags": [],
            "needs_background": "light"
          }
        }
      ]
    },
    {
      "cell_type": "markdown",
      "metadata": {
        "id": "VCAmZqyejcJn",
        "colab_type": "text"
      },
      "source": [
        "Кстати, это тоже интересное наблюдение - большинство метрик, как-то характеризующих взаимодействие пользователя с продуктом, очень часто распределены не нормально. Скажем, процент лайков, репостов в соцсетях, количество дней, затраченных пользователями на прохождение курса, число решённых задач и т.д. Скорее всего это будет ненормальное распределение (готовьтесь к этому). Такие классические симметричные распределения на самом деле в реальной практике на самом деле попадаются довольно редко.\n",
        "\n",
        "Мы видим, что медиана 20, т.е. половина пользователей решает более 20 дней, поэтому 3 дня кажется адекватным порогом. Попробуем предсказать"
      ]
    },
    {
      "cell_type": "markdown",
      "metadata": {
        "id": "sdmRhFVqjcJo",
        "colab_type": "text"
      },
      "source": [
        "## step 4"
      ]
    },
    {
      "cell_type": "markdown",
      "metadata": {
        "id": "hqCzCuhdjcJp",
        "colab_type": "text"
      },
      "source": [
        "Итак, наша первая задача: отобрать те наблюдения, которые мы будем использовать для обучения `events_data`, т.е. события, происходящие с пользователем в течение его первых трёх дней из общего датафрейма.\n",
        "\n",
        "Сейчас здесь для каждого пользователя лежит вся его информация про все его действия на протяжении всей истории, доступной нам в этой выгрузке. Нам бы нужно для каждого юзера отобрать только его события, укладывающиеся в диапазон от его первого события плюс 3 дня. \n",
        "\n",
        "Как же это сделать?\n",
        "\n",
        "Отберём данные о первых активных действиях пользователя на курсе:"
      ]
    },
    {
      "cell_type": "code",
      "metadata": {
        "id": "WjvS4o49jcJp",
        "colab_type": "code",
        "colab": {}
      },
      "source": [
        "user_min_time = events_data.groupby('user_id', as_index=False) \\\n",
        "    .agg({'timestamp': 'min'}) \\\n",
        "    .rename({'timestamp': 'min_timestamp'}, axis=1)"
      ],
      "execution_count": 0,
      "outputs": []
    },
    {
      "cell_type": "code",
      "metadata": {
        "id": "aegGaO7njcJu",
        "colab_type": "code",
        "colab": {
          "base_uri": "https://localhost:8080/",
          "height": 204
        },
        "outputId": "043ac21e-8103-49ee-c4f0-120e91d36d3f"
      },
      "source": [
        "user_min_time.head()"
      ],
      "execution_count": 10,
      "outputs": [
        {
          "output_type": "execute_result",
          "data": {
            "text/html": [
              "<div>\n",
              "<style scoped>\n",
              "    .dataframe tbody tr th:only-of-type {\n",
              "        vertical-align: middle;\n",
              "    }\n",
              "\n",
              "    .dataframe tbody tr th {\n",
              "        vertical-align: top;\n",
              "    }\n",
              "\n",
              "    .dataframe thead th {\n",
              "        text-align: right;\n",
              "    }\n",
              "</style>\n",
              "<table border=\"1\" class=\"dataframe\">\n",
              "  <thead>\n",
              "    <tr style=\"text-align: right;\">\n",
              "      <th></th>\n",
              "      <th>user_id</th>\n",
              "      <th>min_timestamp</th>\n",
              "    </tr>\n",
              "  </thead>\n",
              "  <tbody>\n",
              "    <tr>\n",
              "      <th>0</th>\n",
              "      <td>1</td>\n",
              "      <td>1472827464</td>\n",
              "    </tr>\n",
              "    <tr>\n",
              "      <th>1</th>\n",
              "      <td>2</td>\n",
              "      <td>1514383364</td>\n",
              "    </tr>\n",
              "    <tr>\n",
              "      <th>2</th>\n",
              "      <td>3</td>\n",
              "      <td>1434358476</td>\n",
              "    </tr>\n",
              "    <tr>\n",
              "      <th>3</th>\n",
              "      <td>5</td>\n",
              "      <td>1466156809</td>\n",
              "    </tr>\n",
              "    <tr>\n",
              "      <th>4</th>\n",
              "      <td>7</td>\n",
              "      <td>1521634660</td>\n",
              "    </tr>\n",
              "  </tbody>\n",
              "</table>\n",
              "</div>"
            ],
            "text/plain": [
              "   user_id  min_timestamp\n",
              "0        1     1472827464\n",
              "1        2     1514383364\n",
              "2        3     1434358476\n",
              "3        5     1466156809\n",
              "4        7     1521634660"
            ]
          },
          "metadata": {
            "tags": []
          },
          "execution_count": 10
        }
      ]
    },
    {
      "cell_type": "markdown",
      "metadata": {
        "id": "h3u62a9qjcJ0",
        "colab_type": "text"
      },
      "source": [
        "Теперь мы можем добавить эту информацию в наш исходный датасет:"
      ]
    },
    {
      "cell_type": "code",
      "metadata": {
        "id": "WEpvI9amjcJ0",
        "colab_type": "code",
        "colab": {}
      },
      "source": [
        "users_data = users_data.merge(user_min_time, how='outer')"
      ],
      "execution_count": 0,
      "outputs": []
    },
    {
      "cell_type": "code",
      "metadata": {
        "id": "As6NC3yajcJ4",
        "colab_type": "code",
        "colab": {
          "base_uri": "https://localhost:8080/",
          "height": 224
        },
        "outputId": "8fcad985-9bae-4127-e4dc-8c5271dcb37a"
      },
      "source": [
        "users_data.head()"
      ],
      "execution_count": 12,
      "outputs": [
        {
          "output_type": "execute_result",
          "data": {
            "text/html": [
              "<div>\n",
              "<style scoped>\n",
              "    .dataframe tbody tr th:only-of-type {\n",
              "        vertical-align: middle;\n",
              "    }\n",
              "\n",
              "    .dataframe tbody tr th {\n",
              "        vertical-align: top;\n",
              "    }\n",
              "\n",
              "    .dataframe thead th {\n",
              "        text-align: right;\n",
              "    }\n",
              "</style>\n",
              "<table border=\"1\" class=\"dataframe\">\n",
              "  <thead>\n",
              "    <tr style=\"text-align: right;\">\n",
              "      <th></th>\n",
              "      <th>user_id</th>\n",
              "      <th>last_timestamp</th>\n",
              "      <th>is_gone_user</th>\n",
              "      <th>correct</th>\n",
              "      <th>wrong</th>\n",
              "      <th>discovered</th>\n",
              "      <th>passed</th>\n",
              "      <th>started_attempt</th>\n",
              "      <th>viewed</th>\n",
              "      <th>day</th>\n",
              "      <th>passed_course</th>\n",
              "      <th>min_timestamp</th>\n",
              "    </tr>\n",
              "  </thead>\n",
              "  <tbody>\n",
              "    <tr>\n",
              "      <th>0</th>\n",
              "      <td>1</td>\n",
              "      <td>1472827464</td>\n",
              "      <td>True</td>\n",
              "      <td>0.0</td>\n",
              "      <td>0.0</td>\n",
              "      <td>1</td>\n",
              "      <td>0</td>\n",
              "      <td>0</td>\n",
              "      <td>1</td>\n",
              "      <td>1</td>\n",
              "      <td>False</td>\n",
              "      <td>1472827464</td>\n",
              "    </tr>\n",
              "    <tr>\n",
              "      <th>1</th>\n",
              "      <td>2</td>\n",
              "      <td>1519226966</td>\n",
              "      <td>True</td>\n",
              "      <td>2.0</td>\n",
              "      <td>0.0</td>\n",
              "      <td>9</td>\n",
              "      <td>9</td>\n",
              "      <td>2</td>\n",
              "      <td>10</td>\n",
              "      <td>2</td>\n",
              "      <td>False</td>\n",
              "      <td>1514383364</td>\n",
              "    </tr>\n",
              "    <tr>\n",
              "      <th>2</th>\n",
              "      <td>3</td>\n",
              "      <td>1444581588</td>\n",
              "      <td>True</td>\n",
              "      <td>29.0</td>\n",
              "      <td>23.0</td>\n",
              "      <td>91</td>\n",
              "      <td>87</td>\n",
              "      <td>30</td>\n",
              "      <td>192</td>\n",
              "      <td>7</td>\n",
              "      <td>False</td>\n",
              "      <td>1434358476</td>\n",
              "    </tr>\n",
              "    <tr>\n",
              "      <th>3</th>\n",
              "      <td>5</td>\n",
              "      <td>1499859939</td>\n",
              "      <td>True</td>\n",
              "      <td>2.0</td>\n",
              "      <td>2.0</td>\n",
              "      <td>11</td>\n",
              "      <td>11</td>\n",
              "      <td>4</td>\n",
              "      <td>12</td>\n",
              "      <td>2</td>\n",
              "      <td>False</td>\n",
              "      <td>1466156809</td>\n",
              "    </tr>\n",
              "    <tr>\n",
              "      <th>4</th>\n",
              "      <td>7</td>\n",
              "      <td>1521634660</td>\n",
              "      <td>True</td>\n",
              "      <td>0.0</td>\n",
              "      <td>0.0</td>\n",
              "      <td>1</td>\n",
              "      <td>1</td>\n",
              "      <td>0</td>\n",
              "      <td>1</td>\n",
              "      <td>1</td>\n",
              "      <td>False</td>\n",
              "      <td>1521634660</td>\n",
              "    </tr>\n",
              "  </tbody>\n",
              "</table>\n",
              "</div>"
            ],
            "text/plain": [
              "   user_id  last_timestamp  is_gone_user  ...  day  passed_course  min_timestamp\n",
              "0        1      1472827464          True  ...    1          False     1472827464\n",
              "1        2      1519226966          True  ...    2          False     1514383364\n",
              "2        3      1444581588          True  ...    7          False     1434358476\n",
              "3        5      1499859939          True  ...    2          False     1466156809\n",
              "4        7      1521634660          True  ...    1          False     1521634660\n",
              "\n",
              "[5 rows x 12 columns]"
            ]
          },
          "metadata": {
            "tags": []
          },
          "execution_count": 12
        }
      ]
    },
    {
      "cell_type": "markdown",
      "metadata": {
        "id": "m4cxmmWBjcJ8",
        "colab_type": "text"
      },
      "source": [
        "Теперь у нас есть информация не только про то, когда пользователь впервые был на курсе, но и когда он завершил своё действие на курсе - какой у него был последний `timestamp`.\n",
        "\n",
        "Теперь смотрите, довольно необычная задача и такую фильтрацию мы ещё не делали. Нам теперь нужно для данных, хранящихся в `events_data`, отобрать только наблюдения, проходящие по некоторому условию, а именно - у нас для каждого юзера есть некоторое его окно, в которое мы можем уместить нужные нам наблюдения, и их то и нужно отобрать.\n",
        "\n",
        "Задача довольно интересная, потому что это такая нетривиальная фильтрация и решить её можно несколькими способами.\n",
        "\n",
        "Давайте попробуем начать с самого неправильного."
      ]
    },
    {
      "cell_type": "markdown",
      "metadata": {
        "id": "eBNVfWI5jcJ8",
        "colab_type": "text"
      },
      "source": [
        "### \"Неправильный\" способ\n",
        "\n",
        "На самом деле неправильным его можно назвать в кавычках, это такой наиболее интуитивный способ. \n",
        "\n",
        "Смотрите, что у нас происходит. Если мы хотим отобрать для каждого пользователя только нужную часть данных о нём, мы могли бы воспользоваться вот таким подходом:"
      ]
    },
    {
      "cell_type": "code",
      "metadata": {
        "id": "aJ1g6V6HjcJ9",
        "colab_type": "code",
        "colab": {}
      },
      "source": [
        "event_data_train = pd.DataFrame() # сюда сложим уже отобранные данные"
      ],
      "execution_count": 0,
      "outputs": []
    },
    {
      "cell_type": "markdown",
      "metadata": {
        "id": "Rt8KnwbojcKA",
        "colab_type": "text"
      },
      "source": [
        "А дальше просто написали бы такой цикл:"
      ]
    },
    {
      "cell_type": "code",
      "metadata": {
        "id": "QLkqE3WcjcKB",
        "colab_type": "code",
        "colab": {}
      },
      "source": [
        "for user_id in users_data.user_id:\n",
        "    min_user_time = users_data[users_data.user_id == user_id].min_timestamp.item()\n",
        "    break"
      ],
      "execution_count": 0,
      "outputs": []
    },
    {
      "cell_type": "code",
      "metadata": {
        "id": "2OUgpnSPjcKE",
        "colab_type": "code",
        "colab": {
          "base_uri": "https://localhost:8080/",
          "height": 34
        },
        "outputId": "ea027216-eab8-4b4b-c68b-a2f187ba9c63"
      },
      "source": [
        "min_user_time"
      ],
      "execution_count": 15,
      "outputs": [
        {
          "output_type": "execute_result",
          "data": {
            "text/plain": [
              "1472827464"
            ]
          },
          "metadata": {
            "tags": []
          },
          "execution_count": 15
        }
      ]
    },
    {
      "cell_type": "code",
      "metadata": {
        "id": "1KRBE4oOjcKJ",
        "colab_type": "code",
        "colab": {
          "base_uri": "https://localhost:8080/",
          "height": 34
        },
        "outputId": "e9a2be84-6d89-4f57-cd3c-8d0ced36af5a"
      },
      "source": [
        "user_id"
      ],
      "execution_count": 16,
      "outputs": [
        {
          "output_type": "execute_result",
          "data": {
            "text/plain": [
              "1"
            ]
          },
          "metadata": {
            "tags": []
          },
          "execution_count": 16
        }
      ]
    },
    {
      "cell_type": "markdown",
      "metadata": {
        "id": "EXyvdiv-jcKM",
        "colab_type": "text"
      },
      "source": [
        "Проверим, что всё правильно:\n",
        "+ выведем первые несколько строк из `users_data`\n",
        "+ посмотрим какое значение `min_timestamp` у записи с `user_id = 1`"
      ]
    },
    {
      "cell_type": "code",
      "metadata": {
        "id": "fBKFrCCZjcKN",
        "colab_type": "code",
        "colab": {
          "base_uri": "https://localhost:8080/",
          "height": 142
        },
        "outputId": "fc7a4cea-5f55-4653-95be-4ed50b4fc509"
      },
      "source": [
        "users_data[['user_id', 'min_timestamp']].head(3)"
      ],
      "execution_count": 17,
      "outputs": [
        {
          "output_type": "execute_result",
          "data": {
            "text/html": [
              "<div>\n",
              "<style scoped>\n",
              "    .dataframe tbody tr th:only-of-type {\n",
              "        vertical-align: middle;\n",
              "    }\n",
              "\n",
              "    .dataframe tbody tr th {\n",
              "        vertical-align: top;\n",
              "    }\n",
              "\n",
              "    .dataframe thead th {\n",
              "        text-align: right;\n",
              "    }\n",
              "</style>\n",
              "<table border=\"1\" class=\"dataframe\">\n",
              "  <thead>\n",
              "    <tr style=\"text-align: right;\">\n",
              "      <th></th>\n",
              "      <th>user_id</th>\n",
              "      <th>min_timestamp</th>\n",
              "    </tr>\n",
              "  </thead>\n",
              "  <tbody>\n",
              "    <tr>\n",
              "      <th>0</th>\n",
              "      <td>1</td>\n",
              "      <td>1472827464</td>\n",
              "    </tr>\n",
              "    <tr>\n",
              "      <th>1</th>\n",
              "      <td>2</td>\n",
              "      <td>1514383364</td>\n",
              "    </tr>\n",
              "    <tr>\n",
              "      <th>2</th>\n",
              "      <td>3</td>\n",
              "      <td>1434358476</td>\n",
              "    </tr>\n",
              "  </tbody>\n",
              "</table>\n",
              "</div>"
            ],
            "text/plain": [
              "   user_id  min_timestamp\n",
              "0        1     1472827464\n",
              "1        2     1514383364\n",
              "2        3     1434358476"
            ]
          },
          "metadata": {
            "tags": []
          },
          "execution_count": 17
        }
      ]
    },
    {
      "cell_type": "markdown",
      "metadata": {
        "id": "7hsisvUEjcKR",
        "colab_type": "text"
      },
      "source": [
        "Да, всё верно.\n",
        "\n",
        "А теперь сделаем нужную фильтрацию из исходного датафрейма"
      ]
    },
    {
      "cell_type": "code",
      "metadata": {
        "id": "HlWc6fZGjcKR",
        "colab_type": "code",
        "colab": {}
      },
      "source": [
        "for user_id in users_data.user_id:\n",
        "    min_user_time = users_data[users_data.user_id == user_id].min_timestamp.item()\n",
        "    time_treshold = min_user_time + 3 * 24 * 60 * 60 # minimal timestamp + 3 days in seconds\n",
        "    \n",
        "    user_events_data = events_data[(events_data.user_id == user_id) & (events_data.timestamp < time_treshold)]\n",
        "    \n",
        "    break"
      ],
      "execution_count": 0,
      "outputs": []
    },
    {
      "cell_type": "markdown",
      "metadata": {
        "id": "KpPKPbitjcKU",
        "colab_type": "text"
      },
      "source": [
        "**================================================= Важно ========================================================**\n",
        "\n",
        "Выход `break` из цикла после первой итерации - хорошая привычка. Когда вы разрабатываете какой-то сложный цикл - не нужно ждать, пока он весь отработает, есть смысл проверить корректность работы первой итерации.\n",
        "И только потом прогружать его полностью.\n",
        "\n",
        "**================================================================================================================**"
      ]
    },
    {
      "cell_type": "code",
      "metadata": {
        "id": "VyypjmuAjcKV",
        "colab_type": "code",
        "colab": {
          "base_uri": "https://localhost:8080/",
          "height": 111
        },
        "outputId": "2494017a-08d1-4cfe-eb79-ae8941ac54cd"
      },
      "source": [
        "user_events_data"
      ],
      "execution_count": 19,
      "outputs": [
        {
          "output_type": "execute_result",
          "data": {
            "text/html": [
              "<div>\n",
              "<style scoped>\n",
              "    .dataframe tbody tr th:only-of-type {\n",
              "        vertical-align: middle;\n",
              "    }\n",
              "\n",
              "    .dataframe tbody tr th {\n",
              "        vertical-align: top;\n",
              "    }\n",
              "\n",
              "    .dataframe thead th {\n",
              "        text-align: right;\n",
              "    }\n",
              "</style>\n",
              "<table border=\"1\" class=\"dataframe\">\n",
              "  <thead>\n",
              "    <tr style=\"text-align: right;\">\n",
              "      <th></th>\n",
              "      <th>step_id</th>\n",
              "      <th>timestamp</th>\n",
              "      <th>action</th>\n",
              "      <th>user_id</th>\n",
              "      <th>date</th>\n",
              "      <th>day</th>\n",
              "    </tr>\n",
              "  </thead>\n",
              "  <tbody>\n",
              "    <tr>\n",
              "      <th>1347416</th>\n",
              "      <td>31981</td>\n",
              "      <td>1472827464</td>\n",
              "      <td>viewed</td>\n",
              "      <td>1</td>\n",
              "      <td>2016-09-02 14:44:24</td>\n",
              "      <td>2016-09-02</td>\n",
              "    </tr>\n",
              "    <tr>\n",
              "      <th>1347417</th>\n",
              "      <td>31981</td>\n",
              "      <td>1472827464</td>\n",
              "      <td>discovered</td>\n",
              "      <td>1</td>\n",
              "      <td>2016-09-02 14:44:24</td>\n",
              "      <td>2016-09-02</td>\n",
              "    </tr>\n",
              "  </tbody>\n",
              "</table>\n",
              "</div>"
            ],
            "text/plain": [
              "         step_id   timestamp  ...                date         day\n",
              "1347416    31981  1472827464  ... 2016-09-02 14:44:24  2016-09-02\n",
              "1347417    31981  1472827464  ... 2016-09-02 14:44:24  2016-09-02\n",
              "\n",
              "[2 rows x 6 columns]"
            ]
          },
          "metadata": {
            "tags": []
          },
          "execution_count": 19
        }
      ]
    },
    {
      "cell_type": "markdown",
      "metadata": {
        "id": "9A7qB7FvjcKY",
        "colab_type": "text"
      },
      "source": [
        "Мы получили датафрейм для первого юзера из событий в его первые 3 дня на курсе. Всё корректно отработало - убираем `break` из цикла и наращиваем наш итоговый датафрейм."
      ]
    },
    {
      "cell_type": "code",
      "metadata": {
        "id": "VtC4ZNhujcKZ",
        "colab_type": "code",
        "colab": {
          "base_uri": "https://localhost:8080/",
          "height": 394
        },
        "outputId": "0e2dd5ee-69d1-418a-ae0a-7e01609e7ee1"
      },
      "source": [
        "for user_id in users_data.user_id:\n",
        "    min_user_time = users_data[users_data.user_id == user_id].min_timestamp.item()\n",
        "    time_treshold = min_user_time + 3 * 24 * 60 * 60 # minimal timestamp + 3 days in seconds\n",
        "    \n",
        "    user_events_data = events_data[(events_data.user_id == user_id) & (events_data.timestamp < time_treshold)]\n",
        "    \n",
        "    event_data_train.append(user_events_data)"
      ],
      "execution_count": 20,
      "outputs": [
        {
          "output_type": "error",
          "ename": "KeyboardInterrupt",
          "evalue": "ignored",
          "traceback": [
            "\u001b[0;31m---------------------------------------------------------------------------\u001b[0m",
            "\u001b[0;31mKeyboardInterrupt\u001b[0m                         Traceback (most recent call last)",
            "\u001b[0;32m<ipython-input-20-ce8b1c789bef>\u001b[0m in \u001b[0;36m<module>\u001b[0;34m()\u001b[0m\n\u001b[1;32m      3\u001b[0m     \u001b[0mtime_treshold\u001b[0m \u001b[0;34m=\u001b[0m \u001b[0mmin_user_time\u001b[0m \u001b[0;34m+\u001b[0m \u001b[0;36m3\u001b[0m \u001b[0;34m*\u001b[0m \u001b[0;36m24\u001b[0m \u001b[0;34m*\u001b[0m \u001b[0;36m60\u001b[0m \u001b[0;34m*\u001b[0m \u001b[0;36m60\u001b[0m \u001b[0;31m# minimal timestamp + 3 days in seconds\u001b[0m\u001b[0;34m\u001b[0m\u001b[0;34m\u001b[0m\u001b[0m\n\u001b[1;32m      4\u001b[0m \u001b[0;34m\u001b[0m\u001b[0m\n\u001b[0;32m----> 5\u001b[0;31m     \u001b[0muser_events_data\u001b[0m \u001b[0;34m=\u001b[0m \u001b[0mevents_data\u001b[0m\u001b[0;34m[\u001b[0m\u001b[0;34m(\u001b[0m\u001b[0mevents_data\u001b[0m\u001b[0;34m.\u001b[0m\u001b[0muser_id\u001b[0m \u001b[0;34m==\u001b[0m \u001b[0muser_id\u001b[0m\u001b[0;34m)\u001b[0m \u001b[0;34m&\u001b[0m \u001b[0;34m(\u001b[0m\u001b[0mevents_data\u001b[0m\u001b[0;34m.\u001b[0m\u001b[0mtimestamp\u001b[0m \u001b[0;34m<\u001b[0m \u001b[0mtime_treshold\u001b[0m\u001b[0;34m)\u001b[0m\u001b[0;34m]\u001b[0m\u001b[0;34m\u001b[0m\u001b[0;34m\u001b[0m\u001b[0m\n\u001b[0m\u001b[1;32m      6\u001b[0m \u001b[0;34m\u001b[0m\u001b[0m\n\u001b[1;32m      7\u001b[0m     \u001b[0mevent_data_train\u001b[0m\u001b[0;34m.\u001b[0m\u001b[0mappend\u001b[0m\u001b[0;34m(\u001b[0m\u001b[0muser_events_data\u001b[0m\u001b[0;34m)\u001b[0m\u001b[0;34m\u001b[0m\u001b[0;34m\u001b[0m\u001b[0m\n",
            "\u001b[0;32m/usr/local/lib/python3.6/dist-packages/pandas/core/ops/common.py\u001b[0m in \u001b[0;36mnew_method\u001b[0;34m(self, other)\u001b[0m\n\u001b[1;32m     62\u001b[0m         \u001b[0mother\u001b[0m \u001b[0;34m=\u001b[0m \u001b[0mitem_from_zerodim\u001b[0m\u001b[0;34m(\u001b[0m\u001b[0mother\u001b[0m\u001b[0;34m)\u001b[0m\u001b[0;34m\u001b[0m\u001b[0;34m\u001b[0m\u001b[0m\n\u001b[1;32m     63\u001b[0m \u001b[0;34m\u001b[0m\u001b[0m\n\u001b[0;32m---> 64\u001b[0;31m         \u001b[0;32mreturn\u001b[0m \u001b[0mmethod\u001b[0m\u001b[0;34m(\u001b[0m\u001b[0mself\u001b[0m\u001b[0;34m,\u001b[0m \u001b[0mother\u001b[0m\u001b[0;34m)\u001b[0m\u001b[0;34m\u001b[0m\u001b[0;34m\u001b[0m\u001b[0m\n\u001b[0m\u001b[1;32m     65\u001b[0m \u001b[0;34m\u001b[0m\u001b[0m\n\u001b[1;32m     66\u001b[0m     \u001b[0;32mreturn\u001b[0m \u001b[0mnew_method\u001b[0m\u001b[0;34m\u001b[0m\u001b[0;34m\u001b[0m\u001b[0m\n",
            "\u001b[0;32m/usr/local/lib/python3.6/dist-packages/pandas/core/ops/__init__.py\u001b[0m in \u001b[0;36mwrapper\u001b[0;34m(self, other)\u001b[0m\n\u001b[1;32m    550\u001b[0m         \u001b[0mrvalues\u001b[0m \u001b[0;34m=\u001b[0m \u001b[0mextract_array\u001b[0m\u001b[0;34m(\u001b[0m\u001b[0mother\u001b[0m\u001b[0;34m,\u001b[0m \u001b[0mextract_numpy\u001b[0m\u001b[0;34m=\u001b[0m\u001b[0;32mTrue\u001b[0m\u001b[0;34m)\u001b[0m\u001b[0;34m\u001b[0m\u001b[0;34m\u001b[0m\u001b[0m\n\u001b[1;32m    551\u001b[0m \u001b[0;34m\u001b[0m\u001b[0m\n\u001b[0;32m--> 552\u001b[0;31m         \u001b[0mres_values\u001b[0m \u001b[0;34m=\u001b[0m \u001b[0mlogical_op\u001b[0m\u001b[0;34m(\u001b[0m\u001b[0mlvalues\u001b[0m\u001b[0;34m,\u001b[0m \u001b[0mrvalues\u001b[0m\u001b[0;34m,\u001b[0m \u001b[0mop\u001b[0m\u001b[0;34m)\u001b[0m\u001b[0;34m\u001b[0m\u001b[0;34m\u001b[0m\u001b[0m\n\u001b[0m\u001b[1;32m    553\u001b[0m         \u001b[0;32mreturn\u001b[0m \u001b[0m_construct_result\u001b[0m\u001b[0;34m(\u001b[0m\u001b[0mself\u001b[0m\u001b[0;34m,\u001b[0m \u001b[0mres_values\u001b[0m\u001b[0;34m,\u001b[0m \u001b[0mindex\u001b[0m\u001b[0;34m=\u001b[0m\u001b[0mself\u001b[0m\u001b[0;34m.\u001b[0m\u001b[0mindex\u001b[0m\u001b[0;34m,\u001b[0m \u001b[0mname\u001b[0m\u001b[0;34m=\u001b[0m\u001b[0mres_name\u001b[0m\u001b[0;34m)\u001b[0m\u001b[0;34m\u001b[0m\u001b[0;34m\u001b[0m\u001b[0m\n\u001b[1;32m    554\u001b[0m \u001b[0;34m\u001b[0m\u001b[0m\n",
            "\u001b[0;32m/usr/local/lib/python3.6/dist-packages/pandas/core/ops/array_ops.py\u001b[0m in \u001b[0;36mlogical_op\u001b[0;34m(left, right, op)\u001b[0m\n\u001b[1;32m    354\u001b[0m         \u001b[0;32mif\u001b[0m \u001b[0misinstance\u001b[0m\u001b[0;34m(\u001b[0m\u001b[0mrvalues\u001b[0m\u001b[0;34m,\u001b[0m \u001b[0mnp\u001b[0m\u001b[0;34m.\u001b[0m\u001b[0mndarray\u001b[0m\u001b[0;34m)\u001b[0m\u001b[0;34m:\u001b[0m\u001b[0;34m\u001b[0m\u001b[0;34m\u001b[0m\u001b[0m\n\u001b[1;32m    355\u001b[0m             \u001b[0mis_other_int_dtype\u001b[0m \u001b[0;34m=\u001b[0m \u001b[0mis_integer_dtype\u001b[0m\u001b[0;34m(\u001b[0m\u001b[0mrvalues\u001b[0m\u001b[0;34m.\u001b[0m\u001b[0mdtype\u001b[0m\u001b[0;34m)\u001b[0m\u001b[0;34m\u001b[0m\u001b[0;34m\u001b[0m\u001b[0m\n\u001b[0;32m--> 356\u001b[0;31m             \u001b[0mrvalues\u001b[0m \u001b[0;34m=\u001b[0m \u001b[0mrvalues\u001b[0m \u001b[0;32mif\u001b[0m \u001b[0mis_other_int_dtype\u001b[0m \u001b[0;32melse\u001b[0m \u001b[0mfill_bool\u001b[0m\u001b[0;34m(\u001b[0m\u001b[0mrvalues\u001b[0m\u001b[0;34m,\u001b[0m \u001b[0mlvalues\u001b[0m\u001b[0;34m)\u001b[0m\u001b[0;34m\u001b[0m\u001b[0;34m\u001b[0m\u001b[0m\n\u001b[0m\u001b[1;32m    357\u001b[0m \u001b[0;34m\u001b[0m\u001b[0m\n\u001b[1;32m    358\u001b[0m         \u001b[0;32melse\u001b[0m\u001b[0;34m:\u001b[0m\u001b[0;34m\u001b[0m\u001b[0;34m\u001b[0m\u001b[0m\n",
            "\u001b[0;32m/usr/local/lib/python3.6/dist-packages/pandas/core/ops/array_ops.py\u001b[0m in \u001b[0;36mfill_bool\u001b[0;34m(x, left)\u001b[0m\n\u001b[1;32m    334\u001b[0m \u001b[0;34m\u001b[0m\u001b[0m\n\u001b[1;32m    335\u001b[0m         \u001b[0;32mif\u001b[0m \u001b[0mleft\u001b[0m \u001b[0;32mis\u001b[0m \u001b[0;32mNone\u001b[0m \u001b[0;32mor\u001b[0m \u001b[0mis_bool_dtype\u001b[0m\u001b[0;34m(\u001b[0m\u001b[0mleft\u001b[0m\u001b[0;34m.\u001b[0m\u001b[0mdtype\u001b[0m\u001b[0;34m)\u001b[0m\u001b[0;34m:\u001b[0m\u001b[0;34m\u001b[0m\u001b[0;34m\u001b[0m\u001b[0m\n\u001b[0;32m--> 336\u001b[0;31m             \u001b[0mx\u001b[0m \u001b[0;34m=\u001b[0m \u001b[0mx\u001b[0m\u001b[0;34m.\u001b[0m\u001b[0mastype\u001b[0m\u001b[0;34m(\u001b[0m\u001b[0mbool\u001b[0m\u001b[0;34m)\u001b[0m\u001b[0;34m\u001b[0m\u001b[0;34m\u001b[0m\u001b[0m\n\u001b[0m\u001b[1;32m    337\u001b[0m         \u001b[0;32mreturn\u001b[0m \u001b[0mx\u001b[0m\u001b[0;34m\u001b[0m\u001b[0;34m\u001b[0m\u001b[0m\n\u001b[1;32m    338\u001b[0m \u001b[0;34m\u001b[0m\u001b[0m\n",
            "\u001b[0;31mKeyboardInterrupt\u001b[0m: "
          ]
        }
      ]
    },
    {
      "cell_type": "markdown",
      "metadata": {
        "id": "DvkjwsPAjcKc",
        "colab_type": "text"
      },
      "source": [
        "Но! Выполнение данного блока кода займёт очень длительное время. Причина в том, что такого рода операции над датафреймами очень затратные, поскольку выполняются: фильтрация, append не очень эффективен.\n",
        "\n",
        "В общем, такой подход выбивается из кода, написанного ранее и такой код не `pandas way`.\n",
        "\n",
        "А что же тогда `pandas way`?\n",
        "\n",
        "Одной командой, одной маской сделать `event_data_train`, указав, что это `event_data` с некоторым условием:"
      ]
    },
    {
      "cell_type": "code",
      "metadata": {
        "id": "CYbxkaTWjcKc",
        "colab_type": "code",
        "colab": {
          "base_uri": "https://localhost:8080/",
          "height": 129
        },
        "outputId": "cf3f499d-8e6d-4128-e02f-1bc2209f78c1"
      },
      "source": [
        "event_data_train = event_data[]"
      ],
      "execution_count": 21,
      "outputs": [
        {
          "output_type": "error",
          "ename": "SyntaxError",
          "evalue": "ignored",
          "traceback": [
            "\u001b[0;36m  File \u001b[0;32m\"<ipython-input-21-17aeb9caa176>\"\u001b[0;36m, line \u001b[0;32m1\u001b[0m\n\u001b[0;31m    event_data_train = event_data[]\u001b[0m\n\u001b[0m                                  ^\u001b[0m\n\u001b[0;31mSyntaxError\u001b[0m\u001b[0;31m:\u001b[0m invalid syntax\n"
          ]
        }
      ]
    },
    {
      "cell_type": "markdown",
      "metadata": {
        "id": "NYUMu7zqjcKf",
        "colab_type": "text"
      },
      "source": [
        "То есть это такой путь, при котором наша задача решилась одним запросом на фильтр.\n",
        "\n",
        "Это довольно интересная задача и решить её можно разными способами. Это немного неочевидный ответ как её решить. "
      ]
    },
    {
      "cell_type": "markdown",
      "metadata": {
        "id": "Z7mJsj7pjcKg",
        "colab_type": "text"
      },
      "source": [
        "## step 5"
      ]
    },
    {
      "cell_type": "markdown",
      "metadata": {
        "id": "CCEwAGLgjcKh",
        "colab_type": "text"
      },
      "source": [
        "Итак, давайте попробуем придумать как нам сделать один запрос к нашим `events_data`, чтобы получить нужный результат, точнее, чтобы отобрать для каждого пользователя только события, вписывающиеся в промежуток первых трёх дней после начала курса.\n",
        "\n",
        "Как к этой задачке подойти?\n",
        "\n",
        "Мы не можем сделать фильтрацию только по `user_id`, нам нужно сложное комбинированное условие по `user_id` и `timestamp`. Для каждого `user_id` границы `timestamp` разные и как к этому подойти - непонятно.\n",
        "\n",
        "Давайте создадим в `events_data` новую колонку `user_time`:"
      ]
    },
    {
      "cell_type": "code",
      "metadata": {
        "id": "1rSo9teojcKi",
        "colab_type": "code",
        "colab": {}
      },
      "source": [
        "events_data['user_time'] = events_data.user_id.map(str) + '_' + events_data.timestamp.map(str)"
      ],
      "execution_count": 0,
      "outputs": []
    },
    {
      "cell_type": "markdown",
      "metadata": {
        "id": "ApRF1QDFjcKm",
        "colab_type": "text"
      },
      "source": [
        "Инструкция `map(str)` применит к каждому значению в столбце датафрейма функцию str() - т.е. приведёт все значения к строковому типу."
      ]
    },
    {
      "cell_type": "code",
      "metadata": {
        "id": "5U0jle_gjcKm",
        "colab_type": "code",
        "colab": {
          "base_uri": "https://localhost:8080/",
          "height": 204
        },
        "outputId": "8e125f25-5f84-408f-c281-2cdc12c59d75"
      },
      "source": [
        "events_data.head()"
      ],
      "execution_count": 23,
      "outputs": [
        {
          "output_type": "execute_result",
          "data": {
            "text/html": [
              "<div>\n",
              "<style scoped>\n",
              "    .dataframe tbody tr th:only-of-type {\n",
              "        vertical-align: middle;\n",
              "    }\n",
              "\n",
              "    .dataframe tbody tr th {\n",
              "        vertical-align: top;\n",
              "    }\n",
              "\n",
              "    .dataframe thead th {\n",
              "        text-align: right;\n",
              "    }\n",
              "</style>\n",
              "<table border=\"1\" class=\"dataframe\">\n",
              "  <thead>\n",
              "    <tr style=\"text-align: right;\">\n",
              "      <th></th>\n",
              "      <th>step_id</th>\n",
              "      <th>timestamp</th>\n",
              "      <th>action</th>\n",
              "      <th>user_id</th>\n",
              "      <th>date</th>\n",
              "      <th>day</th>\n",
              "      <th>user_time</th>\n",
              "    </tr>\n",
              "  </thead>\n",
              "  <tbody>\n",
              "    <tr>\n",
              "      <th>0</th>\n",
              "      <td>32815</td>\n",
              "      <td>1434340848</td>\n",
              "      <td>viewed</td>\n",
              "      <td>17632</td>\n",
              "      <td>2015-06-15 04:00:48</td>\n",
              "      <td>2015-06-15</td>\n",
              "      <td>17632_1434340848</td>\n",
              "    </tr>\n",
              "    <tr>\n",
              "      <th>1</th>\n",
              "      <td>32815</td>\n",
              "      <td>1434340848</td>\n",
              "      <td>passed</td>\n",
              "      <td>17632</td>\n",
              "      <td>2015-06-15 04:00:48</td>\n",
              "      <td>2015-06-15</td>\n",
              "      <td>17632_1434340848</td>\n",
              "    </tr>\n",
              "    <tr>\n",
              "      <th>2</th>\n",
              "      <td>32815</td>\n",
              "      <td>1434340848</td>\n",
              "      <td>discovered</td>\n",
              "      <td>17632</td>\n",
              "      <td>2015-06-15 04:00:48</td>\n",
              "      <td>2015-06-15</td>\n",
              "      <td>17632_1434340848</td>\n",
              "    </tr>\n",
              "    <tr>\n",
              "      <th>3</th>\n",
              "      <td>32811</td>\n",
              "      <td>1434340895</td>\n",
              "      <td>discovered</td>\n",
              "      <td>17632</td>\n",
              "      <td>2015-06-15 04:01:35</td>\n",
              "      <td>2015-06-15</td>\n",
              "      <td>17632_1434340895</td>\n",
              "    </tr>\n",
              "    <tr>\n",
              "      <th>4</th>\n",
              "      <td>32811</td>\n",
              "      <td>1434340895</td>\n",
              "      <td>viewed</td>\n",
              "      <td>17632</td>\n",
              "      <td>2015-06-15 04:01:35</td>\n",
              "      <td>2015-06-15</td>\n",
              "      <td>17632_1434340895</td>\n",
              "    </tr>\n",
              "  </tbody>\n",
              "</table>\n",
              "</div>"
            ],
            "text/plain": [
              "   step_id   timestamp  ...         day         user_time\n",
              "0    32815  1434340848  ...  2015-06-15  17632_1434340848\n",
              "1    32815  1434340848  ...  2015-06-15  17632_1434340848\n",
              "2    32815  1434340848  ...  2015-06-15  17632_1434340848\n",
              "3    32811  1434340895  ...  2015-06-15  17632_1434340895\n",
              "4    32811  1434340895  ...  2015-06-15  17632_1434340895\n",
              "\n",
              "[5 rows x 7 columns]"
            ]
          },
          "metadata": {
            "tags": []
          },
          "execution_count": 23
        }
      ]
    },
    {
      "cell_type": "markdown",
      "metadata": {
        "id": "mhsdqS7vjcKq",
        "colab_type": "text"
      },
      "source": [
        "Мы сшили идентификатор пользователя со значениями времени. \n",
        "\n",
        "Вынесем переменную порогового значения для `timestamp`, которую мы будем использовать далее:"
      ]
    },
    {
      "cell_type": "code",
      "metadata": {
        "id": "xvGlgq7tjcKq",
        "colab_type": "code",
        "colab": {
          "base_uri": "https://localhost:8080/",
          "height": 34
        },
        "outputId": "0ea7e917-0eb1-4350-b5c2-c3a399cfc39b"
      },
      "source": [
        "learning_time_treshold = 3 * 24 * 60 * 60\n",
        "learning_time_treshold"
      ],
      "execution_count": 25,
      "outputs": [
        {
          "output_type": "execute_result",
          "data": {
            "text/plain": [
              "259200"
            ]
          },
          "metadata": {
            "tags": []
          },
          "execution_count": 25
        }
      ]
    },
    {
      "cell_type": "markdown",
      "metadata": {
        "id": "4LxpRXi0jcKt",
        "colab_type": "text"
      },
      "source": [
        "Теперь давайте для каждого пользователя сделаем связку его идентификатора и максимального значения, которое можно использовать для того, чтобы продолжать работу.\n",
        "\n",
        "У нас есть уже подготовленный `user_min_time` и давайте теперь сделаем заготовленную серию, в которой для каждого пользователя будут проставлены его максимальное значение времени и сам идентификатор пользователя, после которого мы уже не будем эти данные использовать."
      ]
    },
    {
      "cell_type": "code",
      "metadata": {
        "id": "rpqKemgOjcKu",
        "colab_type": "code",
        "colab": {}
      },
      "source": [
        "user_learning_time_treshold = user_min_time.user_id.map(str) + '_' + (user_min_time.min_timestamp + learning_time_treshold).map(str)"
      ],
      "execution_count": 0,
      "outputs": []
    },
    {
      "cell_type": "code",
      "metadata": {
        "id": "E_UcDJXVjcKx",
        "colab_type": "code",
        "colab": {
          "base_uri": "https://localhost:8080/",
          "height": 119
        },
        "outputId": "4771b613-39da-46d8-d50b-9596049f4834"
      },
      "source": [
        "user_learning_time_treshold.head()"
      ],
      "execution_count": 27,
      "outputs": [
        {
          "output_type": "execute_result",
          "data": {
            "text/plain": [
              "0    1_1473086664\n",
              "1    2_1514642564\n",
              "2    3_1434617676\n",
              "3    5_1466416009\n",
              "4    7_1521893860\n",
              "dtype: object"
            ]
          },
          "metadata": {
            "tags": []
          },
          "execution_count": 27
        }
      ]
    },
    {
      "cell_type": "markdown",
      "metadata": {
        "id": "cGhfnakWjcK1",
        "colab_type": "text"
      },
      "source": [
        "## step 6"
      ]
    },
    {
      "cell_type": "markdown",
      "metadata": {
        "id": "W1somC0MjcK2",
        "colab_type": "text"
      },
      "source": [
        "Давайте вынесем результат этого вычисления в отдельную колонку. Можем, например, добавить в наш датафрейм, хранящий минильное время юзера. Это будет как раз минимум и максимум, который мы будем использовать для отсечения событий."
      ]
    },
    {
      "cell_type": "code",
      "metadata": {
        "id": "7QB175n6jcK2",
        "colab_type": "code",
        "colab": {}
      },
      "source": [
        "user_min_time['user_learning_time_treshold'] = user_learning_time_treshold"
      ],
      "execution_count": 0,
      "outputs": []
    },
    {
      "cell_type": "markdown",
      "metadata": {
        "id": "8Ysgrgk3jcK5",
        "colab_type": "text"
      },
      "source": [
        "Теперь начинается самое интересное - нам нужно просто данные про пороговое значение для каждого пользователя добавить в наш датафрейм `events_data`.\n",
        "\n",
        "Давайте сделаем мёрдж наших данных с датафреймом `user_min_time`, отобрав из него только нужные нам данные"
      ]
    },
    {
      "cell_type": "code",
      "metadata": {
        "id": "bSNBgzbJjcK6",
        "colab_type": "code",
        "colab": {}
      },
      "source": [
        "events_data = events_data.merge(user_min_time[['user_id', 'user_learning_time_treshold']], how='outer')"
      ],
      "execution_count": 0,
      "outputs": []
    },
    {
      "cell_type": "code",
      "metadata": {
        "id": "Rpv9ftMIjcK9",
        "colab_type": "code",
        "colab": {
          "base_uri": "https://localhost:8080/",
          "height": 34
        },
        "outputId": "f40963de-659b-4a69-f591-8266557fb82e"
      },
      "source": [
        "events_data.shape"
      ],
      "execution_count": 30,
      "outputs": [
        {
          "output_type": "execute_result",
          "data": {
            "text/plain": [
              "(3480703, 8)"
            ]
          },
          "metadata": {
            "tags": []
          },
          "execution_count": 30
        }
      ]
    },
    {
      "cell_type": "code",
      "metadata": {
        "id": "Rg5vhVgbjcLA",
        "colab_type": "code",
        "colab": {},
        "outputId": "fc5c6fec-9f5d-4e32-952f-10346af7e4fa"
      },
      "source": [
        "events_data.head()"
      ],
      "execution_count": 0,
      "outputs": [
        {
          "output_type": "execute_result",
          "data": {
            "text/html": [
              "<div>\n",
              "<style scoped>\n",
              "    .dataframe tbody tr th:only-of-type {\n",
              "        vertical-align: middle;\n",
              "    }\n",
              "\n",
              "    .dataframe tbody tr th {\n",
              "        vertical-align: top;\n",
              "    }\n",
              "\n",
              "    .dataframe thead th {\n",
              "        text-align: right;\n",
              "    }\n",
              "</style>\n",
              "<table border=\"1\" class=\"dataframe\">\n",
              "  <thead>\n",
              "    <tr style=\"text-align: right;\">\n",
              "      <th></th>\n",
              "      <th>step_id</th>\n",
              "      <th>timestamp</th>\n",
              "      <th>action</th>\n",
              "      <th>user_id</th>\n",
              "      <th>date</th>\n",
              "      <th>day</th>\n",
              "      <th>user_time</th>\n",
              "      <th>user_learning_time_treshold</th>\n",
              "    </tr>\n",
              "  </thead>\n",
              "  <tbody>\n",
              "    <tr>\n",
              "      <th>0</th>\n",
              "      <td>32815</td>\n",
              "      <td>1434340848</td>\n",
              "      <td>viewed</td>\n",
              "      <td>17632</td>\n",
              "      <td>2015-06-15 04:00:48</td>\n",
              "      <td>2015-06-15</td>\n",
              "      <td>17632_1434340848</td>\n",
              "      <td>17632_1434600048</td>\n",
              "    </tr>\n",
              "    <tr>\n",
              "      <th>1</th>\n",
              "      <td>32815</td>\n",
              "      <td>1434340848</td>\n",
              "      <td>passed</td>\n",
              "      <td>17632</td>\n",
              "      <td>2015-06-15 04:00:48</td>\n",
              "      <td>2015-06-15</td>\n",
              "      <td>17632_1434340848</td>\n",
              "      <td>17632_1434600048</td>\n",
              "    </tr>\n",
              "    <tr>\n",
              "      <th>2</th>\n",
              "      <td>32815</td>\n",
              "      <td>1434340848</td>\n",
              "      <td>discovered</td>\n",
              "      <td>17632</td>\n",
              "      <td>2015-06-15 04:00:48</td>\n",
              "      <td>2015-06-15</td>\n",
              "      <td>17632_1434340848</td>\n",
              "      <td>17632_1434600048</td>\n",
              "    </tr>\n",
              "    <tr>\n",
              "      <th>3</th>\n",
              "      <td>32811</td>\n",
              "      <td>1434340895</td>\n",
              "      <td>discovered</td>\n",
              "      <td>17632</td>\n",
              "      <td>2015-06-15 04:01:35</td>\n",
              "      <td>2015-06-15</td>\n",
              "      <td>17632_1434340895</td>\n",
              "      <td>17632_1434600048</td>\n",
              "    </tr>\n",
              "    <tr>\n",
              "      <th>4</th>\n",
              "      <td>32811</td>\n",
              "      <td>1434340895</td>\n",
              "      <td>viewed</td>\n",
              "      <td>17632</td>\n",
              "      <td>2015-06-15 04:01:35</td>\n",
              "      <td>2015-06-15</td>\n",
              "      <td>17632_1434340895</td>\n",
              "      <td>17632_1434600048</td>\n",
              "    </tr>\n",
              "  </tbody>\n",
              "</table>\n",
              "</div>"
            ],
            "text/plain": [
              "   step_id   timestamp      action  user_id                date         day  \\\n",
              "0    32815  1434340848      viewed    17632 2015-06-15 04:00:48  2015-06-15   \n",
              "1    32815  1434340848      passed    17632 2015-06-15 04:00:48  2015-06-15   \n",
              "2    32815  1434340848  discovered    17632 2015-06-15 04:00:48  2015-06-15   \n",
              "3    32811  1434340895  discovered    17632 2015-06-15 04:01:35  2015-06-15   \n",
              "4    32811  1434340895      viewed    17632 2015-06-15 04:01:35  2015-06-15   \n",
              "\n",
              "          user_time user_learning_time_treshold  \n",
              "0  17632_1434340848            17632_1434600048  \n",
              "1  17632_1434340848            17632_1434600048  \n",
              "2  17632_1434340848            17632_1434600048  \n",
              "3  17632_1434340895            17632_1434600048  \n",
              "4  17632_1434340895            17632_1434600048  "
            ]
          },
          "metadata": {
            "tags": []
          },
          "execution_count": 96
        }
      ]
    },
    {
      "cell_type": "markdown",
      "metadata": {
        "id": "gUOCCXsajcLD",
        "colab_type": "text"
      },
      "source": [
        "Нам теперь для каждого пользователя достаточно просто узнать - \"правда ли, что его время выполнения каждого действия вписыается в нужный нам диапазон?\".\n",
        "\n",
        "И тут нам на помощь приходит то, что строки можно сравнивать так же как инты."
      ]
    },
    {
      "cell_type": "code",
      "metadata": {
        "id": "wWvJxUfejcLE",
        "colab_type": "code",
        "colab": {}
      },
      "source": [
        "events_data_train = events_data[events_data.user_time <= events_data.user_learning_time_treshold]"
      ],
      "execution_count": 0,
      "outputs": []
    },
    {
      "cell_type": "code",
      "metadata": {
        "id": "PCaWszX2jcLG",
        "colab_type": "code",
        "colab": {
          "base_uri": "https://localhost:8080/",
          "height": 374
        },
        "outputId": "10d2aad4-c7a4-4c97-a0b1-fadee7c9573c"
      },
      "source": [
        "events_data_train.head()"
      ],
      "execution_count": 32,
      "outputs": [
        {
          "output_type": "execute_result",
          "data": {
            "text/html": [
              "<div>\n",
              "<style scoped>\n",
              "    .dataframe tbody tr th:only-of-type {\n",
              "        vertical-align: middle;\n",
              "    }\n",
              "\n",
              "    .dataframe tbody tr th {\n",
              "        vertical-align: top;\n",
              "    }\n",
              "\n",
              "    .dataframe thead th {\n",
              "        text-align: right;\n",
              "    }\n",
              "</style>\n",
              "<table border=\"1\" class=\"dataframe\">\n",
              "  <thead>\n",
              "    <tr style=\"text-align: right;\">\n",
              "      <th></th>\n",
              "      <th>step_id</th>\n",
              "      <th>timestamp</th>\n",
              "      <th>action</th>\n",
              "      <th>user_id</th>\n",
              "      <th>date</th>\n",
              "      <th>day</th>\n",
              "      <th>user_time</th>\n",
              "      <th>user_learning_time_treshold</th>\n",
              "    </tr>\n",
              "  </thead>\n",
              "  <tbody>\n",
              "    <tr>\n",
              "      <th>0</th>\n",
              "      <td>32815</td>\n",
              "      <td>1434340848</td>\n",
              "      <td>viewed</td>\n",
              "      <td>17632</td>\n",
              "      <td>2015-06-15 04:00:48</td>\n",
              "      <td>2015-06-15</td>\n",
              "      <td>17632_1434340848</td>\n",
              "      <td>17632_1434600048</td>\n",
              "    </tr>\n",
              "    <tr>\n",
              "      <th>1</th>\n",
              "      <td>32815</td>\n",
              "      <td>1434340848</td>\n",
              "      <td>passed</td>\n",
              "      <td>17632</td>\n",
              "      <td>2015-06-15 04:00:48</td>\n",
              "      <td>2015-06-15</td>\n",
              "      <td>17632_1434340848</td>\n",
              "      <td>17632_1434600048</td>\n",
              "    </tr>\n",
              "    <tr>\n",
              "      <th>2</th>\n",
              "      <td>32815</td>\n",
              "      <td>1434340848</td>\n",
              "      <td>discovered</td>\n",
              "      <td>17632</td>\n",
              "      <td>2015-06-15 04:00:48</td>\n",
              "      <td>2015-06-15</td>\n",
              "      <td>17632_1434340848</td>\n",
              "      <td>17632_1434600048</td>\n",
              "    </tr>\n",
              "    <tr>\n",
              "      <th>3</th>\n",
              "      <td>32811</td>\n",
              "      <td>1434340895</td>\n",
              "      <td>discovered</td>\n",
              "      <td>17632</td>\n",
              "      <td>2015-06-15 04:01:35</td>\n",
              "      <td>2015-06-15</td>\n",
              "      <td>17632_1434340895</td>\n",
              "      <td>17632_1434600048</td>\n",
              "    </tr>\n",
              "    <tr>\n",
              "      <th>4</th>\n",
              "      <td>32811</td>\n",
              "      <td>1434340895</td>\n",
              "      <td>viewed</td>\n",
              "      <td>17632</td>\n",
              "      <td>2015-06-15 04:01:35</td>\n",
              "      <td>2015-06-15</td>\n",
              "      <td>17632_1434340895</td>\n",
              "      <td>17632_1434600048</td>\n",
              "    </tr>\n",
              "  </tbody>\n",
              "</table>\n",
              "</div>"
            ],
            "text/plain": [
              "   step_id   timestamp  ...         user_time  user_learning_time_treshold\n",
              "0    32815  1434340848  ...  17632_1434340848             17632_1434600048\n",
              "1    32815  1434340848  ...  17632_1434340848             17632_1434600048\n",
              "2    32815  1434340848  ...  17632_1434340848             17632_1434600048\n",
              "3    32811  1434340895  ...  17632_1434340895             17632_1434600048\n",
              "4    32811  1434340895  ...  17632_1434340895             17632_1434600048\n",
              "\n",
              "[5 rows x 8 columns]"
            ]
          },
          "metadata": {
            "tags": []
          },
          "execution_count": 32
        }
      ]
    },
    {
      "cell_type": "code",
      "metadata": {
        "id": "iWIM4mH6jcLK",
        "colab_type": "code",
        "colab": {
          "base_uri": "https://localhost:8080/",
          "height": 34
        },
        "outputId": "73996389-1be6-4d8c-f8e1-bc058bf125a8"
      },
      "source": [
        "events_data_train.shape"
      ],
      "execution_count": 34,
      "outputs": [
        {
          "output_type": "execute_result",
          "data": {
            "text/plain": [
              "(1014985, 8)"
            ]
          },
          "metadata": {
            "tags": []
          },
          "execution_count": 34
        }
      ]
    },
    {
      "cell_type": "markdown",
      "metadata": {
        "id": "g3YzIet5jcLO",
        "colab_type": "text"
      },
      "source": [
        "## step 8"
      ]
    },
    {
      "cell_type": "markdown",
      "metadata": {
        "id": "Wqg38mwMjcLO",
        "colab_type": "text"
      },
      "source": [
        "Вот из таких мелочей и складывается большая часть времени работы с кодом в `data science`. Умение поперегонять данные в разные форматы, агрегировать, мерджить и т.д. \n",
        "\n",
        "И здесь важно, чтобы этот этап не упирался, во-первых, в ваше личное время - не нужно сидеть и 2 часа мёрджить две таблички. Хотя, к сожалению, по началу всё так и выглядит.\n",
        "\n",
        "И, во-вторых, важно, чтобы это не упиралось в производительность самой системы. Наш датафрейм в 3,5 млн записей - это уже тот датафрейм, на котором можно упереться в проблемы с производительностью. Например, на прошлом примере цикл for всё очень загрузил на большом объёме данных.\n",
        "\n",
        "Фильтрация, т.е. отбор данных - очень частая операция в нашей работе. Используя её нужно всегда задавать себе вопрос - а можно ли получить результат одним запросом, одной маской(одним логическим условием) к исходным данным.\n",
        "\n",
        "И здесь нам помогают мерджи. Поскольку мы можем замерджиться с другими данными, сделать новую колонку и сравнения логические поколоночно, которые происходят очень быстро.\n",
        "\n",
        "В итоге получается ответ, отрабатывающий практически мгновенно, хотя пробегает по этим же огромным данным, но не для каждого юзера в отдельности, а сразу для всех наблюдений, дающих нам нужный результат."
      ]
    },
    {
      "cell_type": "markdown",
      "metadata": {
        "id": "WlT0zdz7jcLQ",
        "colab_type": "text"
      },
      "source": [
        "## step 9"
      ]
    },
    {
      "cell_type": "markdown",
      "metadata": {
        "id": "dkTiap0djcLS",
        "colab_type": "text"
      },
      "source": [
        "На самом деле стоит отметить, что в примере с этим интересным мерджем, а потом фильтром по колонке (начало курса и некоторый порог) - нам необязательно было склеивать `timestamp` с `user_id`, достаточно просто было сделать колонку, отвечающую для каждого пользователя за начало курса и колонку, которая будет хранить пороговое значение. И для каждой строки можно было бы сделать обычное сравнение.\n",
        "\n",
        "Здесь же хотелось показать, что иногда полезно сделать необычные комбинации двух колонок, сливать в одну и потом это иногда может пригодиться, но конкретно в данном случае можно было завести две новые колонки и сделать интересный фильтр.\n",
        "\n",
        "Мораль всей этой истории скорее в том, что очень часто приходится делать довольно сложные фильтры по некоторому условию, которое зависит от некоторой величины в данных. \n",
        "\n",
        "Например, у нас есть какой-нибудь `user_id` и для каждого `user_id` нужно сделать какой-нибудь хитрый фильтр, для каждого свой. И здесь есть 2 пути:\n",
        "+ итерабельно в цикле говорим: для каждого `user_id` делаем подмножество исходного датафрейма, в подмножестве отбираем нужный кусочек, делаем `append` и снова находим следующего юзера\n",
        "+ делаем мердж с вспомогательным датасетом и после мерджа отбор нужных данных происходит за счёт сравнения двух колонок\n",
        "\n",
        "Такое часто случается в работе, поэтому если у вас есть какой-то сложный и необычный фильтр, который нужно сделать с динамическим условием, то можно посмотреть в сторону мерджа дополнительной информации, которая в дальнейшем поможет при анализе.\n"
      ]
    },
    {
      "cell_type": "markdown",
      "metadata": {
        "id": "ttBtsyn_jcLT",
        "colab_type": "text"
      },
      "source": [
        "## step 10"
      ]
    },
    {
      "cell_type": "markdown",
      "metadata": {
        "id": "8Df1MptgjcLT",
        "colab_type": "text"
      },
      "source": [
        "Но как бы это всё ни звучало красиво, на практике всегда нужно убеждаться в том, что мы нигде ничего не сломали.\n",
        "\n",
        "Давайте проверим максимальное число дней:"
      ]
    },
    {
      "cell_type": "code",
      "metadata": {
        "id": "tXGDbZeUjcLU",
        "colab_type": "code",
        "colab": {
          "base_uri": "https://localhost:8080/",
          "height": 34
        },
        "outputId": "26445892-49b2-4875-dcb9-f9afa20a385f"
      },
      "source": [
        "events_data_train.groupby('user_id').day.nunique().max()"
      ],
      "execution_count": 35,
      "outputs": [
        {
          "output_type": "execute_result",
          "data": {
            "text/plain": [
              "4"
            ]
          },
          "metadata": {
            "tags": []
          },
          "execution_count": 35
        }
      ]
    },
    {
      "cell_type": "markdown",
      "metadata": {
        "id": "KTtSbPGQjcLY",
        "colab_type": "text"
      },
      "source": [
        "Такое может быть, например, когда пользователь начал 1-го числа в середине дня, и трое суток в этом случае заденут и четвёртое число тоже. Но число больше 4-х мы уже никак не можем ожидать в наших данных, потому что это заложено в наш с вами порог. \n",
        "\n",
        "Если бы мы поменяли порог, то вполне ожидаемо мы получили бы большее число. Но сейчас наши данные содержат только ожидаемую информацию.\n",
        "\n",
        "Вот такие проверки на каждом таком ключевом этапе обязательно делайте, потому что иначе мы начинаем играть с машинным обучением в \"испорченный телефон\". Мы думаем, что обучаем модель на 3-х первых днях, на самом деле обучаем на 7, потому что где-то в коде случайно ошиблись, тестируем на 3-х. Всё получается странно и непонятно где что происходит. Поэтому обязательно приучайте себя к такой `check-проверке`: сделали важный этап - добавили строчку кода и проверили, то всё работает ожидаемо."
      ]
    },
    {
      "cell_type": "markdown",
      "metadata": {
        "id": "DqXrMmIPjcLZ",
        "colab_type": "text"
      },
      "source": [
        "## step 11"
      ]
    },
    {
      "cell_type": "markdown",
      "metadata": {
        "id": "vjwfVnhWjcLZ",
        "colab_type": "text"
      },
      "source": [
        "Чтобы сэкономить наше время тоже самое проделаем с данными submissons_data:"
      ]
    },
    {
      "cell_type": "code",
      "metadata": {
        "id": "vjWeJLeBjcLa",
        "colab_type": "code",
        "colab": {
          "base_uri": "https://localhost:8080/",
          "height": 34
        },
        "outputId": "62daf202-291a-4d6b-fdfd-6d3638eb7cde"
      },
      "source": [
        "submissions_data['user_time'] = submissions_data.user_id.map(str) + '_' + submissions_data.timestamp.map(str)\n",
        "submissions_data = submissions_data.merge(user_min_time[['user_id', 'user_learning_time_treshold']], how='outer')\n",
        "submissions_data_train = submissions_data[submissions_data.user_time <= submissions_data.user_learning_time_treshold]\n",
        "submissions_data_train.groupby('user_id').day.nunique().max()"
      ],
      "execution_count": 37,
      "outputs": [
        {
          "output_type": "execute_result",
          "data": {
            "text/plain": [
              "4"
            ]
          },
          "metadata": {
            "tags": []
          },
          "execution_count": 37
        }
      ]
    },
    {
      "cell_type": "markdown",
      "metadata": {
        "id": "OjLg3QQ0jcLe",
        "colab_type": "text"
      },
      "source": [
        "Соберём первый простенький вариант с фичами и целевой переменной и попробуем обучить хотя бы базовую модель, чтобы посмотреть, что у нас, в принципе, что-то получается и работает. Или это бесполезная задача и никакой точности прогнозирования за первые 3 дня добиться не удастся.\n",
        "\n",
        "Заведём датафрейм `X`, который постепенно будем наполнять данными."
      ]
    },
    {
      "cell_type": "code",
      "metadata": {
        "id": "ohgAPAo8jcLf",
        "colab_type": "code",
        "colab": {}
      },
      "source": [
        "X = submissions_data_train.groupby('user_id').day.nunique(). \\\n",
        "    to_frame().reset_index().rename(columns=({\n",
        "        'day': 'days'\n",
        "}))"
      ],
      "execution_count": 0,
      "outputs": []
    },
    {
      "cell_type": "code",
      "metadata": {
        "id": "yiWkzCnBjcLo",
        "colab_type": "code",
        "colab": {
          "base_uri": "https://localhost:8080/",
          "height": 204
        },
        "outputId": "2498c556-ad60-49a8-d0e1-7884217fb8b1"
      },
      "source": [
        "X.head()"
      ],
      "execution_count": 39,
      "outputs": [
        {
          "output_type": "execute_result",
          "data": {
            "text/html": [
              "<div>\n",
              "<style scoped>\n",
              "    .dataframe tbody tr th:only-of-type {\n",
              "        vertical-align: middle;\n",
              "    }\n",
              "\n",
              "    .dataframe tbody tr th {\n",
              "        vertical-align: top;\n",
              "    }\n",
              "\n",
              "    .dataframe thead th {\n",
              "        text-align: right;\n",
              "    }\n",
              "</style>\n",
              "<table border=\"1\" class=\"dataframe\">\n",
              "  <thead>\n",
              "    <tr style=\"text-align: right;\">\n",
              "      <th></th>\n",
              "      <th>user_id</th>\n",
              "      <th>days</th>\n",
              "    </tr>\n",
              "  </thead>\n",
              "  <tbody>\n",
              "    <tr>\n",
              "      <th>0</th>\n",
              "      <td>2</td>\n",
              "      <td>1</td>\n",
              "    </tr>\n",
              "    <tr>\n",
              "      <th>1</th>\n",
              "      <td>3</td>\n",
              "      <td>1</td>\n",
              "    </tr>\n",
              "    <tr>\n",
              "      <th>2</th>\n",
              "      <td>8</td>\n",
              "      <td>1</td>\n",
              "    </tr>\n",
              "    <tr>\n",
              "      <th>3</th>\n",
              "      <td>14</td>\n",
              "      <td>1</td>\n",
              "    </tr>\n",
              "    <tr>\n",
              "      <th>4</th>\n",
              "      <td>16</td>\n",
              "      <td>3</td>\n",
              "    </tr>\n",
              "  </tbody>\n",
              "</table>\n",
              "</div>"
            ],
            "text/plain": [
              "   user_id  days\n",
              "0        2     1\n",
              "1        3     1\n",
              "2        8     1\n",
              "3       14     1\n",
              "4       16     3"
            ]
          },
          "metadata": {
            "tags": []
          },
          "execution_count": 39
        }
      ]
    },
    {
      "cell_type": "markdown",
      "metadata": {
        "id": "VdEFNHunjcLr",
        "colab_type": "text"
      },
      "source": [
        "В `X` собраны некоторые свойства юзера, которые мы получаем за первые 3 дня его обучения на `stepik`.\n",
        "\n",
        "А дальше мы хотим посмотреть - правда ли данные за эти 3 дня можно использовать для обучения модели, которая предскажет отвалится пользователь или не отвалится в конце.\n",
        "\n",
        "И чтобы узнать отвалится пользователь или нет в конце мы пойдём в датафрейм `users_data` и смёрджим его с финальным статусом, который у нас есть."
      ]
    },
    {
      "cell_type": "markdown",
      "metadata": {
        "id": "CTsXQV4bjcLr",
        "colab_type": "text"
      },
      "source": [
        "Из `submissions_data_train` можно достать ещё интересные данные, например, посчитаем сколько степов человек попытался решить за первые 3 дня."
      ]
    },
    {
      "cell_type": "code",
      "metadata": {
        "id": "BZHP9QLZjcLs",
        "colab_type": "code",
        "colab": {}
      },
      "source": [
        "steps_tried = submissions_data_train.groupby('user_id').step_id \\\n",
        "    .nunique().to_frame().reset_index().rename(columns={\n",
        "        'step_id': 'steps_tried'\n",
        "})"
      ],
      "execution_count": 0,
      "outputs": []
    },
    {
      "cell_type": "code",
      "metadata": {
        "id": "woapwpqFjcLv",
        "colab_type": "code",
        "colab": {},
        "outputId": "d567204e-f88c-4968-92e0-66c808035b07"
      },
      "source": [
        "steps_tried.head()"
      ],
      "execution_count": 0,
      "outputs": [
        {
          "output_type": "execute_result",
          "data": {
            "text/html": [
              "<div>\n",
              "<style scoped>\n",
              "    .dataframe tbody tr th:only-of-type {\n",
              "        vertical-align: middle;\n",
              "    }\n",
              "\n",
              "    .dataframe tbody tr th {\n",
              "        vertical-align: top;\n",
              "    }\n",
              "\n",
              "    .dataframe thead th {\n",
              "        text-align: right;\n",
              "    }\n",
              "</style>\n",
              "<table border=\"1\" class=\"dataframe\">\n",
              "  <thead>\n",
              "    <tr style=\"text-align: right;\">\n",
              "      <th></th>\n",
              "      <th>user_id</th>\n",
              "      <th>steps_tried</th>\n",
              "    </tr>\n",
              "  </thead>\n",
              "  <tbody>\n",
              "    <tr>\n",
              "      <th>0</th>\n",
              "      <td>2</td>\n",
              "      <td>2</td>\n",
              "    </tr>\n",
              "    <tr>\n",
              "      <th>1</th>\n",
              "      <td>3</td>\n",
              "      <td>4</td>\n",
              "    </tr>\n",
              "    <tr>\n",
              "      <th>2</th>\n",
              "      <td>8</td>\n",
              "      <td>11</td>\n",
              "    </tr>\n",
              "    <tr>\n",
              "      <th>3</th>\n",
              "      <td>14</td>\n",
              "      <td>1</td>\n",
              "    </tr>\n",
              "    <tr>\n",
              "      <th>4</th>\n",
              "      <td>16</td>\n",
              "      <td>23</td>\n",
              "    </tr>\n",
              "  </tbody>\n",
              "</table>\n",
              "</div>"
            ],
            "text/plain": [
              "   user_id  steps_tried\n",
              "0        2            2\n",
              "1        3            4\n",
              "2        8           11\n",
              "3       14            1\n",
              "4       16           23"
            ]
          },
          "metadata": {
            "tags": []
          },
          "execution_count": 105
        }
      ]
    },
    {
      "cell_type": "markdown",
      "metadata": {
        "id": "zm7fC8RpjcLz",
        "colab_type": "text"
      },
      "source": [
        "Мы получили для каждого пользователя число уникальных степов, которые он попытался решить.\n",
        "\n",
        "Давайте теперь наращивать наш датафрейм `X`, добавляя к нему всё новые фичи."
      ]
    },
    {
      "cell_type": "code",
      "metadata": {
        "id": "-f5xp62yjcL0",
        "colab_type": "code",
        "colab": {}
      },
      "source": [
        "X = X.merge(steps_tried, on='user_id', how='outer')"
      ],
      "execution_count": 0,
      "outputs": []
    },
    {
      "cell_type": "code",
      "metadata": {
        "id": "pfRRv5kgjcL3",
        "colab_type": "code",
        "colab": {
          "base_uri": "https://localhost:8080/",
          "height": 34
        },
        "outputId": "8187e87b-270b-4743-9444-ce22cd2acf0e"
      },
      "source": [
        "X.shape"
      ],
      "execution_count": 42,
      "outputs": [
        {
          "output_type": "execute_result",
          "data": {
            "text/plain": [
              "(8913, 3)"
            ]
          },
          "metadata": {
            "tags": []
          },
          "execution_count": 42
        }
      ]
    },
    {
      "cell_type": "code",
      "metadata": {
        "id": "ej5yAHRIjcL6",
        "colab_type": "code",
        "colab": {
          "base_uri": "https://localhost:8080/",
          "height": 204
        },
        "outputId": "9062f1ad-7d03-470c-b56d-eb61b72eccec"
      },
      "source": [
        "X.head()"
      ],
      "execution_count": 43,
      "outputs": [
        {
          "output_type": "execute_result",
          "data": {
            "text/html": [
              "<div>\n",
              "<style scoped>\n",
              "    .dataframe tbody tr th:only-of-type {\n",
              "        vertical-align: middle;\n",
              "    }\n",
              "\n",
              "    .dataframe tbody tr th {\n",
              "        vertical-align: top;\n",
              "    }\n",
              "\n",
              "    .dataframe thead th {\n",
              "        text-align: right;\n",
              "    }\n",
              "</style>\n",
              "<table border=\"1\" class=\"dataframe\">\n",
              "  <thead>\n",
              "    <tr style=\"text-align: right;\">\n",
              "      <th></th>\n",
              "      <th>user_id</th>\n",
              "      <th>days</th>\n",
              "      <th>steps_tried</th>\n",
              "    </tr>\n",
              "  </thead>\n",
              "  <tbody>\n",
              "    <tr>\n",
              "      <th>0</th>\n",
              "      <td>2</td>\n",
              "      <td>1</td>\n",
              "      <td>2</td>\n",
              "    </tr>\n",
              "    <tr>\n",
              "      <th>1</th>\n",
              "      <td>3</td>\n",
              "      <td>1</td>\n",
              "      <td>4</td>\n",
              "    </tr>\n",
              "    <tr>\n",
              "      <th>2</th>\n",
              "      <td>8</td>\n",
              "      <td>1</td>\n",
              "      <td>11</td>\n",
              "    </tr>\n",
              "    <tr>\n",
              "      <th>3</th>\n",
              "      <td>14</td>\n",
              "      <td>1</td>\n",
              "      <td>1</td>\n",
              "    </tr>\n",
              "    <tr>\n",
              "      <th>4</th>\n",
              "      <td>16</td>\n",
              "      <td>3</td>\n",
              "      <td>23</td>\n",
              "    </tr>\n",
              "  </tbody>\n",
              "</table>\n",
              "</div>"
            ],
            "text/plain": [
              "   user_id  days  steps_tried\n",
              "0        2     1            2\n",
              "1        3     1            4\n",
              "2        8     1           11\n",
              "3       14     1            1\n",
              "4       16     3           23"
            ]
          },
          "metadata": {
            "tags": []
          },
          "execution_count": 43
        }
      ]
    },
    {
      "cell_type": "markdown",
      "metadata": {
        "id": "9e0u4BH3jcL9",
        "colab_type": "text"
      },
      "source": [
        "Добавим число правильных и неправильных попыток и отношение правильности к неправильности.\n",
        "\n",
        "Мы уже решали подобную задачу, когда подготавливали данные по всему периоду"
      ]
    },
    {
      "cell_type": "code",
      "metadata": {
        "id": "jE3q2jiejcL-",
        "colab_type": "code",
        "colab": {
          "base_uri": "https://localhost:8080/",
          "height": 204
        },
        "outputId": "e19befc5-f053-4ccd-a0d0-a4ff157bc42f"
      },
      "source": [
        "submissions_data_train.pivot_table(index='user_id',\n",
        "                        columns='submission_status',\n",
        "                        values='step_id', \n",
        "                        aggfunc='count', \n",
        "                        fill_value=0).reset_index().head()"
      ],
      "execution_count": 44,
      "outputs": [
        {
          "output_type": "execute_result",
          "data": {
            "text/html": [
              "<div>\n",
              "<style scoped>\n",
              "    .dataframe tbody tr th:only-of-type {\n",
              "        vertical-align: middle;\n",
              "    }\n",
              "\n",
              "    .dataframe tbody tr th {\n",
              "        vertical-align: top;\n",
              "    }\n",
              "\n",
              "    .dataframe thead th {\n",
              "        text-align: right;\n",
              "    }\n",
              "</style>\n",
              "<table border=\"1\" class=\"dataframe\">\n",
              "  <thead>\n",
              "    <tr style=\"text-align: right;\">\n",
              "      <th>submission_status</th>\n",
              "      <th>user_id</th>\n",
              "      <th>correct</th>\n",
              "      <th>wrong</th>\n",
              "    </tr>\n",
              "  </thead>\n",
              "  <tbody>\n",
              "    <tr>\n",
              "      <th>0</th>\n",
              "      <td>2</td>\n",
              "      <td>2</td>\n",
              "      <td>0</td>\n",
              "    </tr>\n",
              "    <tr>\n",
              "      <th>1</th>\n",
              "      <td>3</td>\n",
              "      <td>4</td>\n",
              "      <td>4</td>\n",
              "    </tr>\n",
              "    <tr>\n",
              "      <th>2</th>\n",
              "      <td>8</td>\n",
              "      <td>9</td>\n",
              "      <td>21</td>\n",
              "    </tr>\n",
              "    <tr>\n",
              "      <th>3</th>\n",
              "      <td>14</td>\n",
              "      <td>0</td>\n",
              "      <td>1</td>\n",
              "    </tr>\n",
              "    <tr>\n",
              "      <th>4</th>\n",
              "      <td>16</td>\n",
              "      <td>23</td>\n",
              "      <td>27</td>\n",
              "    </tr>\n",
              "  </tbody>\n",
              "</table>\n",
              "</div>"
            ],
            "text/plain": [
              "submission_status  user_id  correct  wrong\n",
              "0                        2        2      0\n",
              "1                        3        4      4\n",
              "2                        8        9     21\n",
              "3                       14        0      1\n",
              "4                       16       23     27"
            ]
          },
          "metadata": {
            "tags": []
          },
          "execution_count": 44
        }
      ]
    },
    {
      "cell_type": "code",
      "metadata": {
        "id": "Pm21oYpkjcMB",
        "colab_type": "code",
        "colab": {}
      },
      "source": [
        "X = X.merge(submissions_data_train.pivot_table(index='user_id',\n",
        "                        columns='submission_status',\n",
        "                        values='step_id', \n",
        "                        aggfunc='count', \n",
        "                        fill_value=0).reset_index())"
      ],
      "execution_count": 0,
      "outputs": []
    },
    {
      "cell_type": "code",
      "metadata": {
        "id": "Der09hMIjcMD",
        "colab_type": "code",
        "colab": {
          "base_uri": "https://localhost:8080/",
          "height": 204
        },
        "outputId": "d55363c1-6e91-4c7e-e838-95a94bf0b54b"
      },
      "source": [
        "X.head()"
      ],
      "execution_count": 46,
      "outputs": [
        {
          "output_type": "execute_result",
          "data": {
            "text/html": [
              "<div>\n",
              "<style scoped>\n",
              "    .dataframe tbody tr th:only-of-type {\n",
              "        vertical-align: middle;\n",
              "    }\n",
              "\n",
              "    .dataframe tbody tr th {\n",
              "        vertical-align: top;\n",
              "    }\n",
              "\n",
              "    .dataframe thead th {\n",
              "        text-align: right;\n",
              "    }\n",
              "</style>\n",
              "<table border=\"1\" class=\"dataframe\">\n",
              "  <thead>\n",
              "    <tr style=\"text-align: right;\">\n",
              "      <th></th>\n",
              "      <th>user_id</th>\n",
              "      <th>days</th>\n",
              "      <th>steps_tried</th>\n",
              "      <th>correct</th>\n",
              "      <th>wrong</th>\n",
              "    </tr>\n",
              "  </thead>\n",
              "  <tbody>\n",
              "    <tr>\n",
              "      <th>0</th>\n",
              "      <td>2</td>\n",
              "      <td>1</td>\n",
              "      <td>2</td>\n",
              "      <td>2</td>\n",
              "      <td>0</td>\n",
              "    </tr>\n",
              "    <tr>\n",
              "      <th>1</th>\n",
              "      <td>3</td>\n",
              "      <td>1</td>\n",
              "      <td>4</td>\n",
              "      <td>4</td>\n",
              "      <td>4</td>\n",
              "    </tr>\n",
              "    <tr>\n",
              "      <th>2</th>\n",
              "      <td>8</td>\n",
              "      <td>1</td>\n",
              "      <td>11</td>\n",
              "      <td>9</td>\n",
              "      <td>21</td>\n",
              "    </tr>\n",
              "    <tr>\n",
              "      <th>3</th>\n",
              "      <td>14</td>\n",
              "      <td>1</td>\n",
              "      <td>1</td>\n",
              "      <td>0</td>\n",
              "      <td>1</td>\n",
              "    </tr>\n",
              "    <tr>\n",
              "      <th>4</th>\n",
              "      <td>16</td>\n",
              "      <td>3</td>\n",
              "      <td>23</td>\n",
              "      <td>23</td>\n",
              "      <td>27</td>\n",
              "    </tr>\n",
              "  </tbody>\n",
              "</table>\n",
              "</div>"
            ],
            "text/plain": [
              "   user_id  days  steps_tried  correct  wrong\n",
              "0        2     1            2        2      0\n",
              "1        3     1            4        4      4\n",
              "2        8     1           11        9     21\n",
              "3       14     1            1        0      1\n",
              "4       16     3           23       23     27"
            ]
          },
          "metadata": {
            "tags": []
          },
          "execution_count": 46
        }
      ]
    },
    {
      "cell_type": "markdown",
      "metadata": {
        "id": "76llo2t0jcMI",
        "colab_type": "text"
      },
      "source": [
        "Можно сильно помочь нашим данным, упростив им задачу. Сделаем долю правильных ответов от общей суммы ответов."
      ]
    },
    {
      "cell_type": "code",
      "metadata": {
        "id": "DlSwTdKfjcMI",
        "colab_type": "code",
        "colab": {}
      },
      "source": [
        "X['correct_ratio'] = X.correct / (X.correct + X.wrong)"
      ],
      "execution_count": 0,
      "outputs": []
    },
    {
      "cell_type": "code",
      "metadata": {
        "id": "1jlbnkFrjcML",
        "colab_type": "code",
        "colab": {
          "base_uri": "https://localhost:8080/",
          "height": 204
        },
        "outputId": "bd8cebca-8379-4b85-8100-94ee25e3f163"
      },
      "source": [
        "X.head()"
      ],
      "execution_count": 48,
      "outputs": [
        {
          "output_type": "execute_result",
          "data": {
            "text/html": [
              "<div>\n",
              "<style scoped>\n",
              "    .dataframe tbody tr th:only-of-type {\n",
              "        vertical-align: middle;\n",
              "    }\n",
              "\n",
              "    .dataframe tbody tr th {\n",
              "        vertical-align: top;\n",
              "    }\n",
              "\n",
              "    .dataframe thead th {\n",
              "        text-align: right;\n",
              "    }\n",
              "</style>\n",
              "<table border=\"1\" class=\"dataframe\">\n",
              "  <thead>\n",
              "    <tr style=\"text-align: right;\">\n",
              "      <th></th>\n",
              "      <th>user_id</th>\n",
              "      <th>days</th>\n",
              "      <th>steps_tried</th>\n",
              "      <th>correct</th>\n",
              "      <th>wrong</th>\n",
              "      <th>correct_ratio</th>\n",
              "    </tr>\n",
              "  </thead>\n",
              "  <tbody>\n",
              "    <tr>\n",
              "      <th>0</th>\n",
              "      <td>2</td>\n",
              "      <td>1</td>\n",
              "      <td>2</td>\n",
              "      <td>2</td>\n",
              "      <td>0</td>\n",
              "      <td>1.00</td>\n",
              "    </tr>\n",
              "    <tr>\n",
              "      <th>1</th>\n",
              "      <td>3</td>\n",
              "      <td>1</td>\n",
              "      <td>4</td>\n",
              "      <td>4</td>\n",
              "      <td>4</td>\n",
              "      <td>0.50</td>\n",
              "    </tr>\n",
              "    <tr>\n",
              "      <th>2</th>\n",
              "      <td>8</td>\n",
              "      <td>1</td>\n",
              "      <td>11</td>\n",
              "      <td>9</td>\n",
              "      <td>21</td>\n",
              "      <td>0.30</td>\n",
              "    </tr>\n",
              "    <tr>\n",
              "      <th>3</th>\n",
              "      <td>14</td>\n",
              "      <td>1</td>\n",
              "      <td>1</td>\n",
              "      <td>0</td>\n",
              "      <td>1</td>\n",
              "      <td>0.00</td>\n",
              "    </tr>\n",
              "    <tr>\n",
              "      <th>4</th>\n",
              "      <td>16</td>\n",
              "      <td>3</td>\n",
              "      <td>23</td>\n",
              "      <td>23</td>\n",
              "      <td>27</td>\n",
              "      <td>0.46</td>\n",
              "    </tr>\n",
              "  </tbody>\n",
              "</table>\n",
              "</div>"
            ],
            "text/plain": [
              "   user_id  days  steps_tried  correct  wrong  correct_ratio\n",
              "0        2     1            2        2      0           1.00\n",
              "1        3     1            4        4      4           0.50\n",
              "2        8     1           11        9     21           0.30\n",
              "3       14     1            1        0      1           0.00\n",
              "4       16     3           23       23     27           0.46"
            ]
          },
          "metadata": {
            "tags": []
          },
          "execution_count": 48
        }
      ]
    },
    {
      "cell_type": "markdown",
      "metadata": {
        "id": "t4LCpk0hjcMS",
        "colab_type": "text"
      },
      "source": [
        "## step 12"
      ]
    },
    {
      "cell_type": "markdown",
      "metadata": {
        "id": "0jxo4_NUjcMS",
        "colab_type": "text"
      },
      "source": [
        "Давайте из данных про `events` также отберем сколько у нас было просмотрено степов суммарно. Для этого тоже сделаем мёрдж с `events_data`.\n",
        "\n",
        "Для каждого пользователя посчитаем сколько у него было разных событий. Поскольку в данных по `events` данных больше, чем по `submits` - нам нужен `outer join` при мёрдже. "
      ]
    },
    {
      "cell_type": "code",
      "metadata": {
        "id": "fn-ytDNbjcMT",
        "colab_type": "code",
        "colab": {}
      },
      "source": [
        "X = X.merge(events_data_train.pivot_table(index='user_id',\n",
        "                        columns='action',\n",
        "                        values='step_id', \n",
        "                        aggfunc='count', \n",
        "                        fill_value=0).reset_index()[['user_id', 'viewed']], how='outer')"
      ],
      "execution_count": 0,
      "outputs": []
    },
    {
      "cell_type": "code",
      "metadata": {
        "id": "g3LXTrXejcMX",
        "colab_type": "code",
        "colab": {
          "base_uri": "https://localhost:8080/",
          "height": 204
        },
        "outputId": "6d9d681a-8255-4987-c045-78f2e966cd8a"
      },
      "source": [
        "X.head()"
      ],
      "execution_count": 50,
      "outputs": [
        {
          "output_type": "execute_result",
          "data": {
            "text/html": [
              "<div>\n",
              "<style scoped>\n",
              "    .dataframe tbody tr th:only-of-type {\n",
              "        vertical-align: middle;\n",
              "    }\n",
              "\n",
              "    .dataframe tbody tr th {\n",
              "        vertical-align: top;\n",
              "    }\n",
              "\n",
              "    .dataframe thead th {\n",
              "        text-align: right;\n",
              "    }\n",
              "</style>\n",
              "<table border=\"1\" class=\"dataframe\">\n",
              "  <thead>\n",
              "    <tr style=\"text-align: right;\">\n",
              "      <th></th>\n",
              "      <th>user_id</th>\n",
              "      <th>days</th>\n",
              "      <th>steps_tried</th>\n",
              "      <th>correct</th>\n",
              "      <th>wrong</th>\n",
              "      <th>correct_ratio</th>\n",
              "      <th>viewed</th>\n",
              "    </tr>\n",
              "  </thead>\n",
              "  <tbody>\n",
              "    <tr>\n",
              "      <th>0</th>\n",
              "      <td>2</td>\n",
              "      <td>1.0</td>\n",
              "      <td>2.0</td>\n",
              "      <td>2.0</td>\n",
              "      <td>0.0</td>\n",
              "      <td>1.00</td>\n",
              "      <td>9</td>\n",
              "    </tr>\n",
              "    <tr>\n",
              "      <th>1</th>\n",
              "      <td>3</td>\n",
              "      <td>1.0</td>\n",
              "      <td>4.0</td>\n",
              "      <td>4.0</td>\n",
              "      <td>4.0</td>\n",
              "      <td>0.50</td>\n",
              "      <td>20</td>\n",
              "    </tr>\n",
              "    <tr>\n",
              "      <th>2</th>\n",
              "      <td>8</td>\n",
              "      <td>1.0</td>\n",
              "      <td>11.0</td>\n",
              "      <td>9.0</td>\n",
              "      <td>21.0</td>\n",
              "      <td>0.30</td>\n",
              "      <td>154</td>\n",
              "    </tr>\n",
              "    <tr>\n",
              "      <th>3</th>\n",
              "      <td>14</td>\n",
              "      <td>1.0</td>\n",
              "      <td>1.0</td>\n",
              "      <td>0.0</td>\n",
              "      <td>1.0</td>\n",
              "      <td>0.00</td>\n",
              "      <td>9</td>\n",
              "    </tr>\n",
              "    <tr>\n",
              "      <th>4</th>\n",
              "      <td>16</td>\n",
              "      <td>3.0</td>\n",
              "      <td>23.0</td>\n",
              "      <td>23.0</td>\n",
              "      <td>27.0</td>\n",
              "      <td>0.46</td>\n",
              "      <td>132</td>\n",
              "    </tr>\n",
              "  </tbody>\n",
              "</table>\n",
              "</div>"
            ],
            "text/plain": [
              "   user_id  days  steps_tried  correct  wrong  correct_ratio  viewed\n",
              "0        2   1.0          2.0      2.0    0.0           1.00       9\n",
              "1        3   1.0          4.0      4.0    4.0           0.50      20\n",
              "2        8   1.0         11.0      9.0   21.0           0.30     154\n",
              "3       14   1.0          1.0      0.0    1.0           0.00       9\n",
              "4       16   3.0         23.0     23.0   27.0           0.46     132"
            ]
          },
          "metadata": {
            "tags": []
          },
          "execution_count": 50
        }
      ]
    },
    {
      "cell_type": "code",
      "metadata": {
        "id": "TOveUa09jcMc",
        "colab_type": "code",
        "colab": {
          "base_uri": "https://localhost:8080/",
          "height": 34
        },
        "outputId": "1411016d-5ad2-48e7-c329-43c9ee644a7c"
      },
      "source": [
        "X.shape"
      ],
      "execution_count": 51,
      "outputs": [
        {
          "output_type": "execute_result",
          "data": {
            "text/plain": [
              "(19234, 7)"
            ]
          },
          "metadata": {
            "tags": []
          },
          "execution_count": 51
        }
      ]
    },
    {
      "cell_type": "markdown",
      "metadata": {
        "id": "ftwpcoA0jcMf",
        "colab_type": "text"
      },
      "source": [
        "Мы можем убедиться в том, что у нас появились некоторые пропуски в данных после этого джойна. Заполним их пока нулём."
      ]
    },
    {
      "cell_type": "code",
      "metadata": {
        "id": "a_QuJ6jpjcMg",
        "colab_type": "code",
        "colab": {}
      },
      "source": [
        "X = X.fillna(0)"
      ],
      "execution_count": 0,
      "outputs": []
    },
    {
      "cell_type": "markdown",
      "metadata": {
        "id": "iKA8UEqljcMk",
        "colab_type": "text"
      },
      "source": [
        "Временно расширим датафрейм `X` для правильной разметки выборки.\n",
        "\n",
        "Нам нужно взять данные из `user_data` про то:\n",
        "+ закончил ли человек курс успешно\n",
        "+ правда ли, что он уже не пытается это сделать"
      ]
    },
    {
      "cell_type": "code",
      "metadata": {
        "id": "YHofYX93jcMl",
        "colab_type": "code",
        "colab": {}
      },
      "source": [
        "X = X.merge(users_data[['user_id', 'passed_course', 'is_gone_user']], how='outer')"
      ],
      "execution_count": 0,
      "outputs": []
    },
    {
      "cell_type": "code",
      "metadata": {
        "id": "hNqtQnx2jcMp",
        "colab_type": "code",
        "colab": {
          "base_uri": "https://localhost:8080/",
          "height": 204
        },
        "outputId": "8d0aae80-b4f8-443c-d2b2-16c8766179c0"
      },
      "source": [
        "X.head()"
      ],
      "execution_count": 54,
      "outputs": [
        {
          "output_type": "execute_result",
          "data": {
            "text/html": [
              "<div>\n",
              "<style scoped>\n",
              "    .dataframe tbody tr th:only-of-type {\n",
              "        vertical-align: middle;\n",
              "    }\n",
              "\n",
              "    .dataframe tbody tr th {\n",
              "        vertical-align: top;\n",
              "    }\n",
              "\n",
              "    .dataframe thead th {\n",
              "        text-align: right;\n",
              "    }\n",
              "</style>\n",
              "<table border=\"1\" class=\"dataframe\">\n",
              "  <thead>\n",
              "    <tr style=\"text-align: right;\">\n",
              "      <th></th>\n",
              "      <th>user_id</th>\n",
              "      <th>days</th>\n",
              "      <th>steps_tried</th>\n",
              "      <th>correct</th>\n",
              "      <th>wrong</th>\n",
              "      <th>correct_ratio</th>\n",
              "      <th>viewed</th>\n",
              "      <th>passed_course</th>\n",
              "      <th>is_gone_user</th>\n",
              "    </tr>\n",
              "  </thead>\n",
              "  <tbody>\n",
              "    <tr>\n",
              "      <th>0</th>\n",
              "      <td>2</td>\n",
              "      <td>1.0</td>\n",
              "      <td>2.0</td>\n",
              "      <td>2.0</td>\n",
              "      <td>0.0</td>\n",
              "      <td>1.00</td>\n",
              "      <td>9</td>\n",
              "      <td>False</td>\n",
              "      <td>True</td>\n",
              "    </tr>\n",
              "    <tr>\n",
              "      <th>1</th>\n",
              "      <td>3</td>\n",
              "      <td>1.0</td>\n",
              "      <td>4.0</td>\n",
              "      <td>4.0</td>\n",
              "      <td>4.0</td>\n",
              "      <td>0.50</td>\n",
              "      <td>20</td>\n",
              "      <td>False</td>\n",
              "      <td>True</td>\n",
              "    </tr>\n",
              "    <tr>\n",
              "      <th>2</th>\n",
              "      <td>8</td>\n",
              "      <td>1.0</td>\n",
              "      <td>11.0</td>\n",
              "      <td>9.0</td>\n",
              "      <td>21.0</td>\n",
              "      <td>0.30</td>\n",
              "      <td>154</td>\n",
              "      <td>False</td>\n",
              "      <td>True</td>\n",
              "    </tr>\n",
              "    <tr>\n",
              "      <th>3</th>\n",
              "      <td>14</td>\n",
              "      <td>1.0</td>\n",
              "      <td>1.0</td>\n",
              "      <td>0.0</td>\n",
              "      <td>1.0</td>\n",
              "      <td>0.00</td>\n",
              "      <td>9</td>\n",
              "      <td>False</td>\n",
              "      <td>True</td>\n",
              "    </tr>\n",
              "    <tr>\n",
              "      <th>4</th>\n",
              "      <td>16</td>\n",
              "      <td>3.0</td>\n",
              "      <td>23.0</td>\n",
              "      <td>23.0</td>\n",
              "      <td>27.0</td>\n",
              "      <td>0.46</td>\n",
              "      <td>132</td>\n",
              "      <td>True</td>\n",
              "      <td>True</td>\n",
              "    </tr>\n",
              "  </tbody>\n",
              "</table>\n",
              "</div>"
            ],
            "text/plain": [
              "   user_id  days  steps_tried  ...  viewed  passed_course  is_gone_user\n",
              "0        2   1.0          2.0  ...       9          False          True\n",
              "1        3   1.0          4.0  ...      20          False          True\n",
              "2        8   1.0         11.0  ...     154          False          True\n",
              "3       14   1.0          1.0  ...       9          False          True\n",
              "4       16   3.0         23.0  ...     132           True          True\n",
              "\n",
              "[5 rows x 9 columns]"
            ]
          },
          "metadata": {
            "tags": []
          },
          "execution_count": 54
        }
      ]
    },
    {
      "cell_type": "markdown",
      "metadata": {
        "id": "s5_4IenVjcMt",
        "colab_type": "text"
      },
      "source": [
        "Отбросим из этих данных всё лишнее"
      ]
    },
    {
      "cell_type": "code",
      "metadata": {
        "id": "cfZfAk9-jcMu",
        "colab_type": "code",
        "colab": {
          "base_uri": "https://localhost:8080/",
          "height": 204
        },
        "outputId": "3f0f1162-8e80-4d3e-9b12-3d43de265be1"
      },
      "source": [
        "X[(X.is_gone_user == False) & (X.passed_course == False)].head()"
      ],
      "execution_count": 55,
      "outputs": [
        {
          "output_type": "execute_result",
          "data": {
            "text/html": [
              "<div>\n",
              "<style scoped>\n",
              "    .dataframe tbody tr th:only-of-type {\n",
              "        vertical-align: middle;\n",
              "    }\n",
              "\n",
              "    .dataframe tbody tr th {\n",
              "        vertical-align: top;\n",
              "    }\n",
              "\n",
              "    .dataframe thead th {\n",
              "        text-align: right;\n",
              "    }\n",
              "</style>\n",
              "<table border=\"1\" class=\"dataframe\">\n",
              "  <thead>\n",
              "    <tr style=\"text-align: right;\">\n",
              "      <th></th>\n",
              "      <th>user_id</th>\n",
              "      <th>days</th>\n",
              "      <th>steps_tried</th>\n",
              "      <th>correct</th>\n",
              "      <th>wrong</th>\n",
              "      <th>correct_ratio</th>\n",
              "      <th>viewed</th>\n",
              "      <th>passed_course</th>\n",
              "      <th>is_gone_user</th>\n",
              "    </tr>\n",
              "  </thead>\n",
              "  <tbody>\n",
              "    <tr>\n",
              "      <th>7</th>\n",
              "      <td>25</td>\n",
              "      <td>1.0</td>\n",
              "      <td>2.0</td>\n",
              "      <td>1.0</td>\n",
              "      <td>4.0</td>\n",
              "      <td>0.200000</td>\n",
              "      <td>40</td>\n",
              "      <td>False</td>\n",
              "      <td>False</td>\n",
              "    </tr>\n",
              "    <tr>\n",
              "      <th>11</th>\n",
              "      <td>32</td>\n",
              "      <td>1.0</td>\n",
              "      <td>3.0</td>\n",
              "      <td>3.0</td>\n",
              "      <td>0.0</td>\n",
              "      <td>1.000000</td>\n",
              "      <td>14</td>\n",
              "      <td>False</td>\n",
              "      <td>False</td>\n",
              "    </tr>\n",
              "    <tr>\n",
              "      <th>20</th>\n",
              "      <td>57</td>\n",
              "      <td>3.0</td>\n",
              "      <td>13.0</td>\n",
              "      <td>13.0</td>\n",
              "      <td>28.0</td>\n",
              "      <td>0.317073</td>\n",
              "      <td>70</td>\n",
              "      <td>False</td>\n",
              "      <td>False</td>\n",
              "    </tr>\n",
              "    <tr>\n",
              "      <th>30</th>\n",
              "      <td>78</td>\n",
              "      <td>1.0</td>\n",
              "      <td>2.0</td>\n",
              "      <td>2.0</td>\n",
              "      <td>0.0</td>\n",
              "      <td>1.000000</td>\n",
              "      <td>13</td>\n",
              "      <td>False</td>\n",
              "      <td>False</td>\n",
              "    </tr>\n",
              "    <tr>\n",
              "      <th>53</th>\n",
              "      <td>156</td>\n",
              "      <td>1.0</td>\n",
              "      <td>2.0</td>\n",
              "      <td>2.0</td>\n",
              "      <td>0.0</td>\n",
              "      <td>1.000000</td>\n",
              "      <td>10</td>\n",
              "      <td>False</td>\n",
              "      <td>False</td>\n",
              "    </tr>\n",
              "  </tbody>\n",
              "</table>\n",
              "</div>"
            ],
            "text/plain": [
              "    user_id  days  steps_tried  ...  viewed  passed_course  is_gone_user\n",
              "7        25   1.0          2.0  ...      40          False         False\n",
              "11       32   1.0          3.0  ...      14          False         False\n",
              "20       57   3.0         13.0  ...      70          False         False\n",
              "30       78   1.0          2.0  ...      13          False         False\n",
              "53      156   1.0          2.0  ...      10          False         False\n",
              "\n",
              "[5 rows x 9 columns]"
            ]
          },
          "metadata": {
            "tags": []
          },
          "execution_count": 55
        }
      ]
    },
    {
      "cell_type": "markdown",
      "metadata": {
        "id": "LQyyewrIjcMw",
        "colab_type": "text"
      },
      "source": [
        "Это все пользователи, не дошедшие до конца курса и не бросившие его ещё. А нам нужно обратное. То есть нам нужны все, кроме этим комбинаций.\n",
        "\n",
        "Тогда обернём инструкцию выше в скобки и используем знак отрицания: `~`"
      ]
    },
    {
      "cell_type": "code",
      "metadata": {
        "id": "wjUQs3OrjcMw",
        "colab_type": "code",
        "colab": {
          "base_uri": "https://localhost:8080/",
          "height": 204
        },
        "outputId": "8f9577b1-a3a4-4777-a1fe-06dddf701497"
      },
      "source": [
        "X[~((X.is_gone_user == False) & (X.passed_course == False))].head()"
      ],
      "execution_count": 56,
      "outputs": [
        {
          "output_type": "execute_result",
          "data": {
            "text/html": [
              "<div>\n",
              "<style scoped>\n",
              "    .dataframe tbody tr th:only-of-type {\n",
              "        vertical-align: middle;\n",
              "    }\n",
              "\n",
              "    .dataframe tbody tr th {\n",
              "        vertical-align: top;\n",
              "    }\n",
              "\n",
              "    .dataframe thead th {\n",
              "        text-align: right;\n",
              "    }\n",
              "</style>\n",
              "<table border=\"1\" class=\"dataframe\">\n",
              "  <thead>\n",
              "    <tr style=\"text-align: right;\">\n",
              "      <th></th>\n",
              "      <th>user_id</th>\n",
              "      <th>days</th>\n",
              "      <th>steps_tried</th>\n",
              "      <th>correct</th>\n",
              "      <th>wrong</th>\n",
              "      <th>correct_ratio</th>\n",
              "      <th>viewed</th>\n",
              "      <th>passed_course</th>\n",
              "      <th>is_gone_user</th>\n",
              "    </tr>\n",
              "  </thead>\n",
              "  <tbody>\n",
              "    <tr>\n",
              "      <th>0</th>\n",
              "      <td>2</td>\n",
              "      <td>1.0</td>\n",
              "      <td>2.0</td>\n",
              "      <td>2.0</td>\n",
              "      <td>0.0</td>\n",
              "      <td>1.00</td>\n",
              "      <td>9</td>\n",
              "      <td>False</td>\n",
              "      <td>True</td>\n",
              "    </tr>\n",
              "    <tr>\n",
              "      <th>1</th>\n",
              "      <td>3</td>\n",
              "      <td>1.0</td>\n",
              "      <td>4.0</td>\n",
              "      <td>4.0</td>\n",
              "      <td>4.0</td>\n",
              "      <td>0.50</td>\n",
              "      <td>20</td>\n",
              "      <td>False</td>\n",
              "      <td>True</td>\n",
              "    </tr>\n",
              "    <tr>\n",
              "      <th>2</th>\n",
              "      <td>8</td>\n",
              "      <td>1.0</td>\n",
              "      <td>11.0</td>\n",
              "      <td>9.0</td>\n",
              "      <td>21.0</td>\n",
              "      <td>0.30</td>\n",
              "      <td>154</td>\n",
              "      <td>False</td>\n",
              "      <td>True</td>\n",
              "    </tr>\n",
              "    <tr>\n",
              "      <th>3</th>\n",
              "      <td>14</td>\n",
              "      <td>1.0</td>\n",
              "      <td>1.0</td>\n",
              "      <td>0.0</td>\n",
              "      <td>1.0</td>\n",
              "      <td>0.00</td>\n",
              "      <td>9</td>\n",
              "      <td>False</td>\n",
              "      <td>True</td>\n",
              "    </tr>\n",
              "    <tr>\n",
              "      <th>4</th>\n",
              "      <td>16</td>\n",
              "      <td>3.0</td>\n",
              "      <td>23.0</td>\n",
              "      <td>23.0</td>\n",
              "      <td>27.0</td>\n",
              "      <td>0.46</td>\n",
              "      <td>132</td>\n",
              "      <td>True</td>\n",
              "      <td>True</td>\n",
              "    </tr>\n",
              "  </tbody>\n",
              "</table>\n",
              "</div>"
            ],
            "text/plain": [
              "   user_id  days  steps_tried  ...  viewed  passed_course  is_gone_user\n",
              "0        2   1.0          2.0  ...       9          False          True\n",
              "1        3   1.0          4.0  ...      20          False          True\n",
              "2        8   1.0         11.0  ...     154          False          True\n",
              "3       14   1.0          1.0  ...       9          False          True\n",
              "4       16   3.0         23.0  ...     132           True          True\n",
              "\n",
              "[5 rows x 9 columns]"
            ]
          },
          "metadata": {
            "tags": []
          },
          "execution_count": 56
        }
      ]
    },
    {
      "cell_type": "code",
      "metadata": {
        "id": "ABzIMTHyjcMy",
        "colab_type": "code",
        "colab": {}
      },
      "source": [
        "X = X[~((X.is_gone_user == False) & (X.passed_course == False))]"
      ],
      "execution_count": 0,
      "outputs": []
    },
    {
      "cell_type": "code",
      "metadata": {
        "id": "8dhDxvqWjcM0",
        "colab_type": "code",
        "colab": {
          "base_uri": "https://localhost:8080/",
          "height": 204
        },
        "outputId": "bbf01032-c685-46da-dc01-fadb1d8b7b40"
      },
      "source": [
        "X.head()"
      ],
      "execution_count": 58,
      "outputs": [
        {
          "output_type": "execute_result",
          "data": {
            "text/html": [
              "<div>\n",
              "<style scoped>\n",
              "    .dataframe tbody tr th:only-of-type {\n",
              "        vertical-align: middle;\n",
              "    }\n",
              "\n",
              "    .dataframe tbody tr th {\n",
              "        vertical-align: top;\n",
              "    }\n",
              "\n",
              "    .dataframe thead th {\n",
              "        text-align: right;\n",
              "    }\n",
              "</style>\n",
              "<table border=\"1\" class=\"dataframe\">\n",
              "  <thead>\n",
              "    <tr style=\"text-align: right;\">\n",
              "      <th></th>\n",
              "      <th>user_id</th>\n",
              "      <th>days</th>\n",
              "      <th>steps_tried</th>\n",
              "      <th>correct</th>\n",
              "      <th>wrong</th>\n",
              "      <th>correct_ratio</th>\n",
              "      <th>viewed</th>\n",
              "      <th>passed_course</th>\n",
              "      <th>is_gone_user</th>\n",
              "    </tr>\n",
              "  </thead>\n",
              "  <tbody>\n",
              "    <tr>\n",
              "      <th>0</th>\n",
              "      <td>2</td>\n",
              "      <td>1.0</td>\n",
              "      <td>2.0</td>\n",
              "      <td>2.0</td>\n",
              "      <td>0.0</td>\n",
              "      <td>1.00</td>\n",
              "      <td>9</td>\n",
              "      <td>False</td>\n",
              "      <td>True</td>\n",
              "    </tr>\n",
              "    <tr>\n",
              "      <th>1</th>\n",
              "      <td>3</td>\n",
              "      <td>1.0</td>\n",
              "      <td>4.0</td>\n",
              "      <td>4.0</td>\n",
              "      <td>4.0</td>\n",
              "      <td>0.50</td>\n",
              "      <td>20</td>\n",
              "      <td>False</td>\n",
              "      <td>True</td>\n",
              "    </tr>\n",
              "    <tr>\n",
              "      <th>2</th>\n",
              "      <td>8</td>\n",
              "      <td>1.0</td>\n",
              "      <td>11.0</td>\n",
              "      <td>9.0</td>\n",
              "      <td>21.0</td>\n",
              "      <td>0.30</td>\n",
              "      <td>154</td>\n",
              "      <td>False</td>\n",
              "      <td>True</td>\n",
              "    </tr>\n",
              "    <tr>\n",
              "      <th>3</th>\n",
              "      <td>14</td>\n",
              "      <td>1.0</td>\n",
              "      <td>1.0</td>\n",
              "      <td>0.0</td>\n",
              "      <td>1.0</td>\n",
              "      <td>0.00</td>\n",
              "      <td>9</td>\n",
              "      <td>False</td>\n",
              "      <td>True</td>\n",
              "    </tr>\n",
              "    <tr>\n",
              "      <th>4</th>\n",
              "      <td>16</td>\n",
              "      <td>3.0</td>\n",
              "      <td>23.0</td>\n",
              "      <td>23.0</td>\n",
              "      <td>27.0</td>\n",
              "      <td>0.46</td>\n",
              "      <td>132</td>\n",
              "      <td>True</td>\n",
              "      <td>True</td>\n",
              "    </tr>\n",
              "  </tbody>\n",
              "</table>\n",
              "</div>"
            ],
            "text/plain": [
              "   user_id  days  steps_tried  ...  viewed  passed_course  is_gone_user\n",
              "0        2   1.0          2.0  ...       9          False          True\n",
              "1        3   1.0          4.0  ...      20          False          True\n",
              "2        8   1.0         11.0  ...     154          False          True\n",
              "3       14   1.0          1.0  ...       9          False          True\n",
              "4       16   3.0         23.0  ...     132           True          True\n",
              "\n",
              "[5 rows x 9 columns]"
            ]
          },
          "metadata": {
            "tags": []
          },
          "execution_count": 58
        }
      ]
    },
    {
      "cell_type": "markdown",
      "metadata": {
        "id": "9IYTbNGSjcM2",
        "colab_type": "text"
      },
      "source": [
        "Теперь в `X` находятся пользователи, которые либо прошли курс, либо бросили его.\n",
        "\n",
        "Теперь можно создать колонку, отвечающую за то - дропнулся человек с курса или его прошёл.\n",
        "\n",
        "Сейчас за это отвечает `passed_course`, потому что мы все промежуточные варианты отобрали, когда у нас человек ещё курс не закончил, но мы не можем сказать, что он дропнулся.\n",
        "\n",
        "Давайте это проверим."
      ]
    },
    {
      "cell_type": "code",
      "metadata": {
        "id": "qPgUTldjjcM2",
        "colab_type": "code",
        "colab": {
          "base_uri": "https://localhost:8080/",
          "height": 102
        },
        "outputId": "06a4f319-e7cd-4c62-bd14-1603150585e5"
      },
      "source": [
        "X.groupby(['passed_course', 'is_gone_user']).user_id.count()"
      ],
      "execution_count": 59,
      "outputs": [
        {
          "output_type": "execute_result",
          "data": {
            "text/plain": [
              "passed_course  is_gone_user\n",
              "False          True            16590\n",
              "True           False             136\n",
              "               True             1254\n",
              "Name: user_id, dtype: int64"
            ]
          },
          "metadata": {
            "tags": []
          },
          "execution_count": 59
        }
      ]
    },
    {
      "cell_type": "markdown",
      "metadata": {
        "id": "SsXuhpZmjcM5",
        "colab_type": "text"
      },
      "source": [
        "Что значит этот результат?\n",
        "\n",
        "Все пользователи, не прошедшие курс(`passed_course = False`), помечены как дропнутые (`is_gone_user = True`). А все прошедшие курс могут быть как дропнутые(`is_gone_user = True`), так и нет(`is_gone_user = False`). Которые не дропнулись - это те, кто совсем недавно курс прошёл и у них ещё какие-то данные в логах остались.\n",
        "\n",
        "Поэтому нашей целевой переменной здесь является `passed_course`.\n",
        "\n",
        "Давайте тогда создадим переменную `y`."
      ]
    },
    {
      "cell_type": "code",
      "metadata": {
        "id": "MLjWQH5mjcM6",
        "colab_type": "code",
        "colab": {}
      },
      "source": [
        "y = X.passed_course.map(int)"
      ],
      "execution_count": 0,
      "outputs": []
    },
    {
      "cell_type": "code",
      "metadata": {
        "id": "wsvl8JE2jcM8",
        "colab_type": "code",
        "colab": {}
      },
      "source": [
        "X = X.drop(['passed_course', 'is_gone_user'], axis=1)"
      ],
      "execution_count": 0,
      "outputs": []
    },
    {
      "cell_type": "markdown",
      "metadata": {
        "id": "2sHp26FljcM9",
        "colab_type": "text"
      },
      "source": [
        "Обратите внимание, что в `X` у нас хранится `user_id` и кажется, что странно использовать эту колонку для обучения нашей модели, потому что она навряд ли несёт какую-то логику.\n",
        "\n",
        "Поэтому может `user_id` перенести в индексы, чтобы он не мешал среди колонок. Но при этом не удалять его из данных, потому что потом нам будет интересно посмотреть на отдельных юзеров."
      ]
    },
    {
      "cell_type": "code",
      "metadata": {
        "id": "mZdhVu0NjcM-",
        "colab_type": "code",
        "colab": {}
      },
      "source": [
        "X = X.set_index(X.user_id)\n",
        "X = X.drop('user_id', axis=1)"
      ],
      "execution_count": 0,
      "outputs": []
    },
    {
      "cell_type": "code",
      "metadata": {
        "id": "E2OSdUIqjcNA",
        "colab_type": "code",
        "colab": {
          "base_uri": "https://localhost:8080/",
          "height": 235
        },
        "outputId": "d6123c2e-66b0-4d5d-f8e6-e35bc98e7c12"
      },
      "source": [
        "X.head()"
      ],
      "execution_count": 64,
      "outputs": [
        {
          "output_type": "execute_result",
          "data": {
            "text/html": [
              "<div>\n",
              "<style scoped>\n",
              "    .dataframe tbody tr th:only-of-type {\n",
              "        vertical-align: middle;\n",
              "    }\n",
              "\n",
              "    .dataframe tbody tr th {\n",
              "        vertical-align: top;\n",
              "    }\n",
              "\n",
              "    .dataframe thead th {\n",
              "        text-align: right;\n",
              "    }\n",
              "</style>\n",
              "<table border=\"1\" class=\"dataframe\">\n",
              "  <thead>\n",
              "    <tr style=\"text-align: right;\">\n",
              "      <th></th>\n",
              "      <th>days</th>\n",
              "      <th>steps_tried</th>\n",
              "      <th>correct</th>\n",
              "      <th>wrong</th>\n",
              "      <th>correct_ratio</th>\n",
              "      <th>viewed</th>\n",
              "    </tr>\n",
              "    <tr>\n",
              "      <th>user_id</th>\n",
              "      <th></th>\n",
              "      <th></th>\n",
              "      <th></th>\n",
              "      <th></th>\n",
              "      <th></th>\n",
              "      <th></th>\n",
              "    </tr>\n",
              "  </thead>\n",
              "  <tbody>\n",
              "    <tr>\n",
              "      <th>2</th>\n",
              "      <td>1.0</td>\n",
              "      <td>2.0</td>\n",
              "      <td>2.0</td>\n",
              "      <td>0.0</td>\n",
              "      <td>1.00</td>\n",
              "      <td>9</td>\n",
              "    </tr>\n",
              "    <tr>\n",
              "      <th>3</th>\n",
              "      <td>1.0</td>\n",
              "      <td>4.0</td>\n",
              "      <td>4.0</td>\n",
              "      <td>4.0</td>\n",
              "      <td>0.50</td>\n",
              "      <td>20</td>\n",
              "    </tr>\n",
              "    <tr>\n",
              "      <th>8</th>\n",
              "      <td>1.0</td>\n",
              "      <td>11.0</td>\n",
              "      <td>9.0</td>\n",
              "      <td>21.0</td>\n",
              "      <td>0.30</td>\n",
              "      <td>154</td>\n",
              "    </tr>\n",
              "    <tr>\n",
              "      <th>14</th>\n",
              "      <td>1.0</td>\n",
              "      <td>1.0</td>\n",
              "      <td>0.0</td>\n",
              "      <td>1.0</td>\n",
              "      <td>0.00</td>\n",
              "      <td>9</td>\n",
              "    </tr>\n",
              "    <tr>\n",
              "      <th>16</th>\n",
              "      <td>3.0</td>\n",
              "      <td>23.0</td>\n",
              "      <td>23.0</td>\n",
              "      <td>27.0</td>\n",
              "      <td>0.46</td>\n",
              "      <td>132</td>\n",
              "    </tr>\n",
              "  </tbody>\n",
              "</table>\n",
              "</div>"
            ],
            "text/plain": [
              "         days  steps_tried  correct  wrong  correct_ratio  viewed\n",
              "user_id                                                          \n",
              "2         1.0          2.0      2.0    0.0           1.00       9\n",
              "3         1.0          4.0      4.0    4.0           0.50      20\n",
              "8         1.0         11.0      9.0   21.0           0.30     154\n",
              "14        1.0          1.0      0.0    1.0           0.00       9\n",
              "16        3.0         23.0     23.0   27.0           0.46     132"
            ]
          },
          "metadata": {
            "tags": []
          },
          "execution_count": 64
        }
      ]
    },
    {
      "cell_type": "code",
      "metadata": {
        "id": "vaP35Fewwtbq",
        "colab_type": "code",
        "colab": {}
      },
      "source": [
        ""
      ],
      "execution_count": 0,
      "outputs": []
    },
    {
      "cell_type": "markdown",
      "metadata": {
        "id": "eDQidoHejcNF",
        "colab_type": "text"
      },
      "source": [
        "`X` теперь стал более похож на обучающую выборку с которой можно провести эксперименты - логистическая регрессия, дерево решений, оценка метрик, замена параметров и т.д.\n",
        "\n",
        "Проделав всё это, можно будет ответить на вопрос - сможем ли мы предсказать отток студентов за первые несколько дней."
      ]
    },
    {
      "cell_type": "markdown",
      "metadata": {
        "id": "5Wgc4sWFjcNG",
        "colab_type": "text"
      },
      "source": [
        "## step 13"
      ]
    },
    {
      "cell_type": "markdown",
      "metadata": {
        "id": "RyXRzi-4jcNG",
        "colab_type": "text"
      },
      "source": [
        "Как-то так могла выглядеть подготовка к непосредственному обучению. \n",
        "\n",
        "Мы уже из сырых данных ввели какую-то нашу новую логику:  \n",
        "+ что мы отберём наблюдения только за первые 3 дня  \n",
        "+ попробуем по ним предсказать интересующую переменную  \n",
        "\n",
        "Это уже сделать можно самостоятельно. Попробуйте обучить модель, попредсказывать разные значения разными классификаторами. Обучите логистическую регрессию, дерево решений. Поэкспериментируйте с глубиной дерева и т.д.\n",
        "\n",
        "То, что мы делали - это такой \"черновой вариант\" работы в режиме онлайн. При решении длительной задачи код пишется уже более структурированно - создаются специальные обёртки, принимающие сырые данные и возвращающие уже данные нужного нам вида и формата. Это упрощает нам работу и ускоряет её."
      ]
    },
    {
      "cell_type": "code",
      "metadata": {
        "id": "Hl_poTvtwvQd",
        "colab_type": "code",
        "colab": {}
      },
      "source": [
        "X.to_csv('X_data.csv')\n",
        "y.to_csv('Y_data.csv')\n"
      ],
      "execution_count": 0,
      "outputs": []
    }
  ]
}