{
  "nbformat": 4,
  "nbformat_minor": 0,
  "metadata": {
    "colab": {
      "name": "stepik_ml_contest_features.ipynb",
      "provenance": [],
      "collapsed_sections": [],
      "authorship_tag": "ABX9TyM6LIo2+TxooPPmmcbKLKt7",
      "include_colab_link": true
    },
    "kernelspec": {
      "name": "python3",
      "display_name": "Python 3"
    }
  },
  "cells": [
    {
      "cell_type": "markdown",
      "metadata": {
        "id": "view-in-github",
        "colab_type": "text"
      },
      "source": [
        "<a href=\"https://colab.research.google.com/github/Jiablero/notebooks/blob/master/stepik_ml_contest_features.ipynb\" target=\"_parent\"><img src=\"https://colab.research.google.com/assets/colab-badge.svg\" alt=\"Open In Colab\"/></a>"
      ]
    },
    {
      "cell_type": "code",
      "metadata": {
        "id": "fhuMRlk9bLQs",
        "colab_type": "code",
        "colab": {}
      },
      "source": [
        "import pandas as pd"
      ],
      "execution_count": 0,
      "outputs": []
    },
    {
      "cell_type": "code",
      "metadata": {
        "id": "bfFifymvbWp6",
        "colab_type": "code",
        "colab": {}
      },
      "source": [
        "# results_example = pd.read_csv('https://stepik.org/media/attachments/course/4852/submission_example.csv')\n",
        "submissions = pd.read_csv('https://stepik.org/media/attachments/course/4852/submission_data_test.csv')\n",
        "events = pd.read_csv('https://stepik.org/media/attachments/course/4852/events_data_test.csv')\n"
      ],
      "execution_count": 0,
      "outputs": []
    },
    {
      "cell_type": "code",
      "metadata": {
        "id": "YWKk2pXKQM_r",
        "colab_type": "code",
        "colab": {}
      },
      "source": [
        "# полные варианты таблиц из https://stepik.org/lesson/222124/step/3?unit=195045\n",
        "submissions_full = pd.read_csv('https://stepik.org/media/attachments/course/4852/submissions_data_train.zip')\n",
        "events_full = pd.read_csv('https://stepik.org/media/attachments/course/4852/event_data_train.zip')"
      ],
      "execution_count": 0,
      "outputs": []
    },
    {
      "cell_type": "code",
      "metadata": {
        "id": "WrdWXwNRRKpb",
        "colab_type": "code",
        "colab": {}
      },
      "source": [
        "# первоначальный вариант обработки данных\n",
        "def process_users_data(submissions, events):\n",
        "  score_by_user = events[events.action == 'passed'].groupby('user_id').agg({'action': 'count'}).rename({'action': 'score'}, axis = 1).reset_index()\n",
        "  submissions = pd.get_dummies(submissions)\n",
        "  attempts_by_user = submissions.groupby('user_id').agg({'submission_status_correct': 'sum', 'submission_status_wrong': 'sum'}) \\\n",
        "  .rename({'submission_status_correct': 'correct', 'submission_status_wrong': 'wrong'}, axis = 1).reset_index()\n",
        "  user_scores = score_by_user.merge(attempts_by_user, how='inner')\n",
        "  return user_scores"
      ],
      "execution_count": 0,
      "outputs": []
    },
    {
      "cell_type": "code",
      "metadata": {
        "id": "my0yaw99SQ44",
        "colab_type": "code",
        "colab": {}
      },
      "source": [
        "user_scores = process_users_data(submissions, events)"
      ],
      "execution_count": 0,
      "outputs": []
    },
    {
      "cell_type": "code",
      "metadata": {
        "id": "4bdA9oBap7Cx",
        "colab_type": "code",
        "colab": {}
      },
      "source": [
        "user_scores['passed'] = user_scores.score.map(lambda x: 1 if x >= 40 else 0)"
      ],
      "execution_count": 0,
      "outputs": []
    },
    {
      "cell_type": "code",
      "metadata": {
        "id": "B6Lsl4oRq_kK",
        "colab_type": "code",
        "outputId": "6d77c4c0-4c8d-4910-8a32-6d82dc93ba56",
        "colab": {
          "base_uri": "https://localhost:8080/",
          "height": 419
        }
      },
      "source": [
        "user_scores"
      ],
      "execution_count": 49,
      "outputs": [
        {
          "output_type": "execute_result",
          "data": {
            "text/html": [
              "<div>\n",
              "<style scoped>\n",
              "    .dataframe tbody tr th:only-of-type {\n",
              "        vertical-align: middle;\n",
              "    }\n",
              "\n",
              "    .dataframe tbody tr th {\n",
              "        vertical-align: top;\n",
              "    }\n",
              "\n",
              "    .dataframe thead th {\n",
              "        text-align: right;\n",
              "    }\n",
              "</style>\n",
              "<table border=\"1\" class=\"dataframe\">\n",
              "  <thead>\n",
              "    <tr style=\"text-align: right;\">\n",
              "      <th></th>\n",
              "      <th>user_id</th>\n",
              "      <th>score</th>\n",
              "      <th>correct</th>\n",
              "      <th>wrong</th>\n",
              "      <th>passed</th>\n",
              "    </tr>\n",
              "  </thead>\n",
              "  <tbody>\n",
              "    <tr>\n",
              "      <th>0</th>\n",
              "      <td>12</td>\n",
              "      <td>9</td>\n",
              "      <td>1</td>\n",
              "      <td>0</td>\n",
              "      <td>0</td>\n",
              "    </tr>\n",
              "    <tr>\n",
              "      <th>1</th>\n",
              "      <td>13</td>\n",
              "      <td>70</td>\n",
              "      <td>29</td>\n",
              "      <td>36</td>\n",
              "      <td>1</td>\n",
              "    </tr>\n",
              "    <tr>\n",
              "      <th>2</th>\n",
              "      <td>15</td>\n",
              "      <td>1</td>\n",
              "      <td>10</td>\n",
              "      <td>30</td>\n",
              "      <td>0</td>\n",
              "    </tr>\n",
              "    <tr>\n",
              "      <th>3</th>\n",
              "      <td>21</td>\n",
              "      <td>68</td>\n",
              "      <td>24</td>\n",
              "      <td>103</td>\n",
              "      <td>1</td>\n",
              "    </tr>\n",
              "    <tr>\n",
              "      <th>4</th>\n",
              "      <td>35</td>\n",
              "      <td>30</td>\n",
              "      <td>7</td>\n",
              "      <td>35</td>\n",
              "      <td>0</td>\n",
              "    </tr>\n",
              "    <tr>\n",
              "      <th>...</th>\n",
              "      <td>...</td>\n",
              "      <td>...</td>\n",
              "      <td>...</td>\n",
              "      <td>...</td>\n",
              "      <td>...</td>\n",
              "    </tr>\n",
              "    <tr>\n",
              "      <th>2781</th>\n",
              "      <td>26775</td>\n",
              "      <td>103</td>\n",
              "      <td>46</td>\n",
              "      <td>160</td>\n",
              "      <td>1</td>\n",
              "    </tr>\n",
              "    <tr>\n",
              "      <th>2782</th>\n",
              "      <td>26780</td>\n",
              "      <td>43</td>\n",
              "      <td>16</td>\n",
              "      <td>7</td>\n",
              "      <td>1</td>\n",
              "    </tr>\n",
              "    <tr>\n",
              "      <th>2783</th>\n",
              "      <td>26785</td>\n",
              "      <td>4</td>\n",
              "      <td>3</td>\n",
              "      <td>1</td>\n",
              "      <td>0</td>\n",
              "    </tr>\n",
              "    <tr>\n",
              "      <th>2784</th>\n",
              "      <td>26796</td>\n",
              "      <td>4</td>\n",
              "      <td>2</td>\n",
              "      <td>3</td>\n",
              "      <td>0</td>\n",
              "    </tr>\n",
              "    <tr>\n",
              "      <th>2785</th>\n",
              "      <td>26799</td>\n",
              "      <td>6</td>\n",
              "      <td>2</td>\n",
              "      <td>0</td>\n",
              "      <td>0</td>\n",
              "    </tr>\n",
              "  </tbody>\n",
              "</table>\n",
              "<p>2786 rows × 5 columns</p>\n",
              "</div>"
            ],
            "text/plain": [
              "      user_id  score  correct  wrong  passed\n",
              "0          12      9        1      0       0\n",
              "1          13     70       29     36       1\n",
              "2          15      1       10     30       0\n",
              "3          21     68       24    103       1\n",
              "4          35     30        7     35       0\n",
              "...       ...    ...      ...    ...     ...\n",
              "2781    26775    103       46    160       1\n",
              "2782    26780     43       16      7       1\n",
              "2783    26785      4        3      1       0\n",
              "2784    26796      4        2      3       0\n",
              "2785    26799      6        2      0       0\n",
              "\n",
              "[2786 rows x 5 columns]"
            ]
          },
          "metadata": {
            "tags": []
          },
          "execution_count": 49
        }
      ]
    },
    {
      "cell_type": "code",
      "metadata": {
        "id": "hcYWMbZnQxZj",
        "colab_type": "code",
        "colab": {}
      },
      "source": [
        "user_scores_full = process_users_data(submissions_full, events_full)"
      ],
      "execution_count": 0,
      "outputs": []
    },
    {
      "cell_type": "code",
      "metadata": {
        "id": "WUpSo-QM3P51",
        "colab_type": "code",
        "colab": {}
      },
      "source": [
        "# Рефакторинг фичаинжинеринга !!!1"
      ],
      "execution_count": 0,
      "outputs": []
    },
    {
      "cell_type": "code",
      "metadata": {
        "id": "rJVAIvq-4SLT",
        "colab_type": "code",
        "colab": {}
      },
      "source": [
        "# добываем статистику степов из submissions\n",
        "def process_steps_data(submissions):\n",
        "  steps_stat = pd.get_dummies(submissions).groupby('step_id') \\\n",
        "    .agg({'submission_status_correct': 'sum', 'submission_status_wrong': 'sum'}) \\\n",
        "    .reset_index()\n",
        "  \n",
        "  # доля правильных ответов в сумме отправленных\n",
        "  steps_stat['corrrate'] = steps_stat.submission_status_correct / (steps_stat.submission_status_correct + steps_stat.submission_status_wrong)\n",
        "\n",
        "  # популярность степов в % по отношению к самому популярному\n",
        "  steps_stat['popularity'] = steps_stat.submission_status_correct + steps_stat.submission_status_wrong\n",
        "  steps_stat.popularity = steps_stat.popularity / steps_stat.popularity.max()\n",
        "  \n",
        "  return steps_stat"
      ],
      "execution_count": 0,
      "outputs": []
    },
    {
      "cell_type": "code",
      "metadata": {
        "id": "nfYlZqOaIt1R",
        "colab_type": "code",
        "colab": {}
      },
      "source": [
        "# добываем статистику степов из events\n",
        "def process_steps_data_ev(events):\n",
        "  steps_stat_ev = pd.get_dummies(events).groupby('step_id') \\\n",
        "  .agg({'action_discovered': 'sum', \n",
        "        'action_passed': 'sum', \n",
        "        'action_started_attempt': 'sum', \n",
        "        'action_viewed': 'sum'}).reset_index()\n",
        "\n",
        "  # доля пройденных степов по отношению к начатым\n",
        "  steps_stat_ev['corrrate_ev'] = steps_stat_ev.action_passed / steps_stat_ev.action_started_attempt\n",
        "  \n",
        "  # популярность степов в % по отношению к самому популярному\n",
        "  steps_stat_ev['popularity_ev'] = steps_stat_ev.action_viewed / steps_stat_ev.action_viewed.max()\n",
        "  \n",
        "  return steps_stat_ev"
      ],
      "execution_count": 0,
      "outputs": []
    },
    {
      "cell_type": "code",
      "metadata": {
        "id": "vPcT-_VdPm1z",
        "colab_type": "code",
        "colab": {}
      },
      "source": [
        "steps_stat = process_steps_data(submissions)"
      ],
      "execution_count": 0,
      "outputs": []
    },
    {
      "cell_type": "code",
      "metadata": {
        "id": "waxOAM9OPy2K",
        "colab_type": "code",
        "colab": {}
      },
      "source": [
        "steps_stat_ev = process_steps_data_ev(events)"
      ],
      "execution_count": 0,
      "outputs": []
    },
    {
      "cell_type": "code",
      "metadata": {
        "id": "0EBpOdVQP3g5",
        "colab_type": "code",
        "colab": {}
      },
      "source": [
        "steps_stat_merged = steps_stat.merge(steps_stat_ev, how='inner')"
      ],
      "execution_count": 0,
      "outputs": []
    },
    {
      "cell_type": "code",
      "metadata": {
        "id": "z8GKBDKLBmNM",
        "colab_type": "code",
        "colab": {
          "base_uri": "https://localhost:8080/",
          "height": 173
        },
        "outputId": "029b4e6e-a781-4512-ebf3-78d8190a4f7d"
      },
      "source": [
        "# время от времени следует задавать себе вопрос: а не хуйню ли я делаю?\n",
        "steps_stat_merged[['corrrate', 'corrrate_ev', 'popularity', 'popularity_ev']].corr()"
      ],
      "execution_count": 227,
      "outputs": [
        {
          "output_type": "execute_result",
          "data": {
            "text/html": [
              "<div>\n",
              "<style scoped>\n",
              "    .dataframe tbody tr th:only-of-type {\n",
              "        vertical-align: middle;\n",
              "    }\n",
              "\n",
              "    .dataframe tbody tr th {\n",
              "        vertical-align: top;\n",
              "    }\n",
              "\n",
              "    .dataframe thead th {\n",
              "        text-align: right;\n",
              "    }\n",
              "</style>\n",
              "<table border=\"1\" class=\"dataframe\">\n",
              "  <thead>\n",
              "    <tr style=\"text-align: right;\">\n",
              "      <th></th>\n",
              "      <th>corrrate</th>\n",
              "      <th>corrrate_ev</th>\n",
              "      <th>popularity</th>\n",
              "      <th>popularity_ev</th>\n",
              "    </tr>\n",
              "  </thead>\n",
              "  <tbody>\n",
              "    <tr>\n",
              "      <th>corrrate</th>\n",
              "      <td>1.000000</td>\n",
              "      <td>0.323288</td>\n",
              "      <td>0.169948</td>\n",
              "      <td>0.256477</td>\n",
              "    </tr>\n",
              "    <tr>\n",
              "      <th>corrrate_ev</th>\n",
              "      <td>0.323288</td>\n",
              "      <td>1.000000</td>\n",
              "      <td>0.694321</td>\n",
              "      <td>0.712206</td>\n",
              "    </tr>\n",
              "    <tr>\n",
              "      <th>popularity</th>\n",
              "      <td>0.169948</td>\n",
              "      <td>0.694321</td>\n",
              "      <td>1.000000</td>\n",
              "      <td>0.963518</td>\n",
              "    </tr>\n",
              "    <tr>\n",
              "      <th>popularity_ev</th>\n",
              "      <td>0.256477</td>\n",
              "      <td>0.712206</td>\n",
              "      <td>0.963518</td>\n",
              "      <td>1.000000</td>\n",
              "    </tr>\n",
              "  </tbody>\n",
              "</table>\n",
              "</div>"
            ],
            "text/plain": [
              "               corrrate  corrrate_ev  popularity  popularity_ev\n",
              "corrrate       1.000000     0.323288    0.169948       0.256477\n",
              "corrrate_ev    0.323288     1.000000    0.694321       0.712206\n",
              "popularity     0.169948     0.694321    1.000000       0.963518\n",
              "popularity_ev  0.256477     0.712206    0.963518       1.000000"
            ]
          },
          "metadata": {
            "tags": []
          },
          "execution_count": 227
        }
      ]
    },
    {
      "cell_type": "code",
      "metadata": {
        "id": "uUhOHK5GjhG6",
        "colab_type": "code",
        "colab": {
          "base_uri": "https://localhost:8080/",
          "height": 296
        },
        "outputId": "7626f3df-3784-4a00-a306-a75a36d83e02"
      },
      "source": [
        "steps_stat_merged.plot('corrrate', 'corrrate_ev')"
      ],
      "execution_count": 229,
      "outputs": [
        {
          "output_type": "execute_result",
          "data": {
            "text/plain": [
              "<matplotlib.axes._subplots.AxesSubplot at 0x7fe04aac40f0>"
            ]
          },
          "metadata": {
            "tags": []
          },
          "execution_count": 229
        },
        {
          "output_type": "display_data",
          "data": {
            "image/png": "[encoded data removed]",
            "text/plain": [
              "<Figure size 432x288 with 1 Axes>"
            ]
          },
          "metadata": {
            "tags": [],
            "needs_background": "light"
          }
        }
      ]
    },
    {
      "cell_type": "code",
      "metadata": {
        "id": "-Rtr_j9Qk5CM",
        "colab_type": "code",
        "colab": {}
      },
      "source": [
        "# хуйню...\n",
        "del(steps_stat_merged)"
      ],
      "execution_count": 0,
      "outputs": []
    }
  ]
}