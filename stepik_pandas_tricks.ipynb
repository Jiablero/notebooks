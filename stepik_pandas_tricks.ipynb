{
  "nbformat": 4,
  "nbformat_minor": 0,
  "metadata": {
    "colab": {
      "name": "stepik_pandas_tricks.ipynb",
      "provenance": [],
      "authorship_tag": "ABX9TyN3uaxR9GlbpSiukqlonaOV",
      "include_colab_link": true
    },
    "kernelspec": {
      "name": "python3",
      "display_name": "Python 3"
    }
  },
  "cells": [
    {
      "cell_type": "markdown",
      "metadata": {
        "id": "view-in-github",
        "colab_type": "text"
      },
      "source": [
        "<a href=\"https://colab.research.google.com/github/Jiablero/notebooks/blob/master/stepik_pandas_tricks.ipynb\" target=\"_parent\"><img src=\"https://colab.research.google.com/assets/colab-badge.svg\" alt=\"Open In Colab\"/></a>"
      ]
    },
    {
      "cell_type": "code",
      "metadata": {
        "id": "my4EFnwxzM88",
        "colab_type": "code",
        "colab": {}
      },
      "source": [
        "import numpy as np\n",
        "import pandas as pd\n",
        "%matplotlib inline"
      ],
      "execution_count": 0,
      "outputs": []
    },
    {
      "cell_type": "markdown",
      "metadata": {
        "id": "A9ltpGIMzdnV",
        "colab_type": "text"
      },
      "source": [
        "Датасет здесь: https://www.kaggle.com/carolzhangdc/imdb-5000-movie-dataset/"
      ]
    },
    {
      "cell_type": "code",
      "metadata": {
        "id": "VDTiXFyz0fAH",
        "colab_type": "code",
        "colab": {
          "resources": {
            "http://localhost:8080/nbextensions/google.colab/files.js": {
              "data": "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",
              "ok": true,
              "headers": [
                [
                  "content-type",
                  "application/javascript"
                ]
              ],
              "status": 200,
              "status_text": ""
            }
          },
          "base_uri": "https://localhost:8080/",
          "height": 40
        },
        "outputId": "ee6f68cc-62db-435b-bf06-cf9a7eb164f0"
      },
      "source": [
        "# для загрузки файла на Google Colab\n",
        "from google.colab import files\n",
        "uploaded = files.upload()"
      ],
      "execution_count": 5,
      "outputs": [
        {
          "output_type": "display_data",
          "data": {
            "text/html": [
              "\n",
              "     <input type=\"file\" id=\"files-53a6910a-26c5-4f8b-8fa5-056057716765\" name=\"files[]\" multiple disabled />\n",
              "     <output id=\"result-53a6910a-26c5-4f8b-8fa5-056057716765\">\n",
              "      Upload widget is only available when the cell has been executed in the\n",
              "      current browser session. Please rerun this cell to enable.\n",
              "      </output>\n",
              "      <script src=\"/nbextensions/google.colab/files.js\"></script> "
            ],
            "text/plain": [
              "<IPython.core.display.HTML object>"
            ]
          },
          "metadata": {
            "tags": []
          }
        }
      ]
    },
    {
      "cell_type": "markdown",
      "metadata": {
        "id": "Ob_WpQfV231m",
        "colab_type": "text"
      },
      "source": [
        "**Step 3** "
      ]
    },
    {
      "cell_type": "code",
      "metadata": {
        "id": "8gWp5KRWzXoA",
        "colab_type": "code",
        "colab": {}
      },
      "source": [
        "movie = pd.read_csv('imdb-5000-movie-dataset.zip')"
      ],
      "execution_count": 0,
      "outputs": []
    },
    {
      "cell_type": "code",
      "metadata": {
        "id": "LGFfPoLRz6Wp",
        "colab_type": "code",
        "colab": {
          "base_uri": "https://localhost:8080/",
          "height": 360
        },
        "outputId": "cc99dd48-045e-4abc-d36a-a7c0ef078936"
      },
      "source": [
        "movie.head()"
      ],
      "execution_count": 4,
      "outputs": [
        {
          "output_type": "execute_result",
          "data": {
            "text/html": [
              "<div>\n",
              "<style scoped>\n",
              "    .dataframe tbody tr th:only-of-type {\n",
              "        vertical-align: middle;\n",
              "    }\n",
              "\n",
              "    .dataframe tbody tr th {\n",
              "        vertical-align: top;\n",
              "    }\n",
              "\n",
              "    .dataframe thead th {\n",
              "        text-align: right;\n",
              "    }\n",
              "</style>\n",
              "<table border=\"1\" class=\"dataframe\">\n",
              "  <thead>\n",
              "    <tr style=\"text-align: right;\">\n",
              "      <th></th>\n",
              "      <th>color</th>\n",
              "      <th>director_name</th>\n",
              "      <th>num_critic_for_reviews</th>\n",
              "      <th>duration</th>\n",
              "      <th>director_facebook_likes</th>\n",
              "      <th>actor_3_facebook_likes</th>\n",
              "      <th>actor_2_name</th>\n",
              "      <th>actor_1_facebook_likes</th>\n",
              "      <th>gross</th>\n",
              "      <th>genres</th>\n",
              "      <th>actor_1_name</th>\n",
              "      <th>movie_title</th>\n",
              "      <th>num_voted_users</th>\n",
              "      <th>cast_total_facebook_likes</th>\n",
              "      <th>actor_3_name</th>\n",
              "      <th>facenumber_in_poster</th>\n",
              "      <th>plot_keywords</th>\n",
              "      <th>movie_imdb_link</th>\n",
              "      <th>num_user_for_reviews</th>\n",
              "      <th>language</th>\n",
              "      <th>country</th>\n",
              "      <th>content_rating</th>\n",
              "      <th>budget</th>\n",
              "      <th>title_year</th>\n",
              "      <th>actor_2_facebook_likes</th>\n",
              "      <th>imdb_score</th>\n",
              "      <th>aspect_ratio</th>\n",
              "      <th>movie_facebook_likes</th>\n",
              "    </tr>\n",
              "  </thead>\n",
              "  <tbody>\n",
              "    <tr>\n",
              "      <th>0</th>\n",
              "      <td>Color</td>\n",
              "      <td>James Cameron</td>\n",
              "      <td>723.0</td>\n",
              "      <td>178.0</td>\n",
              "      <td>0.0</td>\n",
              "      <td>855.0</td>\n",
              "      <td>Joel David Moore</td>\n",
              "      <td>1000.0</td>\n",
              "      <td>760505847.0</td>\n",
              "      <td>Action|Adventure|Fantasy|Sci-Fi</td>\n",
              "      <td>CCH Pounder</td>\n",
              "      <td>Avatar</td>\n",
              "      <td>886204</td>\n",
              "      <td>4834</td>\n",
              "      <td>Wes Studi</td>\n",
              "      <td>0.0</td>\n",
              "      <td>avatar|future|marine|native|paraplegic</td>\n",
              "      <td>http://www.imdb.com/title/tt0499549/?ref_=fn_t...</td>\n",
              "      <td>3054.0</td>\n",
              "      <td>English</td>\n",
              "      <td>USA</td>\n",
              "      <td>PG-13</td>\n",
              "      <td>237000000.0</td>\n",
              "      <td>2009.0</td>\n",
              "      <td>936.0</td>\n",
              "      <td>7.9</td>\n",
              "      <td>1.78</td>\n",
              "      <td>33000</td>\n",
              "    </tr>\n",
              "    <tr>\n",
              "      <th>1</th>\n",
              "      <td>Color</td>\n",
              "      <td>Gore Verbinski</td>\n",
              "      <td>302.0</td>\n",
              "      <td>169.0</td>\n",
              "      <td>563.0</td>\n",
              "      <td>1000.0</td>\n",
              "      <td>Orlando Bloom</td>\n",
              "      <td>40000.0</td>\n",
              "      <td>309404152.0</td>\n",
              "      <td>Action|Adventure|Fantasy</td>\n",
              "      <td>Johnny Depp</td>\n",
              "      <td>Pirates of the Caribbean: At World's End</td>\n",
              "      <td>471220</td>\n",
              "      <td>48350</td>\n",
              "      <td>Jack Davenport</td>\n",
              "      <td>0.0</td>\n",
              "      <td>goddess|marriage ceremony|marriage proposal|pi...</td>\n",
              "      <td>http://www.imdb.com/title/tt0449088/?ref_=fn_t...</td>\n",
              "      <td>1238.0</td>\n",
              "      <td>English</td>\n",
              "      <td>USA</td>\n",
              "      <td>PG-13</td>\n",
              "      <td>300000000.0</td>\n",
              "      <td>2007.0</td>\n",
              "      <td>5000.0</td>\n",
              "      <td>7.1</td>\n",
              "      <td>2.35</td>\n",
              "      <td>0</td>\n",
              "    </tr>\n",
              "    <tr>\n",
              "      <th>2</th>\n",
              "      <td>Color</td>\n",
              "      <td>Sam Mendes</td>\n",
              "      <td>602.0</td>\n",
              "      <td>148.0</td>\n",
              "      <td>0.0</td>\n",
              "      <td>161.0</td>\n",
              "      <td>Rory Kinnear</td>\n",
              "      <td>11000.0</td>\n",
              "      <td>200074175.0</td>\n",
              "      <td>Action|Adventure|Thriller</td>\n",
              "      <td>Christoph Waltz</td>\n",
              "      <td>Spectre</td>\n",
              "      <td>275868</td>\n",
              "      <td>11700</td>\n",
              "      <td>Stephanie Sigman</td>\n",
              "      <td>1.0</td>\n",
              "      <td>bomb|espionage|sequel|spy|terrorist</td>\n",
              "      <td>http://www.imdb.com/title/tt2379713/?ref_=fn_t...</td>\n",
              "      <td>994.0</td>\n",
              "      <td>English</td>\n",
              "      <td>UK</td>\n",
              "      <td>PG-13</td>\n",
              "      <td>245000000.0</td>\n",
              "      <td>2015.0</td>\n",
              "      <td>393.0</td>\n",
              "      <td>6.8</td>\n",
              "      <td>2.35</td>\n",
              "      <td>85000</td>\n",
              "    </tr>\n",
              "    <tr>\n",
              "      <th>3</th>\n",
              "      <td>Color</td>\n",
              "      <td>Christopher Nolan</td>\n",
              "      <td>813.0</td>\n",
              "      <td>164.0</td>\n",
              "      <td>22000.0</td>\n",
              "      <td>23000.0</td>\n",
              "      <td>Christian Bale</td>\n",
              "      <td>27000.0</td>\n",
              "      <td>448130642.0</td>\n",
              "      <td>Action|Thriller</td>\n",
              "      <td>Tom Hardy</td>\n",
              "      <td>The Dark Knight Rises</td>\n",
              "      <td>1144337</td>\n",
              "      <td>106759</td>\n",
              "      <td>Joseph Gordon-Levitt</td>\n",
              "      <td>0.0</td>\n",
              "      <td>deception|imprisonment|lawlessness|police offi...</td>\n",
              "      <td>http://www.imdb.com/title/tt1345836/?ref_=fn_t...</td>\n",
              "      <td>2701.0</td>\n",
              "      <td>English</td>\n",
              "      <td>USA</td>\n",
              "      <td>PG-13</td>\n",
              "      <td>250000000.0</td>\n",
              "      <td>2012.0</td>\n",
              "      <td>23000.0</td>\n",
              "      <td>8.5</td>\n",
              "      <td>2.35</td>\n",
              "      <td>164000</td>\n",
              "    </tr>\n",
              "    <tr>\n",
              "      <th>4</th>\n",
              "      <td>NaN</td>\n",
              "      <td>Doug Walker</td>\n",
              "      <td>NaN</td>\n",
              "      <td>NaN</td>\n",
              "      <td>131.0</td>\n",
              "      <td>NaN</td>\n",
              "      <td>Rob Walker</td>\n",
              "      <td>131.0</td>\n",
              "      <td>NaN</td>\n",
              "      <td>Documentary</td>\n",
              "      <td>Doug Walker</td>\n",
              "      <td>Star Wars: Episode VII - The Force Awakens    ...</td>\n",
              "      <td>8</td>\n",
              "      <td>143</td>\n",
              "      <td>NaN</td>\n",
              "      <td>0.0</td>\n",
              "      <td>NaN</td>\n",
              "      <td>http://www.imdb.com/title/tt5289954/?ref_=fn_t...</td>\n",
              "      <td>NaN</td>\n",
              "      <td>NaN</td>\n",
              "      <td>NaN</td>\n",
              "      <td>NaN</td>\n",
              "      <td>NaN</td>\n",
              "      <td>NaN</td>\n",
              "      <td>12.0</td>\n",
              "      <td>7.1</td>\n",
              "      <td>NaN</td>\n",
              "      <td>0</td>\n",
              "    </tr>\n",
              "  </tbody>\n",
              "</table>\n",
              "</div>"
            ],
            "text/plain": [
              "   color      director_name  ...  aspect_ratio  movie_facebook_likes\n",
              "0  Color      James Cameron  ...          1.78                 33000\n",
              "1  Color     Gore Verbinski  ...          2.35                     0\n",
              "2  Color         Sam Mendes  ...          2.35                 85000\n",
              "3  Color  Christopher Nolan  ...          2.35                164000\n",
              "4    NaN        Doug Walker  ...           NaN                     0\n",
              "\n",
              "[5 rows x 28 columns]"
            ]
          },
          "metadata": {
            "tags": []
          },
          "execution_count": 4
        }
      ]
    },
    {
      "cell_type": "code",
      "metadata": {
        "id": "gqg6Y8Mm1HMf",
        "colab_type": "code",
        "colab": {}
      },
      "source": [
        "genres = movie[['movie_title', 'genres']]\n"
      ],
      "execution_count": 0,
      "outputs": []
    },
    {
      "cell_type": "code",
      "metadata": {
        "id": "I-vbzg_N1VuH",
        "colab_type": "code",
        "colab": {
          "base_uri": "https://localhost:8080/",
          "height": 419
        },
        "outputId": "4f778225-0d25-4015-91b9-628df562fab6"
      },
      "source": [
        "genres"
      ],
      "execution_count": 8,
      "outputs": [
        {
          "output_type": "execute_result",
          "data": {
            "text/html": [
              "<div>\n",
              "<style scoped>\n",
              "    .dataframe tbody tr th:only-of-type {\n",
              "        vertical-align: middle;\n",
              "    }\n",
              "\n",
              "    .dataframe tbody tr th {\n",
              "        vertical-align: top;\n",
              "    }\n",
              "\n",
              "    .dataframe thead th {\n",
              "        text-align: right;\n",
              "    }\n",
              "</style>\n",
              "<table border=\"1\" class=\"dataframe\">\n",
              "  <thead>\n",
              "    <tr style=\"text-align: right;\">\n",
              "      <th></th>\n",
              "      <th>movie_title</th>\n",
              "      <th>genres</th>\n",
              "    </tr>\n",
              "  </thead>\n",
              "  <tbody>\n",
              "    <tr>\n",
              "      <th>0</th>\n",
              "      <td>Avatar</td>\n",
              "      <td>Action|Adventure|Fantasy|Sci-Fi</td>\n",
              "    </tr>\n",
              "    <tr>\n",
              "      <th>1</th>\n",
              "      <td>Pirates of the Caribbean: At World's End</td>\n",
              "      <td>Action|Adventure|Fantasy</td>\n",
              "    </tr>\n",
              "    <tr>\n",
              "      <th>2</th>\n",
              "      <td>Spectre</td>\n",
              "      <td>Action|Adventure|Thriller</td>\n",
              "    </tr>\n",
              "    <tr>\n",
              "      <th>3</th>\n",
              "      <td>The Dark Knight Rises</td>\n",
              "      <td>Action|Thriller</td>\n",
              "    </tr>\n",
              "    <tr>\n",
              "      <th>4</th>\n",
              "      <td>Star Wars: Episode VII - The Force Awakens    ...</td>\n",
              "      <td>Documentary</td>\n",
              "    </tr>\n",
              "    <tr>\n",
              "      <th>...</th>\n",
              "      <td>...</td>\n",
              "      <td>...</td>\n",
              "    </tr>\n",
              "    <tr>\n",
              "      <th>5038</th>\n",
              "      <td>Signed Sealed Delivered</td>\n",
              "      <td>Comedy|Drama</td>\n",
              "    </tr>\n",
              "    <tr>\n",
              "      <th>5039</th>\n",
              "      <td>The Following</td>\n",
              "      <td>Crime|Drama|Mystery|Thriller</td>\n",
              "    </tr>\n",
              "    <tr>\n",
              "      <th>5040</th>\n",
              "      <td>A Plague So Pleasant</td>\n",
              "      <td>Drama|Horror|Thriller</td>\n",
              "    </tr>\n",
              "    <tr>\n",
              "      <th>5041</th>\n",
              "      <td>Shanghai Calling</td>\n",
              "      <td>Comedy|Drama|Romance</td>\n",
              "    </tr>\n",
              "    <tr>\n",
              "      <th>5042</th>\n",
              "      <td>My Date with Drew</td>\n",
              "      <td>Documentary</td>\n",
              "    </tr>\n",
              "  </tbody>\n",
              "</table>\n",
              "<p>5043 rows × 2 columns</p>\n",
              "</div>"
            ],
            "text/plain": [
              "                                            movie_title                           genres\n",
              "0                                               Avatar   Action|Adventure|Fantasy|Sci-Fi\n",
              "1             Pirates of the Caribbean: At World's End          Action|Adventure|Fantasy\n",
              "2                                              Spectre         Action|Adventure|Thriller\n",
              "3                                The Dark Knight Rises                   Action|Thriller\n",
              "4     Star Wars: Episode VII - The Force Awakens    ...                      Documentary\n",
              "...                                                 ...                              ...\n",
              "5038                           Signed Sealed Delivered                      Comedy|Drama\n",
              "5039                         The Following                  Crime|Drama|Mystery|Thriller\n",
              "5040                              A Plague So Pleasant             Drama|Horror|Thriller\n",
              "5041                                  Shanghai Calling              Comedy|Drama|Romance\n",
              "5042                                 My Date with Drew                       Documentary\n",
              "\n",
              "[5043 rows x 2 columns]"
            ]
          },
          "metadata": {
            "tags": []
          },
          "execution_count": 8
        }
      ]
    },
    {
      "cell_type": "code",
      "metadata": {
        "id": "_Uc9S4Tk1WTy",
        "colab_type": "code",
        "colab": {
          "base_uri": "https://localhost:8080/",
          "height": 51
        },
        "outputId": "64732f7e-e09d-42d1-85ca-a9bbb54fc49a"
      },
      "source": [
        "for i in genres:\n",
        "    print(i)"
      ],
      "execution_count": 9,
      "outputs": [
        {
          "output_type": "stream",
          "text": [
            "movie_title\n",
            "genres\n"
          ],
          "name": "stdout"
        }
      ]
    },
    {
      "cell_type": "code",
      "metadata": {
        "id": "gTvN8TEH1mnf",
        "colab_type": "code",
        "colab": {}
      },
      "source": [
        "for i in genres.values:\n",
        "    print(i) "
      ],
      "execution_count": 0,
      "outputs": []
    },
    {
      "cell_type": "code",
      "metadata": {
        "id": "BkvzNXE_164w",
        "colab_type": "code",
        "colab": {}
      },
      "source": [
        "for row in genres.values:\n",
        "    for value in row:\n",
        "        print(value)"
      ],
      "execution_count": 0,
      "outputs": []
    },
    {
      "cell_type": "code",
      "metadata": {
        "id": "Ud4yEheG1-2p",
        "colab_type": "code",
        "colab": {}
      },
      "source": [
        "def reversator(value):\n",
        "    return value[::-1]"
      ],
      "execution_count": 0,
      "outputs": []
    },
    {
      "cell_type": "code",
      "metadata": {
        "id": "KCWBio1x2J3o",
        "colab_type": "code",
        "colab": {}
      },
      "source": [
        "for row in genres.values:\n",
        "    for value in row:\n",
        "        print(reversator(value))\n"
      ],
      "execution_count": 0,
      "outputs": []
    },
    {
      "cell_type": "code",
      "metadata": {
        "id": "qp8s3xnq2N7P",
        "colab_type": "code",
        "colab": {}
      },
      "source": [
        "for row in genres.iterrows():\n",
        "    print(row)"
      ],
      "execution_count": 0,
      "outputs": []
    },
    {
      "cell_type": "code",
      "metadata": {
        "id": "oeHpag_o2YYo",
        "colab_type": "code",
        "colab": {}
      },
      "source": [
        "for i, row in genres.iterrows():\n",
        "    print(row.map(reversator))"
      ],
      "execution_count": 0,
      "outputs": []
    },
    {
      "cell_type": "code",
      "metadata": {
        "id": "bY-hrqNk2emq",
        "colab_type": "code",
        "colab": {}
      },
      "source": [
        "for i, col in genres.iteritems():\n",
        "    print(col)"
      ],
      "execution_count": 0,
      "outputs": []
    },
    {
      "cell_type": "code",
      "metadata": {
        "id": "SeNlFqam2jZZ",
        "colab_type": "code",
        "colab": {}
      },
      "source": [
        "for i, col in genres.iteritems():\n",
        "    print(col.map(reversator))"
      ],
      "execution_count": 0,
      "outputs": []
    },
    {
      "cell_type": "markdown",
      "metadata": {
        "id": "YwwCDzY729GK",
        "colab_type": "text"
      },
      "source": [
        "**Step 4**"
      ]
    },
    {
      "cell_type": "code",
      "metadata": {
        "id": "4AtFh5oz3AEE",
        "colab_type": "code",
        "colab": {}
      },
      "source": [
        "budget=movie[['budget', 'duration']]"
      ],
      "execution_count": 0,
      "outputs": []
    },
    {
      "cell_type": "code",
      "metadata": {
        "id": "EOYq5z0B3D6y",
        "colab_type": "code",
        "colab": {
          "base_uri": "https://localhost:8080/",
          "height": 204
        },
        "outputId": "f481130e-51a4-4916-e290-6e773dc6ce01"
      },
      "source": [
        "budget.head()"
      ],
      "execution_count": 19,
      "outputs": [
        {
          "output_type": "execute_result",
          "data": {
            "text/html": [
              "<div>\n",
              "<style scoped>\n",
              "    .dataframe tbody tr th:only-of-type {\n",
              "        vertical-align: middle;\n",
              "    }\n",
              "\n",
              "    .dataframe tbody tr th {\n",
              "        vertical-align: top;\n",
              "    }\n",
              "\n",
              "    .dataframe thead th {\n",
              "        text-align: right;\n",
              "    }\n",
              "</style>\n",
              "<table border=\"1\" class=\"dataframe\">\n",
              "  <thead>\n",
              "    <tr style=\"text-align: right;\">\n",
              "      <th></th>\n",
              "      <th>budget</th>\n",
              "      <th>duration</th>\n",
              "    </tr>\n",
              "  </thead>\n",
              "  <tbody>\n",
              "    <tr>\n",
              "      <th>0</th>\n",
              "      <td>237000000.0</td>\n",
              "      <td>178.0</td>\n",
              "    </tr>\n",
              "    <tr>\n",
              "      <th>1</th>\n",
              "      <td>300000000.0</td>\n",
              "      <td>169.0</td>\n",
              "    </tr>\n",
              "    <tr>\n",
              "      <th>2</th>\n",
              "      <td>245000000.0</td>\n",
              "      <td>148.0</td>\n",
              "    </tr>\n",
              "    <tr>\n",
              "      <th>3</th>\n",
              "      <td>250000000.0</td>\n",
              "      <td>164.0</td>\n",
              "    </tr>\n",
              "    <tr>\n",
              "      <th>4</th>\n",
              "      <td>NaN</td>\n",
              "      <td>NaN</td>\n",
              "    </tr>\n",
              "  </tbody>\n",
              "</table>\n",
              "</div>"
            ],
            "text/plain": [
              "        budget  duration\n",
              "0  237000000.0     178.0\n",
              "1  300000000.0     169.0\n",
              "2  245000000.0     148.0\n",
              "3  250000000.0     164.0\n",
              "4          NaN       NaN"
            ]
          },
          "metadata": {
            "tags": []
          },
          "execution_count": 19
        }
      ]
    },
    {
      "cell_type": "code",
      "metadata": {
        "id": "5twfGtar3JYS",
        "colab_type": "code",
        "colab": {
          "base_uri": "https://localhost:8080/",
          "height": 419
        },
        "outputId": "c702dc6a-ce2d-4ed7-9ab7-b7e44ea7b261"
      },
      "source": [
        "budget.applymap(lambda x: x + 1) # применяет ф-цию к каждому значению датасета"
      ],
      "execution_count": 21,
      "outputs": [
        {
          "output_type": "execute_result",
          "data": {
            "text/html": [
              "<div>\n",
              "<style scoped>\n",
              "    .dataframe tbody tr th:only-of-type {\n",
              "        vertical-align: middle;\n",
              "    }\n",
              "\n",
              "    .dataframe tbody tr th {\n",
              "        vertical-align: top;\n",
              "    }\n",
              "\n",
              "    .dataframe thead th {\n",
              "        text-align: right;\n",
              "    }\n",
              "</style>\n",
              "<table border=\"1\" class=\"dataframe\">\n",
              "  <thead>\n",
              "    <tr style=\"text-align: right;\">\n",
              "      <th></th>\n",
              "      <th>budget</th>\n",
              "      <th>duration</th>\n",
              "    </tr>\n",
              "  </thead>\n",
              "  <tbody>\n",
              "    <tr>\n",
              "      <th>0</th>\n",
              "      <td>237000001.0</td>\n",
              "      <td>179.0</td>\n",
              "    </tr>\n",
              "    <tr>\n",
              "      <th>1</th>\n",
              "      <td>300000001.0</td>\n",
              "      <td>170.0</td>\n",
              "    </tr>\n",
              "    <tr>\n",
              "      <th>2</th>\n",
              "      <td>245000001.0</td>\n",
              "      <td>149.0</td>\n",
              "    </tr>\n",
              "    <tr>\n",
              "      <th>3</th>\n",
              "      <td>250000001.0</td>\n",
              "      <td>165.0</td>\n",
              "    </tr>\n",
              "    <tr>\n",
              "      <th>4</th>\n",
              "      <td>NaN</td>\n",
              "      <td>NaN</td>\n",
              "    </tr>\n",
              "    <tr>\n",
              "      <th>...</th>\n",
              "      <td>...</td>\n",
              "      <td>...</td>\n",
              "    </tr>\n",
              "    <tr>\n",
              "      <th>5038</th>\n",
              "      <td>NaN</td>\n",
              "      <td>88.0</td>\n",
              "    </tr>\n",
              "    <tr>\n",
              "      <th>5039</th>\n",
              "      <td>NaN</td>\n",
              "      <td>44.0</td>\n",
              "    </tr>\n",
              "    <tr>\n",
              "      <th>5040</th>\n",
              "      <td>1401.0</td>\n",
              "      <td>77.0</td>\n",
              "    </tr>\n",
              "    <tr>\n",
              "      <th>5041</th>\n",
              "      <td>NaN</td>\n",
              "      <td>101.0</td>\n",
              "    </tr>\n",
              "    <tr>\n",
              "      <th>5042</th>\n",
              "      <td>1101.0</td>\n",
              "      <td>91.0</td>\n",
              "    </tr>\n",
              "  </tbody>\n",
              "</table>\n",
              "<p>5043 rows × 2 columns</p>\n",
              "</div>"
            ],
            "text/plain": [
              "           budget  duration\n",
              "0     237000001.0     179.0\n",
              "1     300000001.0     170.0\n",
              "2     245000001.0     149.0\n",
              "3     250000001.0     165.0\n",
              "4             NaN       NaN\n",
              "...           ...       ...\n",
              "5038          NaN      88.0\n",
              "5039          NaN      44.0\n",
              "5040       1401.0      77.0\n",
              "5041          NaN     101.0\n",
              "5042       1101.0      91.0\n",
              "\n",
              "[5043 rows x 2 columns]"
            ]
          },
          "metadata": {
            "tags": []
          },
          "execution_count": 21
        }
      ]
    },
    {
      "cell_type": "code",
      "metadata": {
        "id": "RkIpGgga3PEs",
        "colab_type": "code",
        "colab": {
          "base_uri": "https://localhost:8080/",
          "height": 68
        },
        "outputId": "5109a79a-d709-4127-e50b-508569bf6921"
      },
      "source": [
        "budget.apply(np.mean, axis=0) # применяет функцию к колонке, или к строке"
      ],
      "execution_count": 24,
      "outputs": [
        {
          "output_type": "execute_result",
          "data": {
            "text/plain": [
              "budget      3.975262e+07\n",
              "duration    1.072011e+02\n",
              "dtype: float64"
            ]
          },
          "metadata": {
            "tags": []
          },
          "execution_count": 24
        }
      ]
    },
    {
      "cell_type": "code",
      "metadata": {
        "id": "-4q6aHAa3qKF",
        "colab_type": "code",
        "colab": {
          "base_uri": "https://localhost:8080/",
          "height": 419
        },
        "outputId": "079cf4bb-fa46-40dc-ddd9-4062f156999a"
      },
      "source": [
        "budget.transform(lambda x: x + 1) "
      ],
      "execution_count": 25,
      "outputs": [
        {
          "output_type": "execute_result",
          "data": {
            "text/html": [
              "<div>\n",
              "<style scoped>\n",
              "    .dataframe tbody tr th:only-of-type {\n",
              "        vertical-align: middle;\n",
              "    }\n",
              "\n",
              "    .dataframe tbody tr th {\n",
              "        vertical-align: top;\n",
              "    }\n",
              "\n",
              "    .dataframe thead th {\n",
              "        text-align: right;\n",
              "    }\n",
              "</style>\n",
              "<table border=\"1\" class=\"dataframe\">\n",
              "  <thead>\n",
              "    <tr style=\"text-align: right;\">\n",
              "      <th></th>\n",
              "      <th>budget</th>\n",
              "      <th>duration</th>\n",
              "    </tr>\n",
              "  </thead>\n",
              "  <tbody>\n",
              "    <tr>\n",
              "      <th>0</th>\n",
              "      <td>237000001.0</td>\n",
              "      <td>179.0</td>\n",
              "    </tr>\n",
              "    <tr>\n",
              "      <th>1</th>\n",
              "      <td>300000001.0</td>\n",
              "      <td>170.0</td>\n",
              "    </tr>\n",
              "    <tr>\n",
              "      <th>2</th>\n",
              "      <td>245000001.0</td>\n",
              "      <td>149.0</td>\n",
              "    </tr>\n",
              "    <tr>\n",
              "      <th>3</th>\n",
              "      <td>250000001.0</td>\n",
              "      <td>165.0</td>\n",
              "    </tr>\n",
              "    <tr>\n",
              "      <th>4</th>\n",
              "      <td>NaN</td>\n",
              "      <td>NaN</td>\n",
              "    </tr>\n",
              "    <tr>\n",
              "      <th>...</th>\n",
              "      <td>...</td>\n",
              "      <td>...</td>\n",
              "    </tr>\n",
              "    <tr>\n",
              "      <th>5038</th>\n",
              "      <td>NaN</td>\n",
              "      <td>88.0</td>\n",
              "    </tr>\n",
              "    <tr>\n",
              "      <th>5039</th>\n",
              "      <td>NaN</td>\n",
              "      <td>44.0</td>\n",
              "    </tr>\n",
              "    <tr>\n",
              "      <th>5040</th>\n",
              "      <td>1401.0</td>\n",
              "      <td>77.0</td>\n",
              "    </tr>\n",
              "    <tr>\n",
              "      <th>5041</th>\n",
              "      <td>NaN</td>\n",
              "      <td>101.0</td>\n",
              "    </tr>\n",
              "    <tr>\n",
              "      <th>5042</th>\n",
              "      <td>1101.0</td>\n",
              "      <td>91.0</td>\n",
              "    </tr>\n",
              "  </tbody>\n",
              "</table>\n",
              "<p>5043 rows × 2 columns</p>\n",
              "</div>"
            ],
            "text/plain": [
              "           budget  duration\n",
              "0     237000001.0     179.0\n",
              "1     300000001.0     170.0\n",
              "2     245000001.0     149.0\n",
              "3     250000001.0     165.0\n",
              "4             NaN       NaN\n",
              "...           ...       ...\n",
              "5038          NaN      88.0\n",
              "5039          NaN      44.0\n",
              "5040       1401.0      77.0\n",
              "5041          NaN     101.0\n",
              "5042       1101.0      91.0\n",
              "\n",
              "[5043 rows x 2 columns]"
            ]
          },
          "metadata": {
            "tags": []
          },
          "execution_count": 25
        }
      ]
    },
    {
      "cell_type": "code",
      "metadata": {
        "id": "04Q8hxff4Fue",
        "colab_type": "code",
        "colab": {}
      },
      "source": [
        "def mm(col):\n",
        "    return np.mean(col) + 1"
      ],
      "execution_count": 0,
      "outputs": []
    },
    {
      "cell_type": "code",
      "metadata": {
        "id": "4Ba-1IEO4Jal",
        "colab_type": "code",
        "colab": {
          "base_uri": "https://localhost:8080/",
          "height": 68
        },
        "outputId": "2ee408db-7b35-4ff0-ee1c-21748078b04a"
      },
      "source": [
        "budget.apply(mm)"
      ],
      "execution_count": 27,
      "outputs": [
        {
          "output_type": "execute_result",
          "data": {
            "text/plain": [
              "budget      3.975262e+07\n",
              "duration    1.082011e+02\n",
              "dtype: float64"
            ]
          },
          "metadata": {
            "tags": []
          },
          "execution_count": 27
        }
      ]
    },
    {
      "cell_type": "code",
      "metadata": {
        "id": "7n-YxRlq4byO",
        "colab_type": "code",
        "colab": {
          "base_uri": "https://localhost:8080/",
          "height": 68
        },
        "outputId": "28c62656-fb6f-49bb-8e9a-b7fdf5bf7f2b"
      },
      "source": [
        "budget.mean() + 1"
      ],
      "execution_count": 28,
      "outputs": [
        {
          "output_type": "execute_result",
          "data": {
            "text/plain": [
              "budget      3.975262e+07\n",
              "duration    1.082011e+02\n",
              "dtype: float64"
            ]
          },
          "metadata": {
            "tags": []
          },
          "execution_count": 28
        }
      ]
    },
    {
      "cell_type": "markdown",
      "metadata": {
        "id": "BeGjPle644M4",
        "colab_type": "text"
      },
      "source": [
        "**Step 5** "
      ]
    },
    {
      "cell_type": "code",
      "metadata": {
        "id": "VGdiDjB141_8",
        "colab_type": "code",
        "colab": {
          "base_uri": "https://localhost:8080/",
          "height": 34
        },
        "outputId": "16b8994b-6d4a-4501-8696-f4568d17e340"
      },
      "source": [
        "# np array выигрывает в скорости по сравнению с pd.DataFrame\n",
        "np.mean(budget['budget'].values)"
      ],
      "execution_count": 30,
      "outputs": [
        {
          "output_type": "execute_result",
          "data": {
            "text/plain": [
              "nan"
            ]
          },
          "metadata": {
            "tags": []
          },
          "execution_count": 30
        }
      ]
    },
    {
      "cell_type": "code",
      "metadata": {
        "id": "ZRbGm-k858U6",
        "colab_type": "code",
        "colab": {
          "base_uri": "https://localhost:8080/",
          "height": 34
        },
        "outputId": "b951aa98-892d-49ef-ab95-31d4f6c7bb52"
      },
      "source": [
        "# но и имеет свои неудобства: применяем dropna() чтобы посчитать mean()\n",
        "np.mean(budget['budget'].dropna().values)"
      ],
      "execution_count": 31,
      "outputs": [
        {
          "output_type": "execute_result",
          "data": {
            "text/plain": [
              "39752620.436387606"
            ]
          },
          "metadata": {
            "tags": []
          },
          "execution_count": 31
        }
      ]
    },
    {
      "cell_type": "markdown",
      "metadata": {
        "id": "LH_JQlrY7nGP",
        "colab_type": "text"
      },
      "source": [
        "**Step 7**\n",
        "Time Series"
      ]
    },
    {
      "cell_type": "code",
      "metadata": {
        "id": "G1Z8PBUU7rCT",
        "colab_type": "code",
        "colab": {}
      },
      "source": [
        "stock=pd.read_csv('https://raw.githubusercontent.com/PacktPublishing/Pandas-Cookbook/master/data/amzn_stock.csv')"
      ],
      "execution_count": 0,
      "outputs": []
    },
    {
      "cell_type": "code",
      "metadata": {
        "id": "gh_1TNyr7yaq",
        "colab_type": "code",
        "colab": {
          "base_uri": "https://localhost:8080/",
          "height": 204
        },
        "outputId": "e621d2ae-5148-4e15-e6bb-264826ac4538"
      },
      "source": [
        "stock.head()"
      ],
      "execution_count": 41,
      "outputs": [
        {
          "output_type": "execute_result",
          "data": {
            "text/html": [
              "<div>\n",
              "<style scoped>\n",
              "    .dataframe tbody tr th:only-of-type {\n",
              "        vertical-align: middle;\n",
              "    }\n",
              "\n",
              "    .dataframe tbody tr th {\n",
              "        vertical-align: top;\n",
              "    }\n",
              "\n",
              "    .dataframe thead th {\n",
              "        text-align: right;\n",
              "    }\n",
              "</style>\n",
              "<table border=\"1\" class=\"dataframe\">\n",
              "  <thead>\n",
              "    <tr style=\"text-align: right;\">\n",
              "      <th></th>\n",
              "      <th>Date</th>\n",
              "      <th>Open</th>\n",
              "      <th>High</th>\n",
              "      <th>Low</th>\n",
              "      <th>Close</th>\n",
              "      <th>Volume</th>\n",
              "    </tr>\n",
              "  </thead>\n",
              "  <tbody>\n",
              "    <tr>\n",
              "      <th>0</th>\n",
              "      <td>2010-01-04</td>\n",
              "      <td>136.25</td>\n",
              "      <td>136.61</td>\n",
              "      <td>133.14</td>\n",
              "      <td>133.90</td>\n",
              "      <td>7600543</td>\n",
              "    </tr>\n",
              "    <tr>\n",
              "      <th>1</th>\n",
              "      <td>2010-01-05</td>\n",
              "      <td>133.43</td>\n",
              "      <td>135.48</td>\n",
              "      <td>131.81</td>\n",
              "      <td>134.69</td>\n",
              "      <td>8856456</td>\n",
              "    </tr>\n",
              "    <tr>\n",
              "      <th>2</th>\n",
              "      <td>2010-01-06</td>\n",
              "      <td>134.60</td>\n",
              "      <td>134.73</td>\n",
              "      <td>131.65</td>\n",
              "      <td>132.25</td>\n",
              "      <td>7180977</td>\n",
              "    </tr>\n",
              "    <tr>\n",
              "      <th>3</th>\n",
              "      <td>2010-01-07</td>\n",
              "      <td>132.01</td>\n",
              "      <td>132.32</td>\n",
              "      <td>128.80</td>\n",
              "      <td>130.00</td>\n",
              "      <td>11030124</td>\n",
              "    </tr>\n",
              "    <tr>\n",
              "      <th>4</th>\n",
              "      <td>2010-01-08</td>\n",
              "      <td>130.56</td>\n",
              "      <td>133.68</td>\n",
              "      <td>129.03</td>\n",
              "      <td>133.52</td>\n",
              "      <td>9833829</td>\n",
              "    </tr>\n",
              "  </tbody>\n",
              "</table>\n",
              "</div>"
            ],
            "text/plain": [
              "         Date    Open    High     Low   Close    Volume\n",
              "0  2010-01-04  136.25  136.61  133.14  133.90   7600543\n",
              "1  2010-01-05  133.43  135.48  131.81  134.69   8856456\n",
              "2  2010-01-06  134.60  134.73  131.65  132.25   7180977\n",
              "3  2010-01-07  132.01  132.32  128.80  130.00  11030124\n",
              "4  2010-01-08  130.56  133.68  129.03  133.52   9833829"
            ]
          },
          "metadata": {
            "tags": []
          },
          "execution_count": 41
        }
      ]
    },
    {
      "cell_type": "code",
      "metadata": {
        "id": "2gzJbVRj7-8E",
        "colab_type": "code",
        "colab": {
          "base_uri": "https://localhost:8080/",
          "height": 34
        },
        "outputId": "b1dbc925-7477-4ad9-fceb-7901c035e32e"
      },
      "source": [
        "stock.index"
      ],
      "execution_count": 37,
      "outputs": [
        {
          "output_type": "execute_result",
          "data": {
            "text/plain": [
              "RangeIndex(start=0, stop=1896, step=1)"
            ]
          },
          "metadata": {
            "tags": []
          },
          "execution_count": 37
        }
      ]
    },
    {
      "cell_type": "code",
      "metadata": {
        "id": "jZFb9mjG8HKm",
        "colab_type": "code",
        "colab": {}
      },
      "source": [
        "# делаем дату индексом\n",
        "stock=pd.read_csv('https://raw.githubusercontent.com/PacktPublishing/Pandas-Cookbook/master/data/amzn_stock.csv',\n",
        "                  index_col='Date', parse_dates=True)"
      ],
      "execution_count": 0,
      "outputs": []
    },
    {
      "cell_type": "code",
      "metadata": {
        "id": "e2YhytI78G9S",
        "colab_type": "code",
        "colab": {
          "base_uri": "https://localhost:8080/",
          "height": 153
        },
        "outputId": "5524a60c-499d-400c-b8c0-03393d86b08b"
      },
      "source": [
        "stock.index"
      ],
      "execution_count": 43,
      "outputs": [
        {
          "output_type": "execute_result",
          "data": {
            "text/plain": [
              "DatetimeIndex(['2010-01-04', '2010-01-05', '2010-01-06', '2010-01-07',\n",
              "               '2010-01-08', '2010-01-11', '2010-01-12', '2010-01-13',\n",
              "               '2010-01-14', '2010-01-15',\n",
              "               ...\n",
              "               '2017-07-03', '2017-07-05', '2017-07-06', '2017-07-07',\n",
              "               '2017-07-10', '2017-07-11', '2017-07-12', '2017-07-13',\n",
              "               '2017-07-14', '2017-07-17'],\n",
              "              dtype='datetime64[ns]', name='Date', length=1896, freq=None)"
            ]
          },
          "metadata": {
            "tags": []
          },
          "execution_count": 43
        }
      ]
    },
    {
      "cell_type": "code",
      "metadata": {
        "id": "tYF2wFin8Gx1",
        "colab_type": "code",
        "colab": {}
      },
      "source": [
        "stock['2010']"
      ],
      "execution_count": 0,
      "outputs": []
    },
    {
      "cell_type": "code",
      "metadata": {
        "id": "EudDEmOa8Go5",
        "colab_type": "code",
        "colab": {}
      },
      "source": [
        "stock['2010-02':'2011-03']"
      ],
      "execution_count": 0,
      "outputs": []
    },
    {
      "cell_type": "code",
      "metadata": {
        "id": "k7epF-Kf8GWj",
        "colab_type": "code",
        "colab": {}
      },
      "source": [
        "stock.resample('2h').asfreq()"
      ],
      "execution_count": 0,
      "outputs": []
    },
    {
      "cell_type": "code",
      "metadata": {
        "id": "OmIdqTHTAph6",
        "colab_type": "code",
        "colab": {}
      },
      "source": [
        "stock.resample('1w').mean()"
      ],
      "execution_count": 0,
      "outputs": []
    },
    {
      "cell_type": "code",
      "metadata": {
        "id": "dXgwp-UnA3AE",
        "colab_type": "code",
        "colab": {
          "base_uri": "https://localhost:8080/",
          "height": 390
        },
        "outputId": "77097085-a6ba-431f-9472-3d619cf56d7d"
      },
      "source": [
        "stock.head(10)"
      ],
      "execution_count": 48,
      "outputs": [
        {
          "output_type": "execute_result",
          "data": {
            "text/html": [
              "<div>\n",
              "<style scoped>\n",
              "    .dataframe tbody tr th:only-of-type {\n",
              "        vertical-align: middle;\n",
              "    }\n",
              "\n",
              "    .dataframe tbody tr th {\n",
              "        vertical-align: top;\n",
              "    }\n",
              "\n",
              "    .dataframe thead th {\n",
              "        text-align: right;\n",
              "    }\n",
              "</style>\n",
              "<table border=\"1\" class=\"dataframe\">\n",
              "  <thead>\n",
              "    <tr style=\"text-align: right;\">\n",
              "      <th></th>\n",
              "      <th>Open</th>\n",
              "      <th>High</th>\n",
              "      <th>Low</th>\n",
              "      <th>Close</th>\n",
              "      <th>Volume</th>\n",
              "    </tr>\n",
              "    <tr>\n",
              "      <th>Date</th>\n",
              "      <th></th>\n",
              "      <th></th>\n",
              "      <th></th>\n",
              "      <th></th>\n",
              "      <th></th>\n",
              "    </tr>\n",
              "  </thead>\n",
              "  <tbody>\n",
              "    <tr>\n",
              "      <th>2010-01-04</th>\n",
              "      <td>136.25</td>\n",
              "      <td>136.61</td>\n",
              "      <td>133.14</td>\n",
              "      <td>133.90</td>\n",
              "      <td>7600543</td>\n",
              "    </tr>\n",
              "    <tr>\n",
              "      <th>2010-01-05</th>\n",
              "      <td>133.43</td>\n",
              "      <td>135.48</td>\n",
              "      <td>131.81</td>\n",
              "      <td>134.69</td>\n",
              "      <td>8856456</td>\n",
              "    </tr>\n",
              "    <tr>\n",
              "      <th>2010-01-06</th>\n",
              "      <td>134.60</td>\n",
              "      <td>134.73</td>\n",
              "      <td>131.65</td>\n",
              "      <td>132.25</td>\n",
              "      <td>7180977</td>\n",
              "    </tr>\n",
              "    <tr>\n",
              "      <th>2010-01-07</th>\n",
              "      <td>132.01</td>\n",
              "      <td>132.32</td>\n",
              "      <td>128.80</td>\n",
              "      <td>130.00</td>\n",
              "      <td>11030124</td>\n",
              "    </tr>\n",
              "    <tr>\n",
              "      <th>2010-01-08</th>\n",
              "      <td>130.56</td>\n",
              "      <td>133.68</td>\n",
              "      <td>129.03</td>\n",
              "      <td>133.52</td>\n",
              "      <td>9833829</td>\n",
              "    </tr>\n",
              "    <tr>\n",
              "      <th>2010-01-11</th>\n",
              "      <td>132.62</td>\n",
              "      <td>132.80</td>\n",
              "      <td>129.21</td>\n",
              "      <td>130.31</td>\n",
              "      <td>8786668</td>\n",
              "    </tr>\n",
              "    <tr>\n",
              "      <th>2010-01-12</th>\n",
              "      <td>128.99</td>\n",
              "      <td>129.82</td>\n",
              "      <td>126.55</td>\n",
              "      <td>127.35</td>\n",
              "      <td>9098190</td>\n",
              "    </tr>\n",
              "    <tr>\n",
              "      <th>2010-01-13</th>\n",
              "      <td>127.90</td>\n",
              "      <td>129.71</td>\n",
              "      <td>125.75</td>\n",
              "      <td>129.11</td>\n",
              "      <td>10727856</td>\n",
              "    </tr>\n",
              "    <tr>\n",
              "      <th>2010-01-14</th>\n",
              "      <td>129.14</td>\n",
              "      <td>130.38</td>\n",
              "      <td>126.40</td>\n",
              "      <td>127.35</td>\n",
              "      <td>9788435</td>\n",
              "    </tr>\n",
              "    <tr>\n",
              "      <th>2010-01-15</th>\n",
              "      <td>129.18</td>\n",
              "      <td>129.65</td>\n",
              "      <td>127.06</td>\n",
              "      <td>127.14</td>\n",
              "      <td>15382763</td>\n",
              "    </tr>\n",
              "  </tbody>\n",
              "</table>\n",
              "</div>"
            ],
            "text/plain": [
              "              Open    High     Low   Close    Volume\n",
              "Date                                                \n",
              "2010-01-04  136.25  136.61  133.14  133.90   7600543\n",
              "2010-01-05  133.43  135.48  131.81  134.69   8856456\n",
              "2010-01-06  134.60  134.73  131.65  132.25   7180977\n",
              "2010-01-07  132.01  132.32  128.80  130.00  11030124\n",
              "2010-01-08  130.56  133.68  129.03  133.52   9833829\n",
              "2010-01-11  132.62  132.80  129.21  130.31   8786668\n",
              "2010-01-12  128.99  129.82  126.55  127.35   9098190\n",
              "2010-01-13  127.90  129.71  125.75  129.11  10727856\n",
              "2010-01-14  129.14  130.38  126.40  127.35   9788435\n",
              "2010-01-15  129.18  129.65  127.06  127.14  15382763"
            ]
          },
          "metadata": {
            "tags": []
          },
          "execution_count": 48
        }
      ]
    },
    {
      "cell_type": "code",
      "metadata": {
        "id": "9ZsngVNDA8Dc",
        "colab_type": "code",
        "colab": {
          "base_uri": "https://localhost:8080/",
          "height": 34
        },
        "outputId": "f69e6684-76cd-46a6-dcf5-4d1e5898c028"
      },
      "source": [
        "stock.rolling(3)"
      ],
      "execution_count": 50,
      "outputs": [
        {
          "output_type": "execute_result",
          "data": {
            "text/plain": [
              "Rolling [window=3,center=False,axis=0]"
            ]
          },
          "metadata": {
            "tags": []
          },
          "execution_count": 50
        }
      ]
    },
    {
      "cell_type": "code",
      "metadata": {
        "id": "r9XEQGE2BV7q",
        "colab_type": "code",
        "colab": {}
      },
      "source": [
        "stock.rolling(3).mean()"
      ],
      "execution_count": 0,
      "outputs": []
    },
    {
      "cell_type": "code",
      "metadata": {
        "id": "z2o_YQ6dBvuU",
        "colab_type": "code",
        "colab": {
          "base_uri": "https://localhost:8080/",
          "height": 450
        },
        "outputId": "a52a22d4-7541-4b44-c8a8-615da121d6dd"
      },
      "source": [
        "stock.rolling(3, min_periods=1).mean()"
      ],
      "execution_count": 54,
      "outputs": [
        {
          "output_type": "execute_result",
          "data": {
            "text/html": [
              "<div>\n",
              "<style scoped>\n",
              "    .dataframe tbody tr th:only-of-type {\n",
              "        vertical-align: middle;\n",
              "    }\n",
              "\n",
              "    .dataframe tbody tr th {\n",
              "        vertical-align: top;\n",
              "    }\n",
              "\n",
              "    .dataframe thead th {\n",
              "        text-align: right;\n",
              "    }\n",
              "</style>\n",
              "<table border=\"1\" class=\"dataframe\">\n",
              "  <thead>\n",
              "    <tr style=\"text-align: right;\">\n",
              "      <th></th>\n",
              "      <th>Open</th>\n",
              "      <th>High</th>\n",
              "      <th>Low</th>\n",
              "      <th>Close</th>\n",
              "      <th>Volume</th>\n",
              "    </tr>\n",
              "    <tr>\n",
              "      <th>Date</th>\n",
              "      <th></th>\n",
              "      <th></th>\n",
              "      <th></th>\n",
              "      <th></th>\n",
              "      <th></th>\n",
              "    </tr>\n",
              "  </thead>\n",
              "  <tbody>\n",
              "    <tr>\n",
              "      <th>2010-01-04</th>\n",
              "      <td>136.250000</td>\n",
              "      <td>136.610000</td>\n",
              "      <td>133.140000</td>\n",
              "      <td>133.900000</td>\n",
              "      <td>7.600543e+06</td>\n",
              "    </tr>\n",
              "    <tr>\n",
              "      <th>2010-01-05</th>\n",
              "      <td>134.840000</td>\n",
              "      <td>136.045000</td>\n",
              "      <td>132.475000</td>\n",
              "      <td>134.295000</td>\n",
              "      <td>8.228500e+06</td>\n",
              "    </tr>\n",
              "    <tr>\n",
              "      <th>2010-01-06</th>\n",
              "      <td>134.760000</td>\n",
              "      <td>135.606667</td>\n",
              "      <td>132.200000</td>\n",
              "      <td>133.613333</td>\n",
              "      <td>7.879325e+06</td>\n",
              "    </tr>\n",
              "    <tr>\n",
              "      <th>2010-01-07</th>\n",
              "      <td>133.346667</td>\n",
              "      <td>134.176667</td>\n",
              "      <td>130.753333</td>\n",
              "      <td>132.313333</td>\n",
              "      <td>9.022519e+06</td>\n",
              "    </tr>\n",
              "    <tr>\n",
              "      <th>2010-01-08</th>\n",
              "      <td>132.390000</td>\n",
              "      <td>133.576667</td>\n",
              "      <td>129.826667</td>\n",
              "      <td>131.923333</td>\n",
              "      <td>9.348310e+06</td>\n",
              "    </tr>\n",
              "    <tr>\n",
              "      <th>...</th>\n",
              "      <td>...</td>\n",
              "      <td>...</td>\n",
              "      <td>...</td>\n",
              "      <td>...</td>\n",
              "      <td>...</td>\n",
              "    </tr>\n",
              "    <tr>\n",
              "      <th>2017-07-11</th>\n",
              "      <td>982.516667</td>\n",
              "      <td>991.846667</td>\n",
              "      <td>978.786667</td>\n",
              "      <td>989.786667</td>\n",
              "      <td>3.057460e+06</td>\n",
              "    </tr>\n",
              "    <tr>\n",
              "      <th>2017-07-12</th>\n",
              "      <td>992.883333</td>\n",
              "      <td>1001.326667</td>\n",
              "      <td>988.440000</td>\n",
              "      <td>999.036667</td>\n",
              "      <td>3.379189e+06</td>\n",
              "    </tr>\n",
              "    <tr>\n",
              "      <th>2017-07-13</th>\n",
              "      <td>999.423333</td>\n",
              "      <td>1003.806667</td>\n",
              "      <td>992.573333</td>\n",
              "      <td>1000.423333</td>\n",
              "      <td>3.157356e+06</td>\n",
              "    </tr>\n",
              "    <tr>\n",
              "      <th>2017-07-14</th>\n",
              "      <td>1002.556667</td>\n",
              "      <td>1006.626667</td>\n",
              "      <td>996.963333</td>\n",
              "      <td>1002.983333</td>\n",
              "      <td>2.863937e+06</td>\n",
              "    </tr>\n",
              "    <tr>\n",
              "      <th>2017-07-17</th>\n",
              "      <td>1003.903333</td>\n",
              "      <td>1008.693333</td>\n",
              "      <td>998.866667</td>\n",
              "      <td>1004.160000</td>\n",
              "      <td>2.883986e+06</td>\n",
              "    </tr>\n",
              "  </tbody>\n",
              "</table>\n",
              "<p>1896 rows × 5 columns</p>\n",
              "</div>"
            ],
            "text/plain": [
              "                   Open         High         Low        Close        Volume\n",
              "Date                                                                       \n",
              "2010-01-04   136.250000   136.610000  133.140000   133.900000  7.600543e+06\n",
              "2010-01-05   134.840000   136.045000  132.475000   134.295000  8.228500e+06\n",
              "2010-01-06   134.760000   135.606667  132.200000   133.613333  7.879325e+06\n",
              "2010-01-07   133.346667   134.176667  130.753333   132.313333  9.022519e+06\n",
              "2010-01-08   132.390000   133.576667  129.826667   131.923333  9.348310e+06\n",
              "...                 ...          ...         ...          ...           ...\n",
              "2017-07-11   982.516667   991.846667  978.786667   989.786667  3.057460e+06\n",
              "2017-07-12   992.883333  1001.326667  988.440000   999.036667  3.379189e+06\n",
              "2017-07-13   999.423333  1003.806667  992.573333  1000.423333  3.157356e+06\n",
              "2017-07-14  1002.556667  1006.626667  996.963333  1002.983333  2.863937e+06\n",
              "2017-07-17  1003.903333  1008.693333  998.866667  1004.160000  2.883986e+06\n",
              "\n",
              "[1896 rows x 5 columns]"
            ]
          },
          "metadata": {
            "tags": []
          },
          "execution_count": 54
        }
      ]
    },
    {
      "cell_type": "code",
      "metadata": {
        "id": "lNABA9ERBl8l",
        "colab_type": "code",
        "colab": {
          "base_uri": "https://localhost:8080/",
          "height": 450
        },
        "outputId": "10e10a67-ea2b-4caf-d41e-90ad3d41e6c2"
      },
      "source": [
        "stock.expanding(3).mean()"
      ],
      "execution_count": 55,
      "outputs": [
        {
          "output_type": "execute_result",
          "data": {
            "text/html": [
              "<div>\n",
              "<style scoped>\n",
              "    .dataframe tbody tr th:only-of-type {\n",
              "        vertical-align: middle;\n",
              "    }\n",
              "\n",
              "    .dataframe tbody tr th {\n",
              "        vertical-align: top;\n",
              "    }\n",
              "\n",
              "    .dataframe thead th {\n",
              "        text-align: right;\n",
              "    }\n",
              "</style>\n",
              "<table border=\"1\" class=\"dataframe\">\n",
              "  <thead>\n",
              "    <tr style=\"text-align: right;\">\n",
              "      <th></th>\n",
              "      <th>Open</th>\n",
              "      <th>High</th>\n",
              "      <th>Low</th>\n",
              "      <th>Close</th>\n",
              "      <th>Volume</th>\n",
              "    </tr>\n",
              "    <tr>\n",
              "      <th>Date</th>\n",
              "      <th></th>\n",
              "      <th></th>\n",
              "      <th></th>\n",
              "      <th></th>\n",
              "      <th></th>\n",
              "    </tr>\n",
              "  </thead>\n",
              "  <tbody>\n",
              "    <tr>\n",
              "      <th>2010-01-04</th>\n",
              "      <td>136.250000</td>\n",
              "      <td>136.610000</td>\n",
              "      <td>133.140000</td>\n",
              "      <td>133.900000</td>\n",
              "      <td>7.600543e+06</td>\n",
              "    </tr>\n",
              "    <tr>\n",
              "      <th>2010-01-05</th>\n",
              "      <td>134.840000</td>\n",
              "      <td>136.045000</td>\n",
              "      <td>132.475000</td>\n",
              "      <td>134.295000</td>\n",
              "      <td>8.228500e+06</td>\n",
              "    </tr>\n",
              "    <tr>\n",
              "      <th>2010-01-06</th>\n",
              "      <td>134.760000</td>\n",
              "      <td>135.606667</td>\n",
              "      <td>132.200000</td>\n",
              "      <td>133.613333</td>\n",
              "      <td>7.879325e+06</td>\n",
              "    </tr>\n",
              "    <tr>\n",
              "      <th>2010-01-07</th>\n",
              "      <td>134.072500</td>\n",
              "      <td>134.785000</td>\n",
              "      <td>131.350000</td>\n",
              "      <td>132.710000</td>\n",
              "      <td>8.667025e+06</td>\n",
              "    </tr>\n",
              "    <tr>\n",
              "      <th>2010-01-08</th>\n",
              "      <td>133.370000</td>\n",
              "      <td>134.564000</td>\n",
              "      <td>130.886000</td>\n",
              "      <td>132.872000</td>\n",
              "      <td>8.900386e+06</td>\n",
              "    </tr>\n",
              "    <tr>\n",
              "      <th>...</th>\n",
              "      <td>...</td>\n",
              "      <td>...</td>\n",
              "      <td>...</td>\n",
              "      <td>...</td>\n",
              "      <td>...</td>\n",
              "    </tr>\n",
              "    <tr>\n",
              "      <th>2017-07-11</th>\n",
              "      <td>376.749450</td>\n",
              "      <td>380.480122</td>\n",
              "      <td>372.654524</td>\n",
              "      <td>376.793171</td>\n",
              "      <td>4.534246e+06</td>\n",
              "    </tr>\n",
              "    <tr>\n",
              "      <th>2017-07-12</th>\n",
              "      <td>377.079033</td>\n",
              "      <td>380.811907</td>\n",
              "      <td>372.984923</td>\n",
              "      <td>377.125827</td>\n",
              "      <td>4.533757e+06</td>\n",
              "    </tr>\n",
              "    <tr>\n",
              "      <th>2017-07-13</th>\n",
              "      <td>377.410364</td>\n",
              "      <td>381.142460</td>\n",
              "      <td>373.313812</td>\n",
              "      <td>377.455026</td>\n",
              "      <td>4.532884e+06</td>\n",
              "    </tr>\n",
              "    <tr>\n",
              "      <th>2017-07-14</th>\n",
              "      <td>377.740174</td>\n",
              "      <td>381.471383</td>\n",
              "      <td>373.642876</td>\n",
              "      <td>377.784501</td>\n",
              "      <td>4.531602e+06</td>\n",
              "    </tr>\n",
              "    <tr>\n",
              "      <th>2017-07-17</th>\n",
              "      <td>378.070844</td>\n",
              "      <td>381.805390</td>\n",
              "      <td>373.975243</td>\n",
              "      <td>378.117969</td>\n",
              "      <td>4.531147e+06</td>\n",
              "    </tr>\n",
              "  </tbody>\n",
              "</table>\n",
              "<p>1896 rows × 5 columns</p>\n",
              "</div>"
            ],
            "text/plain": [
              "                  Open        High         Low       Close        Volume\n",
              "Date                                                                    \n",
              "2010-01-04  136.250000  136.610000  133.140000  133.900000  7.600543e+06\n",
              "2010-01-05  134.840000  136.045000  132.475000  134.295000  8.228500e+06\n",
              "2010-01-06  134.760000  135.606667  132.200000  133.613333  7.879325e+06\n",
              "2010-01-07  134.072500  134.785000  131.350000  132.710000  8.667025e+06\n",
              "2010-01-08  133.370000  134.564000  130.886000  132.872000  8.900386e+06\n",
              "...                ...         ...         ...         ...           ...\n",
              "2017-07-11  376.749450  380.480122  372.654524  376.793171  4.534246e+06\n",
              "2017-07-12  377.079033  380.811907  372.984923  377.125827  4.533757e+06\n",
              "2017-07-13  377.410364  381.142460  373.313812  377.455026  4.532884e+06\n",
              "2017-07-14  377.740174  381.471383  373.642876  377.784501  4.531602e+06\n",
              "2017-07-17  378.070844  381.805390  373.975243  378.117969  4.531147e+06\n",
              "\n",
              "[1896 rows x 5 columns]"
            ]
          },
          "metadata": {
            "tags": []
          },
          "execution_count": 55
        }
      ]
    },
    {
      "cell_type": "code",
      "metadata": {
        "id": "t4cbY6JSB3hh",
        "colab_type": "code",
        "colab": {
          "base_uri": "https://localhost:8080/",
          "height": 450
        },
        "outputId": "ddded913-b196-48e6-be85-dc9d3fb3324a"
      },
      "source": [
        "stock.ewm(alpha=0.7).mean()"
      ],
      "execution_count": 56,
      "outputs": [
        {
          "output_type": "execute_result",
          "data": {
            "text/html": [
              "<div>\n",
              "<style scoped>\n",
              "    .dataframe tbody tr th:only-of-type {\n",
              "        vertical-align: middle;\n",
              "    }\n",
              "\n",
              "    .dataframe tbody tr th {\n",
              "        vertical-align: top;\n",
              "    }\n",
              "\n",
              "    .dataframe thead th {\n",
              "        text-align: right;\n",
              "    }\n",
              "</style>\n",
              "<table border=\"1\" class=\"dataframe\">\n",
              "  <thead>\n",
              "    <tr style=\"text-align: right;\">\n",
              "      <th></th>\n",
              "      <th>Open</th>\n",
              "      <th>High</th>\n",
              "      <th>Low</th>\n",
              "      <th>Close</th>\n",
              "      <th>Volume</th>\n",
              "    </tr>\n",
              "    <tr>\n",
              "      <th>Date</th>\n",
              "      <th></th>\n",
              "      <th></th>\n",
              "      <th></th>\n",
              "      <th></th>\n",
              "      <th></th>\n",
              "    </tr>\n",
              "  </thead>\n",
              "  <tbody>\n",
              "    <tr>\n",
              "      <th>2010-01-04</th>\n",
              "      <td>136.250000</td>\n",
              "      <td>136.610000</td>\n",
              "      <td>133.140000</td>\n",
              "      <td>133.900000</td>\n",
              "      <td>7.600543e+06</td>\n",
              "    </tr>\n",
              "    <tr>\n",
              "      <th>2010-01-05</th>\n",
              "      <td>134.080769</td>\n",
              "      <td>135.740769</td>\n",
              "      <td>132.116923</td>\n",
              "      <td>134.507692</td>\n",
              "      <td>8.566630e+06</td>\n",
              "    </tr>\n",
              "    <tr>\n",
              "      <th>2010-01-06</th>\n",
              "      <td>134.454317</td>\n",
              "      <td>135.013597</td>\n",
              "      <td>131.781007</td>\n",
              "      <td>132.883453</td>\n",
              "      <td>7.569757e+06</td>\n",
              "    </tr>\n",
              "    <tr>\n",
              "      <th>2010-01-07</th>\n",
              "      <td>132.729323</td>\n",
              "      <td>133.112682</td>\n",
              "      <td>129.677262</td>\n",
              "      <td>130.848553</td>\n",
              "      <td>1.001179e+07</td>\n",
              "    </tr>\n",
              "    <tr>\n",
              "      <th>2010-01-08</th>\n",
              "      <td>131.207098</td>\n",
              "      <td>133.510772</td>\n",
              "      <td>129.223075</td>\n",
              "      <td>132.723121</td>\n",
              "      <td>9.886915e+06</td>\n",
              "    </tr>\n",
              "    <tr>\n",
              "      <th>...</th>\n",
              "      <td>...</td>\n",
              "      <td>...</td>\n",
              "      <td>...</td>\n",
              "      <td>...</td>\n",
              "      <td>...</td>\n",
              "    </tr>\n",
              "    <tr>\n",
              "      <th>2017-07-11</th>\n",
              "      <td>989.084881</td>\n",
              "      <td>995.142613</td>\n",
              "      <td>982.059585</td>\n",
              "      <td>992.890941</td>\n",
              "      <td>3.089057e+06</td>\n",
              "    </tr>\n",
              "    <tr>\n",
              "      <th>2017-07-12</th>\n",
              "      <td>997.180464</td>\n",
              "      <td>1004.527784</td>\n",
              "      <td>993.287876</td>\n",
              "      <td>1002.424282</td>\n",
              "      <td>3.452719e+06</td>\n",
              "    </tr>\n",
              "    <tr>\n",
              "      <th>2017-07-13</th>\n",
              "      <td>1002.388139</td>\n",
              "      <td>1006.174335</td>\n",
              "      <td>995.116363</td>\n",
              "      <td>1001.168285</td>\n",
              "      <td>3.052354e+06</td>\n",
              "    </tr>\n",
              "    <tr>\n",
              "      <th>2017-07-14</th>\n",
              "      <td>1002.396442</td>\n",
              "      <td>1004.967301</td>\n",
              "      <td>996.357909</td>\n",
              "      <td>1001.617485</td>\n",
              "      <td>2.387434e+06</td>\n",
              "    </tr>\n",
              "    <tr>\n",
              "      <th>2017-07-17</th>\n",
              "      <td>1004.001933</td>\n",
              "      <td>1011.815190</td>\n",
              "      <td>1001.574373</td>\n",
              "      <td>1007.513246</td>\n",
              "      <td>3.284335e+06</td>\n",
              "    </tr>\n",
              "  </tbody>\n",
              "</table>\n",
              "<p>1896 rows × 5 columns</p>\n",
              "</div>"
            ],
            "text/plain": [
              "                   Open         High          Low        Close        Volume\n",
              "Date                                                                        \n",
              "2010-01-04   136.250000   136.610000   133.140000   133.900000  7.600543e+06\n",
              "2010-01-05   134.080769   135.740769   132.116923   134.507692  8.566630e+06\n",
              "2010-01-06   134.454317   135.013597   131.781007   132.883453  7.569757e+06\n",
              "2010-01-07   132.729323   133.112682   129.677262   130.848553  1.001179e+07\n",
              "2010-01-08   131.207098   133.510772   129.223075   132.723121  9.886915e+06\n",
              "...                 ...          ...          ...          ...           ...\n",
              "2017-07-11   989.084881   995.142613   982.059585   992.890941  3.089057e+06\n",
              "2017-07-12   997.180464  1004.527784   993.287876  1002.424282  3.452719e+06\n",
              "2017-07-13  1002.388139  1006.174335   995.116363  1001.168285  3.052354e+06\n",
              "2017-07-14  1002.396442  1004.967301   996.357909  1001.617485  2.387434e+06\n",
              "2017-07-17  1004.001933  1011.815190  1001.574373  1007.513246  3.284335e+06\n",
              "\n",
              "[1896 rows x 5 columns]"
            ]
          },
          "metadata": {
            "tags": []
          },
          "execution_count": 56
        }
      ]
    },
    {
      "cell_type": "code",
      "metadata": {
        "id": "1tMLBkUiB3b4",
        "colab_type": "code",
        "colab": {
          "base_uri": "https://localhost:8080/",
          "height": 286
        },
        "outputId": "2d2c0d2b-f019-4d4a-fb3e-c417e067be13"
      },
      "source": [
        "stock['Open'].plot()"
      ],
      "execution_count": 57,
      "outputs": [
        {
          "output_type": "execute_result",
          "data": {
            "text/plain": [
              "<matplotlib.axes._subplots.AxesSubplot at 0x7fe1efc5cc50>"
            ]
          },
          "metadata": {
            "tags": []
          },
          "execution_count": 57
        },
        {
          "output_type": "display_data",
          "data": {
            "image/png": "[encoded data removed]",
            "text/plain": [
              "<Figure size 432x288 with 1 Axes>"
            ]
          },
          "metadata": {
            "tags": [],
            "needs_background": "light"
          }
        }
      ]
    },
    {
      "cell_type": "code",
      "metadata": {
        "id": "DzaewcgxB3Vy",
        "colab_type": "code",
        "colab": {}
      },
      "source": [
        "ns=stock['Open'].rolling(10, min_periods=1).mean()"
      ],
      "execution_count": 0,
      "outputs": []
    },
    {
      "cell_type": "code",
      "metadata": {
        "id": "e_fFSfsUChO8",
        "colab_type": "code",
        "colab": {
          "base_uri": "https://localhost:8080/",
          "height": 286
        },
        "outputId": "0b779c52-a9fa-4fe6-a277-ecd041027b50"
      },
      "source": [
        "stock['Open'].plot()\n",
        "ns.plot()"
      ],
      "execution_count": 63,
      "outputs": [
        {
          "output_type": "execute_result",
          "data": {
            "text/plain": [
              "<matplotlib.axes._subplots.AxesSubplot at 0x7fe1efafb9b0>"
            ]
          },
          "metadata": {
            "tags": []
          },
          "execution_count": 63
        },
        {
          "output_type": "display_data",
          "data": {
            "image/png": "[encoded data removed]",
            "text/plain": [
              "<Figure size 432x288 with 1 Axes>"
            ]
          },
          "metadata": {
            "tags": [],
            "needs_background": "light"
          }
        }
      ]
    },
    {
      "cell_type": "markdown",
      "metadata": {
        "id": "2j3JfzLVDrif",
        "colab_type": "text"
      },
      "source": [
        "**Step 9**"
      ]
    },
    {
      "cell_type": "code",
      "metadata": {
        "id": "BcoYl3BrDq9w",
        "colab_type": "code",
        "colab": {
          "base_uri": "https://localhost:8080/",
          "height": 85
        },
        "outputId": "fb6cbbef-f224-4bcb-c2ff-61a7bdaa4b76"
      },
      "source": [
        "stock.index.weekday"
      ],
      "execution_count": 64,
      "outputs": [
        {
          "output_type": "execute_result",
          "data": {
            "text/plain": [
              "Int64Index([0, 1, 2, 3, 4, 0, 1, 2, 3, 4,\n",
              "            ...\n",
              "            0, 2, 3, 4, 0, 1, 2, 3, 4, 0],\n",
              "           dtype='int64', name='Date', length=1896)"
            ]
          },
          "metadata": {
            "tags": []
          },
          "execution_count": 64
        }
      ]
    },
    {
      "cell_type": "code",
      "metadata": {
        "id": "YwDLObo2FG6u",
        "colab_type": "code",
        "colab": {}
      },
      "source": [
        "stock.index.weekday_name.value_counts() # у меня не работает"
      ],
      "execution_count": 0,
      "outputs": []
    },
    {
      "cell_type": "code",
      "metadata": {
        "id": "0ki3nbKTFiXt",
        "colab_type": "code",
        "colab": {
          "base_uri": "https://localhost:8080/",
          "height": 119
        },
        "outputId": "378631bc-f043-4b3f-9fd8-68a6f37c3ffb"
      },
      "source": [
        "stock.index.day_name().value_counts()"
      ],
      "execution_count": 69,
      "outputs": [
        {
          "output_type": "execute_result",
          "data": {
            "text/plain": [
              "Wednesday    390\n",
              "Tuesday      389\n",
              "Thursday     382\n",
              "Friday       380\n",
              "Monday       355\n",
              "Name: Date, dtype: int64"
            ]
          },
          "metadata": {
            "tags": []
          },
          "execution_count": 69
        }
      ]
    },
    {
      "cell_type": "code",
      "metadata": {
        "id": "akyDI5fIFssc",
        "colab_type": "code",
        "colab": {}
      },
      "source": [
        ""
      ],
      "execution_count": 0,
      "outputs": []
    }
  ]
}