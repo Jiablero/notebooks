{
  "nbformat": 4,
  "nbformat_minor": 0,
  "metadata": {
    "colab": {
      "name": "stepik_submit_data_exploring.ipynb",
      "provenance": [],
      "authorship_tag": "ABX9TyOaRF2S6WsuIJIXy1UjEwrl",
      "include_colab_link": true
    },
    "kernelspec": {
      "name": "python3",
      "display_name": "Python 3"
    }
  },
  "cells": [
    {
      "cell_type": "markdown",
      "metadata": {
        "id": "view-in-github",
        "colab_type": "text"
      },
      "source": [
        "<a href=\"https://colab.research.google.com/github/Jiablero/notebooks/blob/master/stepik_submit_data_exploring.ipynb\" target=\"_parent\"><img src=\"https://colab.research.google.com/assets/colab-badge.svg\" alt=\"Open In Colab\"/></a>"
      ]
    },
    {
      "cell_type": "code",
      "metadata": {
        "id": "LYQM3U8LxEr5",
        "colab_type": "code",
        "colab": {}
      },
      "source": [
        "import pandas as pd\n",
        "\n",
        "data = pd.read_csv('submissions_data_train.zip')"
      ],
      "execution_count": 0,
      "outputs": []
    },
    {
      "cell_type": "markdown",
      "metadata": {
        "id": "LgT_92fF2O-x",
        "colab_type": "text"
      },
      "source": [
        "Давайте найдем такой стэп, используя данные о сабмитах. Для каждого пользователя найдите такой шаг, который он не смог решить, и после этого не пытался решать другие шаги. Затем найдите id шага,  который стал финальной точкой практического обучения на курсе для максимального числа пользователей. \n"
      ]
    },
    {
      "cell_type": "code",
      "metadata": {
        "id": "w5LpJDnfxcGy",
        "colab_type": "code",
        "colab": {}
      },
      "source": [
        "usr_last_time = data.groupby('user_id').timestamp.max()"
      ],
      "execution_count": 0,
      "outputs": []
    },
    {
      "cell_type": "code",
      "metadata": {
        "id": "0avtADidyVry",
        "colab_type": "code",
        "colab": {}
      },
      "source": [
        ""
      ],
      "execution_count": 0,
      "outputs": []
    },
    {
      "cell_type": "code",
      "metadata": {
        "id": "NBl1howNzL8Q",
        "colab_type": "code",
        "colab": {}
      },
      "source": [
        "usr_last_time = pd.DataFrame(usr_last_time)"
      ],
      "execution_count": 0,
      "outputs": []
    },
    {
      "cell_type": "code",
      "metadata": {
        "id": "wqinTpDzzaMb",
        "colab_type": "code",
        "colab": {}
      },
      "source": [
        "usr_last_time = usr_last_time.rename(columns = {'timestamp': 'last_access'}).reset_index()"
      ],
      "execution_count": 0,
      "outputs": []
    },
    {
      "cell_type": "code",
      "metadata": {
        "id": "LldZG0JtzmCO",
        "colab_type": "code",
        "colab": {}
      },
      "source": [
        "data = data.merge(usr_last_time, how = 'outer')"
      ],
      "execution_count": 0,
      "outputs": []
    },
    {
      "cell_type": "code",
      "metadata": {
        "id": "_X1lerGXzoSr",
        "colab_type": "code",
        "colab": {}
      },
      "source": [
        "last_tries = pd.DataFrame(data[data.submission_status == 'wrong'].groupby('step_id').last_access.nunique()).reset_index()"
      ],
      "execution_count": 0,
      "outputs": []
    },
    {
      "cell_type": "code",
      "metadata": {
        "id": "GDGIigX-022r",
        "colab_type": "code",
        "colab": {
          "base_uri": "https://localhost:8080/",
          "height": 80
        },
        "outputId": "e0065718-a5be-4b88-d3c3-4313902043bc"
      },
      "source": [
        "last_tries[last_tries.last_access >= last_tries.last_access.max() ]"
      ],
      "execution_count": 53,
      "outputs": [
        {
          "output_type": "execute_result",
          "data": {
            "text/html": [
              "<div>\n",
              "<style scoped>\n",
              "    .dataframe tbody tr th:only-of-type {\n",
              "        vertical-align: middle;\n",
              "    }\n",
              "\n",
              "    .dataframe tbody tr th {\n",
              "        vertical-align: top;\n",
              "    }\n",
              "\n",
              "    .dataframe thead th {\n",
              "        text-align: right;\n",
              "    }\n",
              "</style>\n",
              "<table border=\"1\" class=\"dataframe\">\n",
              "  <thead>\n",
              "    <tr style=\"text-align: right;\">\n",
              "      <th></th>\n",
              "      <th>step_id</th>\n",
              "      <th>last_access</th>\n",
              "    </tr>\n",
              "  </thead>\n",
              "  <tbody>\n",
              "    <tr>\n",
              "      <th>4</th>\n",
              "      <td>31978</td>\n",
              "      <td>3423</td>\n",
              "    </tr>\n",
              "  </tbody>\n",
              "</table>\n",
              "</div>"
            ],
            "text/plain": [
              "   step_id  last_access\n",
              "4    31978         3423"
            ]
          },
          "metadata": {
            "tags": []
          },
          "execution_count": 53
        }
      ]
    },
    {
      "cell_type": "code",
      "metadata": {
        "id": "CX_TsmYz1mPo",
        "colab_type": "code",
        "colab": {
          "base_uri": "https://localhost:8080/",
          "height": 419
        },
        "outputId": "fc376a94-3c33-41e0-ece9-be7ca71e8129"
      },
      "source": [
        "data"
      ],
      "execution_count": 49,
      "outputs": [
        {
          "output_type": "execute_result",
          "data": {
            "text/html": [
              "<div>\n",
              "<style scoped>\n",
              "    .dataframe tbody tr th:only-of-type {\n",
              "        vertical-align: middle;\n",
              "    }\n",
              "\n",
              "    .dataframe tbody tr th {\n",
              "        vertical-align: top;\n",
              "    }\n",
              "\n",
              "    .dataframe thead th {\n",
              "        text-align: right;\n",
              "    }\n",
              "</style>\n",
              "<table border=\"1\" class=\"dataframe\">\n",
              "  <thead>\n",
              "    <tr style=\"text-align: right;\">\n",
              "      <th></th>\n",
              "      <th>step_id</th>\n",
              "      <th>timestamp</th>\n",
              "      <th>submission_status</th>\n",
              "      <th>user_id</th>\n",
              "      <th>last_access</th>\n",
              "    </tr>\n",
              "  </thead>\n",
              "  <tbody>\n",
              "    <tr>\n",
              "      <th>0</th>\n",
              "      <td>31971</td>\n",
              "      <td>1434349275</td>\n",
              "      <td>correct</td>\n",
              "      <td>15853</td>\n",
              "      <td>1479734163</td>\n",
              "    </tr>\n",
              "    <tr>\n",
              "      <th>1</th>\n",
              "      <td>31972</td>\n",
              "      <td>1434348300</td>\n",
              "      <td>correct</td>\n",
              "      <td>15853</td>\n",
              "      <td>1479734163</td>\n",
              "    </tr>\n",
              "    <tr>\n",
              "      <th>2</th>\n",
              "      <td>31972</td>\n",
              "      <td>1478852149</td>\n",
              "      <td>wrong</td>\n",
              "      <td>15853</td>\n",
              "      <td>1479734163</td>\n",
              "    </tr>\n",
              "    <tr>\n",
              "      <th>3</th>\n",
              "      <td>31972</td>\n",
              "      <td>1478852164</td>\n",
              "      <td>correct</td>\n",
              "      <td>15853</td>\n",
              "      <td>1479734163</td>\n",
              "    </tr>\n",
              "    <tr>\n",
              "      <th>4</th>\n",
              "      <td>31976</td>\n",
              "      <td>1434348123</td>\n",
              "      <td>wrong</td>\n",
              "      <td>15853</td>\n",
              "      <td>1479734163</td>\n",
              "    </tr>\n",
              "    <tr>\n",
              "      <th>...</th>\n",
              "      <td>...</td>\n",
              "      <td>...</td>\n",
              "      <td>...</td>\n",
              "      <td>...</td>\n",
              "      <td>...</td>\n",
              "    </tr>\n",
              "    <tr>\n",
              "      <th>509103</th>\n",
              "      <td>120745</td>\n",
              "      <td>1501946959</td>\n",
              "      <td>wrong</td>\n",
              "      <td>2615</td>\n",
              "      <td>1501946959</td>\n",
              "    </tr>\n",
              "    <tr>\n",
              "      <th>509104</th>\n",
              "      <td>120745</td>\n",
              "      <td>1503059927</td>\n",
              "      <td>correct</td>\n",
              "      <td>13177</td>\n",
              "      <td>1503059927</td>\n",
              "    </tr>\n",
              "    <tr>\n",
              "      <th>509105</th>\n",
              "      <td>120745</td>\n",
              "      <td>1506348153</td>\n",
              "      <td>wrong</td>\n",
              "      <td>15253</td>\n",
              "      <td>1506348153</td>\n",
              "    </tr>\n",
              "    <tr>\n",
              "      <th>509106</th>\n",
              "      <td>120745</td>\n",
              "      <td>1523035316</td>\n",
              "      <td>wrong</td>\n",
              "      <td>1424</td>\n",
              "      <td>1523035316</td>\n",
              "    </tr>\n",
              "    <tr>\n",
              "      <th>509107</th>\n",
              "      <td>120745</td>\n",
              "      <td>1523382825</td>\n",
              "      <td>wrong</td>\n",
              "      <td>9422</td>\n",
              "      <td>1523382825</td>\n",
              "    </tr>\n",
              "  </tbody>\n",
              "</table>\n",
              "<p>509108 rows × 5 columns</p>\n",
              "</div>"
            ],
            "text/plain": [
              "        step_id   timestamp submission_status  user_id  last_access\n",
              "0         31971  1434349275           correct    15853   1479734163\n",
              "1         31972  1434348300           correct    15853   1479734163\n",
              "2         31972  1478852149             wrong    15853   1479734163\n",
              "3         31972  1478852164           correct    15853   1479734163\n",
              "4         31976  1434348123             wrong    15853   1479734163\n",
              "...         ...         ...               ...      ...          ...\n",
              "509103   120745  1501946959             wrong     2615   1501946959\n",
              "509104   120745  1503059927           correct    13177   1503059927\n",
              "509105   120745  1506348153             wrong    15253   1506348153\n",
              "509106   120745  1523035316             wrong     1424   1523035316\n",
              "509107   120745  1523382825             wrong     9422   1523382825\n",
              "\n",
              "[509108 rows x 5 columns]"
            ]
          },
          "metadata": {
            "tags": []
          },
          "execution_count": 49
        }
      ]
    }
  ]
}