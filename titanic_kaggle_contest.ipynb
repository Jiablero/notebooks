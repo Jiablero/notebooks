{
  "nbformat": 4,
  "nbformat_minor": 0,
  "metadata": {
    "colab": {
      "name": "titanic_kaggle_contest",
      "provenance": [],
      "collapsed_sections": [],
      "authorship_tag": "ABX9TyPTL9eQt1rQTsXkwRBzFvuR",
      "include_colab_link": true
    },
    "kernelspec": {
      "name": "python3",
      "display_name": "Python 3"
    }
  },
  "cells": [
    {
      "cell_type": "markdown",
      "metadata": {
        "id": "view-in-github",
        "colab_type": "text"
      },
      "source": [
        "<a href=\"https://colab.research.google.com/github/Jiablero/notebooks/blob/master/titanic_kaggle_contest.ipynb\" target=\"_parent\"><img src=\"https://colab.research.google.com/assets/colab-badge.svg\" alt=\"Open In Colab\"/></a>"
      ]
    },
    {
      "cell_type": "code",
      "metadata": {
        "id": "CUpPvoWBiuZZ",
        "colab_type": "code",
        "colab": {}
      },
      "source": [
        "import pandas as pd\n",
        "import numpy as np\n",
        "\n",
        "from sklearn.model_selection import GridSearchCV\n",
        "from sklearn.model_selection import train_test_split\n",
        "\n",
        "from sklearn.ensemble import RandomForestClassifier\n",
        "from sklearn.naive_bayes import MultinomialNB\n",
        "from sklearn.neural_network import MLPClassifier"
      ],
      "execution_count": 0,
      "outputs": []
    },
    {
      "cell_type": "code",
      "metadata": {
        "id": "hcype_BLjoQm",
        "colab_type": "code",
        "colab": {}
      },
      "source": [
        "train = pd.read_csv('train.csv')\n",
        "test = pd.read_csv('test.csv')\n",
        "# gender = pd.read_csv('gender_submission.csv') # just an example of result file"
      ],
      "execution_count": 0,
      "outputs": []
    },
    {
      "cell_type": "markdown",
      "metadata": {
        "id": "oVcVVkXA3MTQ",
        "colab_type": "text"
      },
      "source": [
        "Data Preparation.\n",
        "\n",
        "\n"
      ]
    },
    {
      "cell_type": "code",
      "metadata": {
        "id": "Te-X3Jf603JV",
        "colab_type": "code",
        "colab": {}
      },
      "source": [
        "def prepare_titanic_data(data):\n",
        "  X = data.drop(['PassengerId', 'Name', 'Fare', 'Ticket', 'Embarked', 'Cabin'], axis = 1)\n",
        "  if 'Survived' in data.columns : \n",
        "    X = X.drop('Survived', axis = 1) # в тестовых данных нет Survived\n",
        "  X = X.fillna({'Age': X.Age.median()})\n",
        "  X = pd.get_dummies(X).drop('Sex_male', axis=1)\n",
        "  return(X)"
      ],
      "execution_count": 0,
      "outputs": []
    },
    {
      "cell_type": "code",
      "metadata": {
        "id": "q52gxyYvbk70",
        "colab_type": "code",
        "colab": {}
      },
      "source": [
        "X, test_X = train_test_split(train, test_size = 0.2)"
      ],
      "execution_count": 0,
      "outputs": []
    },
    {
      "cell_type": "code",
      "metadata": {
        "id": "JJZ8NG6IkByc",
        "colab_type": "code",
        "colab": {}
      },
      "source": [
        "y = X.Survived\n",
        "X = prepare_titanic_data(X)\n",
        "test_y = test_X.Survived\n",
        "test_X = prepare_titanic_data(test_X)"
      ],
      "execution_count": 0,
      "outputs": []
    },
    {
      "cell_type": "markdown",
      "metadata": {
        "id": "UFDYOjfl3LWG",
        "colab_type": "text"
      },
      "source": [
        "Classifiers creation, training."
      ]
    },
    {
      "cell_type": "code",
      "metadata": {
        "id": "tIjIXDSB76zO",
        "colab_type": "code",
        "colab": {}
      },
      "source": [
        "def grid_search(clf, params, X, y):\n",
        "  gs = GridSearchCV(clf, params, n_jobs=-1)\n",
        "  gs.fit(X, y)\n",
        "  # best_params_ для отладки\n",
        "  return {'best_params_': gs.best_params_, 'best_estimator_': gs.best_estimator_}"
      ],
      "execution_count": 0,
      "outputs": []
    },
    {
      "cell_type": "code",
      "metadata": {
        "id": "_Bz0U-uOmiZM",
        "colab_type": "code",
        "colab": {}
      },
      "source": [
        "# Random Forest\n",
        "rf_clf = RandomForestClassifier()\n",
        "rf_parameters = {\n",
        "    'n_estimators': range(10, 30, 5), \n",
        "    'max_depth': range(3, 10, 1), \n",
        "    'min_samples_leaf': range(1, 7), \n",
        "    'min_samples_split': range(4, 12, 2)}"
      ],
      "execution_count": 0,
      "outputs": []
    },
    {
      "cell_type": "code",
      "metadata": {
        "id": "JPzMgAqHoGRM",
        "colab_type": "code",
        "colab": {}
      },
      "source": [
        "clf_final_rf = grid_search(rf_clf, rf_parameters, X, y)"
      ],
      "execution_count": 0,
      "outputs": []
    },
    {
      "cell_type": "code",
      "metadata": {
        "id": "dgWAok_1oQDC",
        "colab_type": "code",
        "outputId": "31f73544-5955-4bd0-f465-d445f2db573b",
        "colab": {
          "base_uri": "https://localhost:8080/",
          "height": 34
        }
      },
      "source": [
        "clf_final_rf.get('best_estimator_').score(X, y)"
      ],
      "execution_count": 291,
      "outputs": [
        {
          "output_type": "execute_result",
          "data": {
            "text/plain": [
              "0.824438202247191"
            ]
          },
          "metadata": {
            "tags": []
          },
          "execution_count": 291
        }
      ]
    },
    {
      "cell_type": "code",
      "metadata": {
        "id": "pj7VmOI9zGVS",
        "colab_type": "code",
        "colab": {}
      },
      "source": [
        "# Neural network (MLP)\n",
        "nn_clf = MLPClassifier()\n",
        "nn_parameters = {  'activation': ['identity', 'logistic', 'tanh', 'relu'],\n",
        "                'solver': ['lbfgs', 'sgd', 'adam'],\n",
        "                'alpha': np.arange(0.0001, 0.0005, 0.0001),\n",
        "                'learning_rate': ['constant', 'invscaling', 'adaptive'],\n",
        "                'max_iter': range(100, 500, 100),\n",
        "                'validation_fraction': np.arange(0.1, 0.4, 0.1), \n",
        "              }"
      ],
      "execution_count": 0,
      "outputs": []
    },
    {
      "cell_type": "code",
      "metadata": {
        "id": "snEQZ50A5gKb",
        "colab_type": "code",
        "colab": {}
      },
      "source": [
        "# clf_final_nn = grid_search(nn_clf, nn_parameters, X, y)"
      ],
      "execution_count": 0,
      "outputs": []
    },
    {
      "cell_type": "code",
      "metadata": {
        "id": "LH8TniyxPxIy",
        "colab_type": "code",
        "colab": {}
      },
      "source": [
        "# clf_final_nn.get('best_params_')\n",
        "# Чтобы не считать каждый раз по часу, сохранил best_params_\n",
        "\n",
        "clf_final_by['best_params_'] = {'activation': 'tanh',\n",
        "                                'alpha': 0.0002,\n",
        "                                'learning_rate': 'invscaling',\n",
        "                                'max_iter': 300,\n",
        "                                'solver': 'adam',\n",
        "                                'validation_fraction': 0.1}"
      ],
      "execution_count": 0,
      "outputs": []
    },
    {
      "cell_type": "code",
      "metadata": {
        "id": "Nx73Ln9-U9cl",
        "colab_type": "code",
        "colab": {}
      },
      "source": [
        "nn_fixed_clf = MLPClassifier( activation = 'tanh',alpha = 0.0002, \n",
        "                              learning_rate = 'invscaling',\n",
        "                              max_iter = 300,\n",
        "                              solver = 'adam',\n",
        "                              validation_fraction = 0.1)"
      ],
      "execution_count": 0,
      "outputs": []
    },
    {
      "cell_type": "code",
      "metadata": {
        "id": "pdueiy4eWS_j",
        "colab_type": "code",
        "colab": {
          "base_uri": "https://localhost:8080/",
          "height": 153
        },
        "outputId": "7509938a-9fe0-4cd2-fb89-54fa2054e41a"
      },
      "source": [
        "nn_fixed_clf.fit(X, y)"
      ],
      "execution_count": 296,
      "outputs": [
        {
          "output_type": "execute_result",
          "data": {
            "text/plain": [
              "MLPClassifier(activation='tanh', alpha=0.0002, batch_size='auto', beta_1=0.9,\n",
              "              beta_2=0.999, early_stopping=False, epsilon=1e-08,\n",
              "              hidden_layer_sizes=(100,), learning_rate='invscaling',\n",
              "              learning_rate_init=0.001, max_fun=15000, max_iter=300,\n",
              "              momentum=0.9, n_iter_no_change=10, nesterovs_momentum=True,\n",
              "              power_t=0.5, random_state=None, shuffle=True, solver='adam',\n",
              "              tol=0.0001, validation_fraction=0.1, verbose=False,\n",
              "              warm_start=False)"
            ]
          },
          "metadata": {
            "tags": []
          },
          "execution_count": 296
        }
      ]
    },
    {
      "cell_type": "code",
      "metadata": {
        "id": "sExUF7eV7ymS",
        "colab_type": "code",
        "colab": {
          "base_uri": "https://localhost:8080/",
          "height": 34
        },
        "outputId": "16bcb6ec-1d24-4705-8608-f0c4cd68abdf"
      },
      "source": [
        "#clf_final_nn.get('best_estimator_').score(X, y)\n",
        "nn_fixed_clf.score(X, y)"
      ],
      "execution_count": 297,
      "outputs": [
        {
          "output_type": "execute_result",
          "data": {
            "text/plain": [
              "0.827247191011236"
            ]
          },
          "metadata": {
            "tags": []
          },
          "execution_count": 297
        }
      ]
    },
    {
      "cell_type": "code",
      "metadata": {
        "colab_type": "code",
        "id": "ozR95RW1CUaM",
        "colab": {}
      },
      "source": [
        "# Bayes. Надо бы CategoricalNB, но он глючит.\n",
        "by_clf = MultinomialNB()\n",
        "by_parameters = {'alpha': np.arange(0.0, 2.0, 0.1)}"
      ],
      "execution_count": 0,
      "outputs": []
    },
    {
      "cell_type": "code",
      "metadata": {
        "id": "HephqbxZDL92",
        "colab_type": "code",
        "colab": {
          "base_uri": "https://localhost:8080/",
          "height": 71
        },
        "outputId": "d02ef478-b6af-40eb-e48a-1f26da30f2b0"
      },
      "source": [
        "clf_final_by = grid_search(by_clf, by_parameters, X, y)"
      ],
      "execution_count": 299,
      "outputs": [
        {
          "output_type": "stream",
          "text": [
            "/usr/local/lib/python3.6/dist-packages/sklearn/naive_bayes.py:507: UserWarning: alpha too small will result in numeric errors, setting alpha = 1.0e-10\n",
            "  'setting alpha = %.1e' % _ALPHA_MIN)\n"
          ],
          "name": "stderr"
        }
      ]
    },
    {
      "cell_type": "code",
      "metadata": {
        "id": "p6worOpWWl60",
        "colab_type": "code",
        "colab": {
          "base_uri": "https://localhost:8080/",
          "height": 34
        },
        "outputId": "3a3fd190-3137-4f72-9ce4-f37fcae14e10"
      },
      "source": [
        "clf_final_by.get('best_params_')"
      ],
      "execution_count": 300,
      "outputs": [
        {
          "output_type": "execute_result",
          "data": {
            "text/plain": [
              "{'alpha': 0.0}"
            ]
          },
          "metadata": {
            "tags": []
          },
          "execution_count": 300
        }
      ]
    },
    {
      "cell_type": "code",
      "metadata": {
        "id": "9IxgLN_RWry7",
        "colab_type": "code",
        "colab": {
          "base_uri": "https://localhost:8080/",
          "height": 34
        },
        "outputId": "ad1f80b4-02e7-4eac-cf90-439967ce3b0e"
      },
      "source": [
        "clf_final_by.get('best_estimator_').score(X, y)"
      ],
      "execution_count": 301,
      "outputs": [
        {
          "output_type": "execute_result",
          "data": {
            "text/plain": [
              "0.7865168539325843"
            ]
          },
          "metadata": {
            "tags": []
          },
          "execution_count": 301
        }
      ]
    },
    {
      "cell_type": "markdown",
      "metadata": {
        "id": "jx_7gGTAYtQi",
        "colab_type": "text"
      },
      "source": [
        "**Results, Consensus**\n",
        "\n",
        "Попытка решить задачу используя консенсус 3-х методов (random forest, bayes, nn).\n",
        "\n",
        "Особого выигрыша по сравнению с одной nn это не принесло:\n",
        "\n",
        " +- 0.5% результата."
      ]
    },
    {
      "cell_type": "code",
      "metadata": {
        "id": "oumvbBAOdVCu",
        "colab_type": "code",
        "colab": {
          "base_uri": "https://localhost:8080/",
          "height": 34
        },
        "outputId": "f024a8c6-b694-4180-8e19-5ee537dbda51"
      },
      "source": [
        "clf_final_rf.get('best_estimator_').score(test_X, test_y)"
      ],
      "execution_count": 302,
      "outputs": [
        {
          "output_type": "execute_result",
          "data": {
            "text/plain": [
              "0.8268156424581006"
            ]
          },
          "metadata": {
            "tags": []
          },
          "execution_count": 302
        }
      ]
    },
    {
      "cell_type": "code",
      "metadata": {
        "id": "30tuLMLldaiB",
        "colab_type": "code",
        "colab": {
          "base_uri": "https://localhost:8080/",
          "height": 34
        },
        "outputId": "5ec0e4c8-aaf4-4055-c307-9e4da2d9ee00"
      },
      "source": [
        "nn_fixed_clf.score(test_X, test_y)"
      ],
      "execution_count": 303,
      "outputs": [
        {
          "output_type": "execute_result",
          "data": {
            "text/plain": [
              "0.8324022346368715"
            ]
          },
          "metadata": {
            "tags": []
          },
          "execution_count": 303
        }
      ]
    },
    {
      "cell_type": "code",
      "metadata": {
        "id": "QgzfOQujdgTZ",
        "colab_type": "code",
        "colab": {
          "base_uri": "https://localhost:8080/",
          "height": 34
        },
        "outputId": "eaa7f2c5-eb2e-42ea-bf8c-ed158ea42691"
      },
      "source": [
        "clf_final_by.get('best_estimator_').score(test_X, test_y)"
      ],
      "execution_count": 304,
      "outputs": [
        {
          "output_type": "execute_result",
          "data": {
            "text/plain": [
              "0.770949720670391"
            ]
          },
          "metadata": {
            "tags": []
          },
          "execution_count": 304
        }
      ]
    },
    {
      "cell_type": "code",
      "metadata": {
        "id": "7g1JtExLgDZi",
        "colab_type": "code",
        "colab": {}
      },
      "source": [
        "rf = pd.DataFrame(data = clf_final_rf.get('best_estimator_').predict_proba(test_X))\n",
        "nn = pd.DataFrame(data = nn_fixed_clf.predict_proba(test_X))\n",
        "by = pd.DataFrame(data = clf_final_by.get('best_estimator_').predict_proba(test_X))"
      ],
      "execution_count": 0,
      "outputs": []
    },
    {
      "cell_type": "code",
      "metadata": {
        "id": "MuWAXJuWpZkG",
        "colab_type": "code",
        "colab": {}
      },
      "source": [
        "test_result = pd.DataFrame(data={'rf_1': rf[1], 'nn_1': nn[1], 'by_1': by[1]})"
      ],
      "execution_count": 0,
      "outputs": []
    },
    {
      "cell_type": "code",
      "metadata": {
        "id": "ahFCLVggjBy3",
        "colab_type": "code",
        "colab": {
          "base_uri": "https://localhost:8080/",
          "height": 419
        },
        "outputId": "b5bf31e8-f934-4caa-b9b5-bc5e4e40c271"
      },
      "source": [
        "test_result"
      ],
      "execution_count": 307,
      "outputs": [
        {
          "output_type": "execute_result",
          "data": {
            "text/html": [
              "<div>\n",
              "<style scoped>\n",
              "    .dataframe tbody tr th:only-of-type {\n",
              "        vertical-align: middle;\n",
              "    }\n",
              "\n",
              "    .dataframe tbody tr th {\n",
              "        vertical-align: top;\n",
              "    }\n",
              "\n",
              "    .dataframe thead th {\n",
              "        text-align: right;\n",
              "    }\n",
              "</style>\n",
              "<table border=\"1\" class=\"dataframe\">\n",
              "  <thead>\n",
              "    <tr style=\"text-align: right;\">\n",
              "      <th></th>\n",
              "      <th>rf_1</th>\n",
              "      <th>nn_1</th>\n",
              "      <th>by_1</th>\n",
              "    </tr>\n",
              "  </thead>\n",
              "  <tbody>\n",
              "    <tr>\n",
              "      <th>0</th>\n",
              "      <td>0.851916</td>\n",
              "      <td>0.822269</td>\n",
              "      <td>0.619381</td>\n",
              "    </tr>\n",
              "    <tr>\n",
              "      <th>1</th>\n",
              "      <td>0.524478</td>\n",
              "      <td>0.567657</td>\n",
              "      <td>0.549617</td>\n",
              "    </tr>\n",
              "    <tr>\n",
              "      <th>2</th>\n",
              "      <td>0.388220</td>\n",
              "      <td>0.305913</td>\n",
              "      <td>0.237093</td>\n",
              "    </tr>\n",
              "    <tr>\n",
              "      <th>3</th>\n",
              "      <td>0.829570</td>\n",
              "      <td>0.630080</td>\n",
              "      <td>0.741144</td>\n",
              "    </tr>\n",
              "    <tr>\n",
              "      <th>4</th>\n",
              "      <td>0.226410</td>\n",
              "      <td>0.135934</td>\n",
              "      <td>0.278542</td>\n",
              "    </tr>\n",
              "    <tr>\n",
              "      <th>...</th>\n",
              "      <td>...</td>\n",
              "      <td>...</td>\n",
              "      <td>...</td>\n",
              "    </tr>\n",
              "    <tr>\n",
              "      <th>174</th>\n",
              "      <td>0.136669</td>\n",
              "      <td>0.079937</td>\n",
              "      <td>0.205231</td>\n",
              "    </tr>\n",
              "    <tr>\n",
              "      <th>175</th>\n",
              "      <td>0.719339</td>\n",
              "      <td>0.980997</td>\n",
              "      <td>0.701069</td>\n",
              "    </tr>\n",
              "    <tr>\n",
              "      <th>176</th>\n",
              "      <td>0.792993</td>\n",
              "      <td>0.889049</td>\n",
              "      <td>0.590319</td>\n",
              "    </tr>\n",
              "    <tr>\n",
              "      <th>177</th>\n",
              "      <td>0.524478</td>\n",
              "      <td>0.561546</td>\n",
              "      <td>0.544499</td>\n",
              "    </tr>\n",
              "    <tr>\n",
              "      <th>178</th>\n",
              "      <td>0.524478</td>\n",
              "      <td>0.557092</td>\n",
              "      <td>0.566987</td>\n",
              "    </tr>\n",
              "  </tbody>\n",
              "</table>\n",
              "<p>179 rows × 3 columns</p>\n",
              "</div>"
            ],
            "text/plain": [
              "         rf_1      nn_1      by_1\n",
              "0    0.851916  0.822269  0.619381\n",
              "1    0.524478  0.567657  0.549617\n",
              "2    0.388220  0.305913  0.237093\n",
              "3    0.829570  0.630080  0.741144\n",
              "4    0.226410  0.135934  0.278542\n",
              "..        ...       ...       ...\n",
              "174  0.136669  0.079937  0.205231\n",
              "175  0.719339  0.980997  0.701069\n",
              "176  0.792993  0.889049  0.590319\n",
              "177  0.524478  0.561546  0.544499\n",
              "178  0.524478  0.557092  0.566987\n",
              "\n",
              "[179 rows x 3 columns]"
            ]
          },
          "metadata": {
            "tags": []
          },
          "execution_count": 307
        }
      ]
    },
    {
      "cell_type": "code",
      "metadata": {
        "id": "8ZCLmz2UZhPT",
        "colab_type": "code",
        "colab": {}
      },
      "source": [
        "test_result['consensus'] = (test_result.rf_1 + test_result.nn_1 + test_result.by_1) / 3\n",
        "test_result.consensus = test_result.consensus.round()\n"
      ],
      "execution_count": 0,
      "outputs": []
    },
    {
      "cell_type": "code",
      "metadata": {
        "id": "CEqS-FzGareW",
        "colab_type": "code",
        "colab": {}
      },
      "source": [
        "test_result['real_result'] = test_y.values"
      ],
      "execution_count": 0,
      "outputs": []
    },
    {
      "cell_type": "code",
      "metadata": {
        "id": "UNlZ-dBzd04P",
        "colab_type": "code",
        "colab": {}
      },
      "source": [
        "test_result['match'] = np.where(test_result.consensus == test_result.real_result, 1, 0)"
      ],
      "execution_count": 0,
      "outputs": []
    },
    {
      "cell_type": "code",
      "metadata": {
        "id": "RHNrm4X8fUsd",
        "colab_type": "code",
        "colab": {
          "base_uri": "https://localhost:8080/",
          "height": 34
        },
        "outputId": "d0267539-cf2f-4fe4-a28d-d651e9483292"
      },
      "source": [
        "# +- 0.005 по сравнению с одной нейросетью :/\n",
        "test_result.match.mean()"
      ],
      "execution_count": 311,
      "outputs": [
        {
          "output_type": "execute_result",
          "data": {
            "text/plain": [
              "0.8268156424581006"
            ]
          },
          "metadata": {
            "tags": []
          },
          "execution_count": 311
        }
      ]
    },
    {
      "cell_type": "code",
      "metadata": {
        "id": "c0-9Zh9rg-6B",
        "colab_type": "code",
        "colab": {
          "base_uri": "https://localhost:8080/",
          "height": 419
        },
        "outputId": "a0ed3f68-de63-48f8-a02b-41d6e439c1f5"
      },
      "source": [
        "test_result"
      ],
      "execution_count": 312,
      "outputs": [
        {
          "output_type": "execute_result",
          "data": {
            "text/html": [
              "<div>\n",
              "<style scoped>\n",
              "    .dataframe tbody tr th:only-of-type {\n",
              "        vertical-align: middle;\n",
              "    }\n",
              "\n",
              "    .dataframe tbody tr th {\n",
              "        vertical-align: top;\n",
              "    }\n",
              "\n",
              "    .dataframe thead th {\n",
              "        text-align: right;\n",
              "    }\n",
              "</style>\n",
              "<table border=\"1\" class=\"dataframe\">\n",
              "  <thead>\n",
              "    <tr style=\"text-align: right;\">\n",
              "      <th></th>\n",
              "      <th>rf_1</th>\n",
              "      <th>nn_1</th>\n",
              "      <th>by_1</th>\n",
              "      <th>consensus</th>\n",
              "      <th>real_result</th>\n",
              "      <th>match</th>\n",
              "    </tr>\n",
              "  </thead>\n",
              "  <tbody>\n",
              "    <tr>\n",
              "      <th>0</th>\n",
              "      <td>0.851916</td>\n",
              "      <td>0.822269</td>\n",
              "      <td>0.619381</td>\n",
              "      <td>1.0</td>\n",
              "      <td>1</td>\n",
              "      <td>1</td>\n",
              "    </tr>\n",
              "    <tr>\n",
              "      <th>1</th>\n",
              "      <td>0.524478</td>\n",
              "      <td>0.567657</td>\n",
              "      <td>0.549617</td>\n",
              "      <td>1.0</td>\n",
              "      <td>0</td>\n",
              "      <td>0</td>\n",
              "    </tr>\n",
              "    <tr>\n",
              "      <th>2</th>\n",
              "      <td>0.388220</td>\n",
              "      <td>0.305913</td>\n",
              "      <td>0.237093</td>\n",
              "      <td>0.0</td>\n",
              "      <td>0</td>\n",
              "      <td>1</td>\n",
              "    </tr>\n",
              "    <tr>\n",
              "      <th>3</th>\n",
              "      <td>0.829570</td>\n",
              "      <td>0.630080</td>\n",
              "      <td>0.741144</td>\n",
              "      <td>1.0</td>\n",
              "      <td>1</td>\n",
              "      <td>1</td>\n",
              "    </tr>\n",
              "    <tr>\n",
              "      <th>4</th>\n",
              "      <td>0.226410</td>\n",
              "      <td>0.135934</td>\n",
              "      <td>0.278542</td>\n",
              "      <td>0.0</td>\n",
              "      <td>0</td>\n",
              "      <td>1</td>\n",
              "    </tr>\n",
              "    <tr>\n",
              "      <th>...</th>\n",
              "      <td>...</td>\n",
              "      <td>...</td>\n",
              "      <td>...</td>\n",
              "      <td>...</td>\n",
              "      <td>...</td>\n",
              "      <td>...</td>\n",
              "    </tr>\n",
              "    <tr>\n",
              "      <th>174</th>\n",
              "      <td>0.136669</td>\n",
              "      <td>0.079937</td>\n",
              "      <td>0.205231</td>\n",
              "      <td>0.0</td>\n",
              "      <td>0</td>\n",
              "      <td>1</td>\n",
              "    </tr>\n",
              "    <tr>\n",
              "      <th>175</th>\n",
              "      <td>0.719339</td>\n",
              "      <td>0.980997</td>\n",
              "      <td>0.701069</td>\n",
              "      <td>1.0</td>\n",
              "      <td>0</td>\n",
              "      <td>0</td>\n",
              "    </tr>\n",
              "    <tr>\n",
              "      <th>176</th>\n",
              "      <td>0.792993</td>\n",
              "      <td>0.889049</td>\n",
              "      <td>0.590319</td>\n",
              "      <td>1.0</td>\n",
              "      <td>1</td>\n",
              "      <td>1</td>\n",
              "    </tr>\n",
              "    <tr>\n",
              "      <th>177</th>\n",
              "      <td>0.524478</td>\n",
              "      <td>0.561546</td>\n",
              "      <td>0.544499</td>\n",
              "      <td>1.0</td>\n",
              "      <td>1</td>\n",
              "      <td>1</td>\n",
              "    </tr>\n",
              "    <tr>\n",
              "      <th>178</th>\n",
              "      <td>0.524478</td>\n",
              "      <td>0.557092</td>\n",
              "      <td>0.566987</td>\n",
              "      <td>1.0</td>\n",
              "      <td>1</td>\n",
              "      <td>1</td>\n",
              "    </tr>\n",
              "  </tbody>\n",
              "</table>\n",
              "<p>179 rows × 6 columns</p>\n",
              "</div>"
            ],
            "text/plain": [
              "         rf_1      nn_1      by_1  consensus  real_result  match\n",
              "0    0.851916  0.822269  0.619381        1.0            1      1\n",
              "1    0.524478  0.567657  0.549617        1.0            0      0\n",
              "2    0.388220  0.305913  0.237093        0.0            0      1\n",
              "3    0.829570  0.630080  0.741144        1.0            1      1\n",
              "4    0.226410  0.135934  0.278542        0.0            0      1\n",
              "..        ...       ...       ...        ...          ...    ...\n",
              "174  0.136669  0.079937  0.205231        0.0            0      1\n",
              "175  0.719339  0.980997  0.701069        1.0            0      0\n",
              "176  0.792993  0.889049  0.590319        1.0            1      1\n",
              "177  0.524478  0.561546  0.544499        1.0            1      1\n",
              "178  0.524478  0.557092  0.566987        1.0            1      1\n",
              "\n",
              "[179 rows x 6 columns]"
            ]
          },
          "metadata": {
            "tags": []
          },
          "execution_count": 312
        }
      ]
    },
    {
      "cell_type": "code",
      "metadata": {
        "id": "hL-qzMXcxigt",
        "colab_type": "code",
        "colab": {}
      },
      "source": [
        "#result = pd.DataFrame({'PassengerID': test.PassengerId, 'Survived': test_result.consensus})"
      ],
      "execution_count": 0,
      "outputs": []
    },
    {
      "cell_type": "code",
      "metadata": {
        "id": "2qTNMrrLyBu6",
        "colab_type": "code",
        "colab": {}
      },
      "source": [
        "#result"
      ],
      "execution_count": 0,
      "outputs": []
    },
    {
      "cell_type": "code",
      "metadata": {
        "id": "lc0D0WK_6ZLC",
        "colab_type": "code",
        "colab": {}
      },
      "source": [
        "# TODO: добавить еще пару методов, отрефакторить, оттестить."
      ],
      "execution_count": 0,
      "outputs": []
    }
  ]
}