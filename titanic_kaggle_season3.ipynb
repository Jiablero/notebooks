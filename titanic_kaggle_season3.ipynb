{
  "nbformat": 4,
  "nbformat_minor": 0,
  "metadata": {
    "colab": {
      "name": "titanic_kaggle_season3.ipynb",
      "provenance": [],
      "collapsed_sections": [],
      "authorship_tag": "ABX9TyOmMfR225vfMb39WVXgTV8Y",
      "include_colab_link": true
    },
    "kernelspec": {
      "name": "python3",
      "display_name": "Python 3"
    }
  },
  "cells": [
    {
      "cell_type": "markdown",
      "metadata": {
        "id": "view-in-github",
        "colab_type": "text"
      },
      "source": [
        "<a href=\"https://colab.research.google.com/github/Jiablero/notebooks/blob/master/titanic_kaggle_season3.ipynb\" target=\"_parent\"><img src=\"https://colab.research.google.com/assets/colab-badge.svg\" alt=\"Open In Colab\"/></a>"
      ]
    },
    {
      "cell_type": "code",
      "metadata": {
        "id": "eZUYxEMyIk7-",
        "colab_type": "code",
        "colab": {}
      },
      "source": [
        "import pandas as pd\n",
        "import numpy as np\n",
        "\n",
        "from sklearn.model_selection import GridSearchCV\n",
        "from sklearn.model_selection import train_test_split, cross_val_score\n",
        "from sklearn.metrics import classification_report, roc_auc_score, confusion_matrix\n",
        "\n",
        "from sklearn.ensemble import RandomForestClassifier\n",
        "from sklearn.naive_bayes import MultinomialNB\n",
        "from sklearn.neural_network import MLPClassifier"
      ],
      "execution_count": 0,
      "outputs": []
    },
    {
      "cell_type": "code",
      "metadata": {
        "id": "maVf4mWhIyth",
        "colab_type": "code",
        "colab": {}
      },
      "source": [
        "train = pd.read_csv('train.csv')\n",
        "test = pd.read_csv('test.csv')"
      ],
      "execution_count": 0,
      "outputs": []
    },
    {
      "cell_type": "code",
      "metadata": {
        "id": "w2J4VO9MJBvv",
        "colab_type": "code",
        "colab": {}
      },
      "source": [
        "# from season 1\n",
        "\n",
        "# data preparation\n",
        "def prepare_titanic_data(data):\n",
        "  X = data.drop(['PassengerId', 'Name', 'Ticket', 'Cabin', 'Fare', 'Embarked'], axis = 1)  \n",
        "  if 'Survived' in data.columns : \n",
        "    X = X.drop('Survived', axis = 1) # в тестовых данных нет Survived\n",
        "  X = X.fillna({'Age': X.Age.median()})\n",
        "  #X['Family'] = X.SibSp + X.Parch + 1\n",
        "  X = pd.get_dummies(X).drop('Sex_male', axis=1)\n",
        "  return(X)\n",
        "\n",
        "# grid search universal\n",
        "def grid_search(clf, params, X, y):\n",
        "  gs = GridSearchCV(clf, params, n_jobs=-1)\n",
        "  gs.fit(X, y)\n",
        "  # best_params_ для отладки\n",
        "  return {'best_params_': gs.best_params_, 'best_estimator_': gs.best_estimator_}"
      ],
      "execution_count": 0,
      "outputs": []
    },
    {
      "cell_type": "code",
      "metadata": {
        "id": "B8v98fauJIdf",
        "colab_type": "code",
        "colab": {}
      },
      "source": [
        "# Подготовка данных\n",
        "X, test_X = train_test_split(train, test_size = 0.2)\n",
        "y = X.Survived\n",
        "X = prepare_titanic_data(X)\n",
        "test_y = test_X.Survived\n",
        "test_X = prepare_titanic_data(test_X)\n",
        "\n",
        "# для кроссвалидации\n",
        "cross_y = train.Survived\n",
        "cross_X = prepare_titanic_data(train)"
      ],
      "execution_count": 0,
      "outputs": []
    },
    {
      "cell_type": "code",
      "metadata": {
        "id": "WlCuhv_7JZT2",
        "colab_type": "code",
        "colab": {}
      },
      "source": [
        "# Random Forest\n",
        "rf_clf = RandomForestClassifier()\n",
        "rf_parameters = {\n",
        "    'n_estimators': range(10, 30, 5), \n",
        "    'max_depth': range(3, 10, 1), \n",
        "    'min_samples_leaf': range(1, 7), \n",
        "    'min_samples_split': range(4, 12, 2)}"
      ],
      "execution_count": 0,
      "outputs": []
    },
    {
      "cell_type": "code",
      "metadata": {
        "id": "SEWLdg9sJuvv",
        "colab_type": "code",
        "colab": {}
      },
      "source": [
        "clf_final_rf = grid_search(rf_clf, rf_parameters, X, y)"
      ],
      "execution_count": 0,
      "outputs": []
    },
    {
      "cell_type": "code",
      "metadata": {
        "id": "YhlzoLyFJ8cD",
        "colab_type": "code",
        "outputId": "a8a09ae7-df79-41d2-fb12-4561f25efd94",
        "colab": {
          "base_uri": "https://localhost:8080/",
          "height": 34
        }
      },
      "source": [
        "pred_proba = clf_final_rf.get('best_estimator_').predict_proba(test_X)\n",
        "roc_score = roc_auc_score(test_y, pred_proba[:, 1])\n",
        "print(\"ROC: {}\".format(roc_score))"
      ],
      "execution_count": 0,
      "outputs": [
        {
          "output_type": "stream",
          "text": [
            "ROC: 0.8575289575289575\n"
          ],
          "name": "stdout"
        }
      ]
    },
    {
      "cell_type": "code",
      "metadata": {
        "id": "vG9pTotRKKWA",
        "colab_type": "code",
        "outputId": "86f50331-0a78-45af-cd14-0d778fcaa4f5",
        "colab": {
          "base_uri": "https://localhost:8080/",
          "height": 34
        }
      },
      "source": [
        "# Кроссвалидация\n",
        "clf_cv = RandomForestClassifier(**clf_final_rf.get('best_estimator_').get_params())\n",
        "cv_scores = cross_val_score(clf_cv, cross_X, cross_y, scoring='roc_auc', cv=10, n_jobs=-1)\n",
        "mean_cv_scores = np.mean(cv_scores)\n",
        "\n",
        "print(\"Crossvalidation mean(ROC): {}\".format(mean_cv_scores))"
      ],
      "execution_count": 0,
      "outputs": [
        {
          "output_type": "stream",
          "text": [
            "Crossvalidation mean(ROC): 0.8556507087683558\n"
          ],
          "name": "stdout"
        }
      ]
    },
    {
      "cell_type": "code",
      "metadata": {
        "id": "9h3qotKry3Fx",
        "colab_type": "code",
        "colab": {}
      },
      "source": [
        "# MLP neural network (best params from season 1)\n",
        "nn_fixed_clf = MLPClassifier( activation = 'tanh',alpha = 0.0002, \n",
        "                              learning_rate = 'invscaling',\n",
        "                              max_iter = 300,\n",
        "                              solver = 'adam',\n",
        "                              validation_fraction = 0.1)"
      ],
      "execution_count": 0,
      "outputs": []
    },
    {
      "cell_type": "code",
      "metadata": {
        "id": "_qkcwE1qMfYf",
        "colab_type": "code",
        "outputId": "5a16f2e6-6790-4fcb-99ee-3d98f75f7803",
        "colab": {
          "base_uri": "https://localhost:8080/",
          "height": 153
        }
      },
      "source": [
        "nn_fixed_clf.fit(X, y)"
      ],
      "execution_count": 0,
      "outputs": [
        {
          "output_type": "execute_result",
          "data": {
            "text/plain": [
              "MLPClassifier(activation='tanh', alpha=0.0002, batch_size='auto', beta_1=0.9,\n",
              "              beta_2=0.999, early_stopping=False, epsilon=1e-08,\n",
              "              hidden_layer_sizes=(100,), learning_rate='invscaling',\n",
              "              learning_rate_init=0.001, max_fun=15000, max_iter=300,\n",
              "              momentum=0.9, n_iter_no_change=10, nesterovs_momentum=True,\n",
              "              power_t=0.5, random_state=None, shuffle=True, solver='adam',\n",
              "              tol=0.0001, validation_fraction=0.1, verbose=False,\n",
              "              warm_start=False)"
            ]
          },
          "metadata": {
            "tags": []
          },
          "execution_count": 101
        }
      ]
    },
    {
      "cell_type": "code",
      "metadata": {
        "id": "Nx73Ln9-U9cl",
        "colab_type": "code",
        "outputId": "571940f4-38b6-469d-b21b-52547cb7d2d3",
        "colab": {
          "base_uri": "https://localhost:8080/",
          "height": 34
        }
      },
      "source": [
        "pred_proba_nn = nn_fixed_clf.predict_proba(test_X)\n",
        "roc_score_nn = roc_auc_score(test_y, pred_proba_nn[:, 1])\n",
        "print(\"ROC: {}\".format(roc_score_nn))"
      ],
      "execution_count": 0,
      "outputs": [
        {
          "output_type": "stream",
          "text": [
            "ROC: 0.8866151866151866\n"
          ],
          "name": "stdout"
        }
      ]
    },
    {
      "cell_type": "code",
      "metadata": {
        "colab_type": "code",
        "outputId": "aefe36be-e8b2-47c3-a0d9-fbd17fe4d181",
        "id": "X-bbsUVTM2Y7",
        "colab": {
          "base_uri": "https://localhost:8080/",
          "height": 34
        }
      },
      "source": [
        "# Кроссвалидация\n",
        "nn_clf_cv = MLPClassifier(**nn_fixed_clf.get_params())\n",
        "cv_scores_nn = cross_val_score(nn_clf_cv, cross_X, cross_y, scoring='roc_auc', cv=10, n_jobs=-1)\n",
        "mean_cv_scores_nn = np.mean(cv_scores_nn)\n",
        "\n",
        "print(\"Crossvalidation mean(ROC): {}\".format(mean_cv_scores_nn))"
      ],
      "execution_count": 0,
      "outputs": [
        {
          "output_type": "stream",
          "text": [
            "Crossvalidation mean(ROC): 0.8561979741391506\n"
          ],
          "name": "stdout"
        }
      ]
    },
    {
      "cell_type": "code",
      "metadata": {
        "id": "sCd1hsq9Z9dw",
        "colab_type": "code",
        "outputId": "473a2467-4ff0-40c7-fe64-fe1d71470e27",
        "colab": {
          "base_uri": "https://localhost:8080/",
          "height": 153
        }
      },
      "source": [
        "# готовим ответ для Kaggle\n",
        "nn_fixed_clf.fit(cross_X, cross_y)\n",
        "clf_final_rf.get('best_estimator_').fit(cross_X, cross_y)"
      ],
      "execution_count": 0,
      "outputs": [
        {
          "output_type": "execute_result",
          "data": {
            "text/plain": [
              "RandomForestClassifier(bootstrap=True, ccp_alpha=0.0, class_weight=None,\n",
              "                       criterion='gini', max_depth=3, max_features='auto',\n",
              "                       max_leaf_nodes=None, max_samples=None,\n",
              "                       min_impurity_decrease=0.0, min_impurity_split=None,\n",
              "                       min_samples_leaf=3, min_samples_split=4,\n",
              "                       min_weight_fraction_leaf=0.0, n_estimators=25,\n",
              "                       n_jobs=None, oob_score=False, random_state=None,\n",
              "                       verbose=0, warm_start=False)"
            ]
          },
          "metadata": {
            "tags": []
          },
          "execution_count": 105
        }
      ]
    },
    {
      "cell_type": "code",
      "metadata": {
        "id": "BXCLjc0QbZ1H",
        "colab_type": "code",
        "colab": {}
      },
      "source": [
        "result_X = prepare_titanic_data(test)"
      ],
      "execution_count": 0,
      "outputs": []
    },
    {
      "cell_type": "code",
      "metadata": {
        "id": "4_K1D2eNa9Ub",
        "colab_type": "code",
        "colab": {}
      },
      "source": [
        "result = pd.DataFrame(data=test.PassengerId)"
      ],
      "execution_count": 0,
      "outputs": []
    },
    {
      "cell_type": "code",
      "metadata": {
        "id": "KMEvTgkgbI7o",
        "colab_type": "code",
        "colab": {}
      },
      "source": [
        "result['nn'] = pd.Series(nn_fixed_clf.predict(result_X))\n",
        "result['rf'] = pd.Series(clf_final_rf.get('best_estimator_').predict(result_X))"
      ],
      "execution_count": 0,
      "outputs": []
    },
    {
      "cell_type": "code",
      "metadata": {
        "id": "1YRtLLvVeQ0F",
        "colab_type": "code",
        "colab": {}
      },
      "source": [
        "result['nn_proba_0'] = pd.Series(nn_fixed_clf.predict_proba(result_X)[:,0])\n",
        "result['rf_proba_0'] = pd.Series(clf_final_rf.get('best_estimator_').predict_proba(result_X)[:,0])\n",
        "result['nn_proba_1'] = pd.Series(nn_fixed_clf.predict_proba(result_X)[:,1])\n",
        "result['rf_proba_1'] = pd.Series(clf_final_rf.get('best_estimator_').predict_proba(result_X)[:,1])"
      ],
      "execution_count": 0,
      "outputs": []
    },
    {
      "cell_type": "code",
      "metadata": {
        "id": "um6GbwN0bs3P",
        "colab_type": "code",
        "colab": {}
      },
      "source": [
        "result['summ'] = result.nn + result.rf"
      ],
      "execution_count": 0,
      "outputs": []
    },
    {
      "cell_type": "code",
      "metadata": {
        "id": "WzHyNPo3eBnb",
        "colab_type": "code",
        "outputId": "00d47a20-a3c4-4b1b-ec68-9a5daebd18bb",
        "colab": {
          "base_uri": "https://localhost:8080/",
          "height": 328
        }
      },
      "source": [
        "# Random Forrest и MLP neural network не сошлись во мнениях в 9 из 418 случаях\n",
        "# приведем их к консенсусу\n",
        "result[result.summ == 1]"
      ],
      "execution_count": 169,
      "outputs": [
        {
          "output_type": "execute_result",
          "data": {
            "text/html": [
              "<div>\n",
              "<style scoped>\n",
              "    .dataframe tbody tr th:only-of-type {\n",
              "        vertical-align: middle;\n",
              "    }\n",
              "\n",
              "    .dataframe tbody tr th {\n",
              "        vertical-align: top;\n",
              "    }\n",
              "\n",
              "    .dataframe thead th {\n",
              "        text-align: right;\n",
              "    }\n",
              "</style>\n",
              "<table border=\"1\" class=\"dataframe\">\n",
              "  <thead>\n",
              "    <tr style=\"text-align: right;\">\n",
              "      <th></th>\n",
              "      <th>PassengerId</th>\n",
              "      <th>nn</th>\n",
              "      <th>rf</th>\n",
              "      <th>nn_proba_0</th>\n",
              "      <th>rf_proba_0</th>\n",
              "      <th>nn_proba_1</th>\n",
              "      <th>rf_proba_1</th>\n",
              "      <th>summ</th>\n",
              "    </tr>\n",
              "  </thead>\n",
              "  <tbody>\n",
              "    <tr>\n",
              "      <th>21</th>\n",
              "      <td>913</td>\n",
              "      <td>1</td>\n",
              "      <td>0</td>\n",
              "      <td>0.363047</td>\n",
              "      <td>0.717114</td>\n",
              "      <td>0.636953</td>\n",
              "      <td>0.282886</td>\n",
              "      <td>1</td>\n",
              "    </tr>\n",
              "    <tr>\n",
              "      <th>64</th>\n",
              "      <td>956</td>\n",
              "      <td>0</td>\n",
              "      <td>1</td>\n",
              "      <td>0.612758</td>\n",
              "      <td>0.496693</td>\n",
              "      <td>0.387242</td>\n",
              "      <td>0.503307</td>\n",
              "      <td>1</td>\n",
              "    </tr>\n",
              "    <tr>\n",
              "      <th>80</th>\n",
              "      <td>972</td>\n",
              "      <td>1</td>\n",
              "      <td>0</td>\n",
              "      <td>0.290101</td>\n",
              "      <td>0.603435</td>\n",
              "      <td>0.709899</td>\n",
              "      <td>0.396565</td>\n",
              "      <td>1</td>\n",
              "    </tr>\n",
              "    <tr>\n",
              "      <th>159</th>\n",
              "      <td>1051</td>\n",
              "      <td>1</td>\n",
              "      <td>0</td>\n",
              "      <td>0.496492</td>\n",
              "      <td>0.506750</td>\n",
              "      <td>0.503508</td>\n",
              "      <td>0.493250</td>\n",
              "      <td>1</td>\n",
              "    </tr>\n",
              "    <tr>\n",
              "      <th>161</th>\n",
              "      <td>1053</td>\n",
              "      <td>1</td>\n",
              "      <td>0</td>\n",
              "      <td>0.372824</td>\n",
              "      <td>0.680721</td>\n",
              "      <td>0.627176</td>\n",
              "      <td>0.319279</td>\n",
              "      <td>1</td>\n",
              "    </tr>\n",
              "    <tr>\n",
              "      <th>194</th>\n",
              "      <td>1086</td>\n",
              "      <td>1</td>\n",
              "      <td>0</td>\n",
              "      <td>0.197495</td>\n",
              "      <td>0.547238</td>\n",
              "      <td>0.802505</td>\n",
              "      <td>0.452762</td>\n",
              "      <td>1</td>\n",
              "    </tr>\n",
              "    <tr>\n",
              "      <th>201</th>\n",
              "      <td>1093</td>\n",
              "      <td>1</td>\n",
              "      <td>0</td>\n",
              "      <td>0.060199</td>\n",
              "      <td>0.502935</td>\n",
              "      <td>0.939801</td>\n",
              "      <td>0.497065</td>\n",
              "      <td>1</td>\n",
              "    </tr>\n",
              "    <tr>\n",
              "      <th>225</th>\n",
              "      <td>1117</td>\n",
              "      <td>1</td>\n",
              "      <td>0</td>\n",
              "      <td>0.499813</td>\n",
              "      <td>0.501057</td>\n",
              "      <td>0.500187</td>\n",
              "      <td>0.498943</td>\n",
              "      <td>1</td>\n",
              "    </tr>\n",
              "    <tr>\n",
              "      <th>376</th>\n",
              "      <td>1268</td>\n",
              "      <td>0</td>\n",
              "      <td>1</td>\n",
              "      <td>0.521723</td>\n",
              "      <td>0.432273</td>\n",
              "      <td>0.478277</td>\n",
              "      <td>0.567727</td>\n",
              "      <td>1</td>\n",
              "    </tr>\n",
              "  </tbody>\n",
              "</table>\n",
              "</div>"
            ],
            "text/plain": [
              "     PassengerId  nn  rf  nn_proba_0  rf_proba_0  nn_proba_1  rf_proba_1  summ\n",
              "21           913   1   0    0.363047    0.717114    0.636953    0.282886     1\n",
              "64           956   0   1    0.612758    0.496693    0.387242    0.503307     1\n",
              "80           972   1   0    0.290101    0.603435    0.709899    0.396565     1\n",
              "159         1051   1   0    0.496492    0.506750    0.503508    0.493250     1\n",
              "161         1053   1   0    0.372824    0.680721    0.627176    0.319279     1\n",
              "194         1086   1   0    0.197495    0.547238    0.802505    0.452762     1\n",
              "201         1093   1   0    0.060199    0.502935    0.939801    0.497065     1\n",
              "225         1117   1   0    0.499813    0.501057    0.500187    0.498943     1\n",
              "376         1268   0   1    0.521723    0.432273    0.478277    0.567727     1"
            ]
          },
          "metadata": {
            "tags": []
          },
          "execution_count": 169
        }
      ]
    },
    {
      "cell_type": "code",
      "metadata": {
        "id": "GDULqMPXl43p",
        "colab_type": "code",
        "colab": {}
      },
      "source": [
        "result['Survived'] = np.where(result.summ == 2, 1, 0)"
      ],
      "execution_count": 0,
      "outputs": []
    },
    {
      "cell_type": "code",
      "metadata": {
        "id": "eCE8typym5B8",
        "colab_type": "code",
        "colab": {
          "base_uri": "https://localhost:8080/",
          "height": 139
        },
        "outputId": "f42007ba-37a7-4e71-dfa7-f7dc7a60baa1"
      },
      "source": [
        "# пришлось отрезать кусочки датасета, т.к. np.where не хочет работать на фильтрованном датасете\n",
        "# не придумал как сделать правильно\n",
        "surv_1 = result[(result.summ == 1) & (result.nn == 1)]\n",
        "surv_1.Survived = np.where(surv_1.nn_proba_1 > surv_1.rf_proba_0, 1, 0)\n"
      ],
      "execution_count": 190,
      "outputs": [
        {
          "output_type": "stream",
          "text": [
            "/usr/local/lib/python3.6/dist-packages/pandas/core/generic.py:5303: SettingWithCopyWarning: \n",
            "A value is trying to be set on a copy of a slice from a DataFrame.\n",
            "Try using .loc[row_indexer,col_indexer] = value instead\n",
            "\n",
            "See the caveats in the documentation: https://pandas.pydata.org/pandas-docs/stable/user_guide/indexing.html#returning-a-view-versus-a-copy\n",
            "  self[name] = value\n"
          ],
          "name": "stderr"
        }
      ]
    },
    {
      "cell_type": "code",
      "metadata": {
        "id": "bgD7D7larHLK",
        "colab_type": "code",
        "colab": {
          "base_uri": "https://localhost:8080/",
          "height": 139
        },
        "outputId": "1b5b9904-0d8d-462d-f72c-32503c3ec4ef"
      },
      "source": [
        "surv_2 = result[(result.summ == 1) & (result.nn == 0)]\n",
        "surv_2.Survived = np.where(surv_2.nn_proba_0 > surv_2.rf_proba_1, 1, 0)"
      ],
      "execution_count": 192,
      "outputs": [
        {
          "output_type": "stream",
          "text": [
            "/usr/local/lib/python3.6/dist-packages/pandas/core/generic.py:5303: SettingWithCopyWarning: \n",
            "A value is trying to be set on a copy of a slice from a DataFrame.\n",
            "Try using .loc[row_indexer,col_indexer] = value instead\n",
            "\n",
            "See the caveats in the documentation: https://pandas.pydata.org/pandas-docs/stable/user_guide/indexing.html#returning-a-view-versus-a-copy\n",
            "  self[name] = value\n"
          ],
          "name": "stderr"
        }
      ]
    },
    {
      "cell_type": "code",
      "metadata": {
        "id": "b8ieUfQUroPV",
        "colab_type": "code",
        "colab": {}
      },
      "source": [
        "# прилепляем отрезанное обратно\n",
        "result = result[result.summ != 1].append(surv_1)"
      ],
      "execution_count": 0,
      "outputs": []
    },
    {
      "cell_type": "code",
      "metadata": {
        "id": "4D4fTEmztH3Q",
        "colab_type": "code",
        "colab": {}
      },
      "source": [
        "result = result.append(surv_2)"
      ],
      "execution_count": 0,
      "outputs": []
    },
    {
      "cell_type": "code",
      "metadata": {
        "id": "eIVaOBQjtL3P",
        "colab_type": "code",
        "colab": {}
      },
      "source": [
        "# 0.78947 на Kaggle, 5208 место из 23835\n",
        "result[['PassengerId', 'Survived']].sort_values(by=['PassengerId']).to_csv('results.csv', index = False)"
      ],
      "execution_count": 0,
      "outputs": []
    }
  ]
}