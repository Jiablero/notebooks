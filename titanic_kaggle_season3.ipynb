{
  "nbformat": 4,
  "nbformat_minor": 0,
  "metadata": {
    "colab": {
      "name": "titanic_kaggle_season3.ipynb",
      "provenance": [],
      "collapsed_sections": [],
      "authorship_tag": "ABX9TyNzUCkultigmxZaITv+lDrL",
      "include_colab_link": true
    },
    "kernelspec": {
      "name": "python3",
      "display_name": "Python 3"
    }
  },
  "cells": [
    {
      "cell_type": "markdown",
      "metadata": {
        "id": "view-in-github",
        "colab_type": "text"
      },
      "source": [
        "<a href=\"https://colab.research.google.com/github/Jiablero/notebooks/blob/master/titanic_kaggle_season3.ipynb\" target=\"_parent\"><img src=\"https://colab.research.google.com/assets/colab-badge.svg\" alt=\"Open In Colab\"/></a>"
      ]
    },
    {
      "cell_type": "code",
      "metadata": {
        "id": "eZUYxEMyIk7-",
        "colab_type": "code",
        "colab": {}
      },
      "source": [
        "import pandas as pd\n",
        "import numpy as np\n",
        "\n",
        "from sklearn.model_selection import GridSearchCV\n",
        "from sklearn.model_selection import train_test_split, cross_val_score\n",
        "from sklearn.metrics import classification_report, roc_auc_score, confusion_matrix\n",
        "\n",
        "from sklearn.ensemble import RandomForestClassifier\n",
        "from sklearn.naive_bayes import MultinomialNB\n",
        "from sklearn.neural_network import MLPClassifier"
      ],
      "execution_count": 0,
      "outputs": []
    },
    {
      "cell_type": "code",
      "metadata": {
        "id": "maVf4mWhIyth",
        "colab_type": "code",
        "colab": {}
      },
      "source": [
        "train = pd.read_csv('train.csv')\n",
        "test = pd.read_csv('test.csv')"
      ],
      "execution_count": 0,
      "outputs": []
    },
    {
      "cell_type": "code",
      "metadata": {
        "id": "w2J4VO9MJBvv",
        "colab_type": "code",
        "colab": {}
      },
      "source": [
        "# from season 1\n",
        "\n",
        "# data preparation\n",
        "def prepare_titanic_data(data):\n",
        "  X = data.drop(['PassengerId', 'Name', 'Fare', 'Ticket', 'Embarked', 'Cabin'], axis = 1)\n",
        "  if 'Survived' in data.columns : \n",
        "    X = X.drop('Survived', axis = 1) # в тестовых данных нет Survived\n",
        "  X = X.fillna({'Age': X.Age.median()})\n",
        "  X = pd.get_dummies(X).drop('Sex_male', axis=1)\n",
        "  return(X)\n",
        "\n",
        "# grid search universal\n",
        "def grid_search(clf, params, X, y):\n",
        "  gs = GridSearchCV(clf, params, n_jobs=-1)\n",
        "  gs.fit(X, y)\n",
        "  # best_params_ для отладки\n",
        "  return {'best_params_': gs.best_params_, 'best_estimator_': gs.best_estimator_}"
      ],
      "execution_count": 0,
      "outputs": []
    },
    {
      "cell_type": "code",
      "metadata": {
        "id": "B8v98fauJIdf",
        "colab_type": "code",
        "colab": {}
      },
      "source": [
        "# Подготовка данных\n",
        "X, test_X = train_test_split(train, test_size = 0.2)\n",
        "y = X.Survived\n",
        "X = prepare_titanic_data(X)\n",
        "test_y = test_X.Survived\n",
        "test_X = prepare_titanic_data(test_X)\n",
        "\n",
        "# для кроссвалидации\n",
        "cross_y = train.Survived\n",
        "cross_X = prepare_titanic_data(train)"
      ],
      "execution_count": 0,
      "outputs": []
    },
    {
      "cell_type": "code",
      "metadata": {
        "id": "WlCuhv_7JZT2",
        "colab_type": "code",
        "colab": {}
      },
      "source": [
        "# Random Forest\n",
        "rf_clf = RandomForestClassifier()\n",
        "rf_parameters = {\n",
        "    'n_estimators': range(10, 30, 5), \n",
        "    'max_depth': range(3, 10, 1), \n",
        "    'min_samples_leaf': range(1, 7), \n",
        "    'min_samples_split': range(4, 12, 2)}"
      ],
      "execution_count": 0,
      "outputs": []
    },
    {
      "cell_type": "code",
      "metadata": {
        "id": "SEWLdg9sJuvv",
        "colab_type": "code",
        "colab": {}
      },
      "source": [
        "clf_final_rf = grid_search(rf_clf, rf_parameters, X, y)"
      ],
      "execution_count": 0,
      "outputs": []
    },
    {
      "cell_type": "code",
      "metadata": {
        "id": "YhlzoLyFJ8cD",
        "colab_type": "code",
        "colab": {
          "base_uri": "https://localhost:8080/",
          "height": 34
        },
        "outputId": "1318c3bf-d8e1-47f4-9ec8-6a5d771296a1"
      },
      "source": [
        "pred_proba = clf_final_rf.get('best_estimator_').predict_proba(test_X)\n",
        "roc_score = roc_auc_score(test_y, pred_proba[:, 1])\n",
        "print(\"ROC: {}\".format(roc_score))"
      ],
      "execution_count": 14,
      "outputs": [
        {
          "output_type": "stream",
          "text": [
            "ROC: 0.8533596837944664\n"
          ],
          "name": "stdout"
        }
      ]
    },
    {
      "cell_type": "code",
      "metadata": {
        "id": "vG9pTotRKKWA",
        "colab_type": "code",
        "colab": {
          "base_uri": "https://localhost:8080/",
          "height": 34
        },
        "outputId": "1b31d69d-eabf-46c6-c3bc-bcd1f9c062b6"
      },
      "source": [
        "# Кроссвалидация\n",
        "clf_cv = RandomForestClassifier(**clf_final_rf.get('best_estimator_').get_params())\n",
        "cv_scores = cross_val_score(clf_cv, cross_X, cross_y, scoring='roc_auc', cv=10, n_jobs=-1)\n",
        "mean_cv_scores = np.mean(cv_scores)\n",
        "\n",
        "print(\"Crossvalidation mean(ROC): {}\".format(mean_cv_scores))"
      ],
      "execution_count": 19,
      "outputs": [
        {
          "output_type": "stream",
          "text": [
            "Crossvalidation mean(ROC): 0.8604224315989022\n"
          ],
          "name": "stdout"
        }
      ]
    },
    {
      "cell_type": "code",
      "metadata": {
        "id": "9h3qotKry3Fx",
        "colab_type": "code",
        "colab": {}
      },
      "source": [
        "# MLP neural network (best params from season 1)\n",
        "nn_fixed_clf = MLPClassifier( activation = 'tanh',alpha = 0.0002, \n",
        "                              learning_rate = 'invscaling',\n",
        "                              max_iter = 300,\n",
        "                              solver = 'adam',\n",
        "                              validation_fraction = 0.1)"
      ],
      "execution_count": 0,
      "outputs": []
    },
    {
      "cell_type": "code",
      "metadata": {
        "id": "_qkcwE1qMfYf",
        "colab_type": "code",
        "colab": {
          "base_uri": "https://localhost:8080/",
          "height": 153
        },
        "outputId": "e7903141-bb48-42c8-b595-c432b223cfae"
      },
      "source": [
        "nn_fixed_clf.fit(X, y)"
      ],
      "execution_count": 21,
      "outputs": [
        {
          "output_type": "execute_result",
          "data": {
            "text/plain": [
              "MLPClassifier(activation='tanh', alpha=0.0002, batch_size='auto', beta_1=0.9,\n",
              "              beta_2=0.999, early_stopping=False, epsilon=1e-08,\n",
              "              hidden_layer_sizes=(100,), learning_rate='invscaling',\n",
              "              learning_rate_init=0.001, max_fun=15000, max_iter=300,\n",
              "              momentum=0.9, n_iter_no_change=10, nesterovs_momentum=True,\n",
              "              power_t=0.5, random_state=None, shuffle=True, solver='adam',\n",
              "              tol=0.0001, validation_fraction=0.1, verbose=False,\n",
              "              warm_start=False)"
            ]
          },
          "metadata": {
            "tags": []
          },
          "execution_count": 21
        }
      ]
    },
    {
      "cell_type": "code",
      "metadata": {
        "id": "Nx73Ln9-U9cl",
        "colab_type": "code",
        "colab": {
          "base_uri": "https://localhost:8080/",
          "height": 34
        },
        "outputId": "2a8ea125-7535-49c7-be9d-7052379aa302"
      },
      "source": [
        "pred_proba_nn = nn_fixed_clf.predict_proba(test_X)\n",
        "roc_score_nn = roc_auc_score(test_y, pred_proba_nn[:, 1])\n",
        "print(\"ROC: {}\".format(roc_score_nn))"
      ],
      "execution_count": 26,
      "outputs": [
        {
          "output_type": "stream",
          "text": [
            "ROC: 0.8368082368082368\n"
          ],
          "name": "stdout"
        }
      ]
    },
    {
      "cell_type": "code",
      "metadata": {
        "colab_type": "code",
        "outputId": "041481cd-8613-44f0-a1f1-56d4bc9ec9c3",
        "id": "X-bbsUVTM2Y7",
        "colab": {
          "base_uri": "https://localhost:8080/",
          "height": 34
        }
      },
      "source": [
        "# Кроссвалидация\n",
        "nn_clf_cv = MLPClassifier(**nn_fixed_clf.get_params())\n",
        "cv_scores_nn = cross_val_score(nn_clf_cv, cross_X, cross_y, scoring='roc_auc', cv=10, n_jobs=-1)\n",
        "mean_cv_scores_nn = np.mean(cv_scores_nn)\n",
        "\n",
        "print(\"Crossvalidation mean(ROC): {}\".format(mean_cv_scores_nn))"
      ],
      "execution_count": 24,
      "outputs": [
        {
          "output_type": "stream",
          "text": [
            "Crossvalidation mean(ROC): 0.8609560591913533\n"
          ],
          "name": "stdout"
        }
      ]
    },
    {
      "cell_type": "code",
      "metadata": {
        "id": "REv9gDuFK2YY",
        "colab_type": "code",
        "colab": {}
      },
      "source": [
        ""
      ],
      "execution_count": 0,
      "outputs": []
    }
  ]
}