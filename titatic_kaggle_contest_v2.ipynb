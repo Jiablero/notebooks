{
  "nbformat": 4,
  "nbformat_minor": 0,
  "metadata": {
    "colab": {
      "name": "titatic_kaggle_contest_v2.ipynb",
      "provenance": [],
      "authorship_tag": "ABX9TyNhQpQQDQmDRi8E3TCImdvF",
      "include_colab_link": true
    },
    "kernelspec": {
      "name": "python3",
      "display_name": "Python 3"
    }
  },
  "cells": [
    {
      "cell_type": "markdown",
      "metadata": {
        "id": "view-in-github",
        "colab_type": "text"
      },
      "source": [
        "<a href=\"https://colab.research.google.com/github/Jiablero/notebooks/blob/master/titatic_kaggle_contest_v2.ipynb\" target=\"_parent\"><img src=\"https://colab.research.google.com/assets/colab-badge.svg\" alt=\"Open In Colab\"/></a>"
      ]
    },
    {
      "cell_type": "code",
      "metadata": {
        "id": "wh-9sJ50yE_0",
        "colab_type": "code",
        "colab": {}
      },
      "source": [
        "import pandas as pd\n",
        "\n",
        "import numpy as np\n",
        "\n",
        "from sklearn.model_selection import GridSearchCV\n",
        "from sklearn.model_selection import train_test_split\n",
        "\n",
        "from tensorflow import keras"
      ],
      "execution_count": 0,
      "outputs": []
    },
    {
      "cell_type": "code",
      "metadata": {
        "id": "a-HUJOOMyVVP",
        "colab_type": "code",
        "colab": {}
      },
      "source": [
        "train = pd.read_csv('train.csv')\n",
        "test = pd.read_csv('test.csv')"
      ],
      "execution_count": 0,
      "outputs": []
    },
    {
      "cell_type": "code",
      "metadata": {
        "id": "Te-X3Jf603JV",
        "colab_type": "code",
        "colab": {}
      },
      "source": [
        "def prepare_titanic_data(data):\n",
        "  X = data.drop(['PassengerId', 'Name', 'Fare', 'Ticket', 'Embarked', 'Cabin'], axis = 1)\n",
        "  if 'Survived' in data.columns : \n",
        "    X = X.drop('Survived', axis = 1) # в тестовых данных нет Survived\n",
        "  X = X.fillna({'Age': X.Age.median()})\n",
        "  X = pd.get_dummies(X).drop('Sex_male', axis=1)\n",
        "  return(X)"
      ],
      "execution_count": 0,
      "outputs": []
    },
    {
      "cell_type": "code",
      "metadata": {
        "id": "q52gxyYvbk70",
        "colab_type": "code",
        "colab": {}
      },
      "source": [
        "X, test_X = train_test_split(train, test_size = 0.1)"
      ],
      "execution_count": 0,
      "outputs": []
    },
    {
      "cell_type": "code",
      "metadata": {
        "id": "JJZ8NG6IkByc",
        "colab_type": "code",
        "colab": {}
      },
      "source": [
        "y = X.Survived\n",
        "X = prepare_titanic_data(X)\n",
        "test_y = test_X.Survived\n",
        "test_X = prepare_titanic_data(test_X)"
      ],
      "execution_count": 0,
      "outputs": []
    },
    {
      "cell_type": "code",
      "metadata": {
        "id": "T5bpNwlM0Ha2",
        "colab_type": "code",
        "colab": {
          "base_uri": "https://localhost:8080/",
          "height": 357
        },
        "outputId": "dc757afc-0fb2-4422-de87-e6080e1b25b1"
      },
      "source": [
        "model = keras.Sequential(\n",
        "    [\n",
        "        keras.layers.Dense(\n",
        "            256, activation=\"relu\", input_shape=(X.shape[-1],)\n",
        "        ),\n",
        "        keras.layers.Dense(256, activation=\"relu\"),\n",
        "        keras.layers.Dropout(0.3),\n",
        "        keras.layers.Dense(256, activation=\"relu\"),\n",
        "        keras.layers.Dropout(0.3),\n",
        "        keras.layers.Dense(1, activation=\"sigmoid\"),\n",
        "    ]\n",
        ")\n",
        "model.summary()"
      ],
      "execution_count": 64,
      "outputs": [
        {
          "output_type": "stream",
          "text": [
            "Model: \"sequential_2\"\n",
            "_________________________________________________________________\n",
            "Layer (type)                 Output Shape              Param #   \n",
            "=================================================================\n",
            "dense_8 (Dense)              (None, 256)               1536      \n",
            "_________________________________________________________________\n",
            "dense_9 (Dense)              (None, 256)               65792     \n",
            "_________________________________________________________________\n",
            "dropout_4 (Dropout)          (None, 256)               0         \n",
            "_________________________________________________________________\n",
            "dense_10 (Dense)             (None, 256)               65792     \n",
            "_________________________________________________________________\n",
            "dropout_5 (Dropout)          (None, 256)               0         \n",
            "_________________________________________________________________\n",
            "dense_11 (Dense)             (None, 1)                 257       \n",
            "=================================================================\n",
            "Total params: 133,377\n",
            "Trainable params: 133,377\n",
            "Non-trainable params: 0\n",
            "_________________________________________________________________\n"
          ],
          "name": "stdout"
        }
      ]
    },
    {
      "cell_type": "code",
      "metadata": {
        "id": "XbwdcUto00Y6",
        "colab_type": "code",
        "colab": {}
      },
      "source": [
        "metrics = [\n",
        "    keras.metrics.FalseNegatives(name=\"fn\"),\n",
        "    keras.metrics.FalsePositives(name=\"fp\"),\n",
        "    keras.metrics.TrueNegatives(name=\"tn\"),\n",
        "    keras.metrics.TruePositives(name=\"tp\"),\n",
        "    keras.metrics.Precision(name=\"precision\"),\n",
        "    keras.metrics.Recall(name=\"recall\"),\n",
        "]\n",
        "\n",
        "model.compile(\n",
        "    optimizer=keras.optimizers.Adam(1e-2), loss=\"binary_crossentropy\", metrics=metrics\n",
        ")"
      ],
      "execution_count": 0,
      "outputs": []
    },
    {
      "cell_type": "code",
      "metadata": {
        "id": "p8ij58Np131j",
        "colab_type": "code",
        "colab": {}
      },
      "source": [
        "weight_for_0 = 1.0 / y[y == 0].count()\n",
        "weight_for_1 = 1.0 / y[y == 1].count()"
      ],
      "execution_count": 0,
      "outputs": []
    },
    {
      "cell_type": "code",
      "metadata": {
        "id": "xU7DUnAu2QEq",
        "colab_type": "code",
        "colab": {
          "base_uri": "https://localhost:8080/",
          "height": 34
        },
        "outputId": "6c9197c9-c4b4-440b-a287-c34c2191e86f"
      },
      "source": [
        "weight_for_1"
      ],
      "execution_count": 67,
      "outputs": [
        {
          "output_type": "execute_result",
          "data": {
            "text/plain": [
              "0.003236245954692557"
            ]
          },
          "metadata": {
            "tags": []
          },
          "execution_count": 67
        }
      ]
    },
    {
      "cell_type": "code",
      "metadata": {
        "id": "Qc7Nw4vX077x",
        "colab_type": "code",
        "colab": {
          "base_uri": "https://localhost:8080/",
          "height": 1000
        },
        "outputId": "83aee4b1-597b-43a7-951e-3bf959d36677"
      },
      "source": [
        "callbacks = [keras.callbacks.ModelCheckpoint(\"titanic_model_at_epoch_{epoch}.h5\")]\n",
        "class_weight = {0: weight_for_0, 1: weight_for_1}\n",
        "\n",
        "model.fit(\n",
        "    X,\n",
        "    y,\n",
        "    batch_size=2048,\n",
        "    epochs=30,\n",
        "    verbose=2,\n",
        "    callbacks=callbacks,\n",
        "    validation_data=(test_X, test_y),\n",
        "    class_weight=class_weight,\n",
        ")"
      ],
      "execution_count": 68,
      "outputs": [
        {
          "output_type": "stream",
          "text": [
            "Epoch 1/30\n",
            "1/1 - 1s - loss: 0.0023 - fn: 144.0000 - fp: 239.0000 - tn: 253.0000 - tp: 165.0000 - precision: 0.4084 - recall: 0.5340 - val_loss: 1.2143 - val_fn: 0.0000e+00 - val_fp: 56.0000 - val_tn: 1.0000 - val_tp: 33.0000 - val_precision: 0.3708 - val_recall: 1.0000\n",
            "Epoch 2/30\n",
            "1/1 - 0s - loss: 0.0029 - fn: 37.0000 - fp: 450.0000 - tn: 42.0000 - tp: 272.0000 - precision: 0.3767 - recall: 0.8803 - val_loss: 3.9263 - val_fn: 33.0000 - val_fp: 0.0000e+00 - val_tn: 57.0000 - val_tp: 0.0000e+00 - val_precision: 0.0000e+00 - val_recall: 0.0000e+00\n",
            "Epoch 3/30\n",
            "1/1 - 0s - loss: 0.0140 - fn: 309.0000 - fp: 0.0000e+00 - tn: 492.0000 - tp: 0.0000e+00 - precision: 0.0000e+00 - recall: 0.0000e+00 - val_loss: 1.4473 - val_fn: 33.0000 - val_fp: 0.0000e+00 - val_tn: 57.0000 - val_tp: 0.0000e+00 - val_precision: 0.0000e+00 - val_recall: 0.0000e+00\n",
            "Epoch 4/30\n",
            "1/1 - 0s - loss: 0.0053 - fn: 308.0000 - fp: 1.0000 - tn: 491.0000 - tp: 1.0000 - precision: 0.5000 - recall: 0.0032 - val_loss: 0.7652 - val_fn: 0.0000e+00 - val_fp: 57.0000 - val_tn: 0.0000e+00 - val_tp: 33.0000 - val_precision: 0.3667 - val_recall: 1.0000\n",
            "Epoch 5/30\n",
            "1/1 - 0s - loss: 0.0018 - fn: 72.0000 - fp: 354.0000 - tn: 138.0000 - tp: 237.0000 - precision: 0.4010 - recall: 0.7670 - val_loss: 0.9067 - val_fn: 0.0000e+00 - val_fp: 57.0000 - val_tn: 0.0000e+00 - val_tp: 33.0000 - val_precision: 0.3667 - val_recall: 1.0000\n",
            "Epoch 6/30\n",
            "1/1 - 0s - loss: 0.0021 - fn: 4.0000 - fp: 489.0000 - tn: 3.0000 - tp: 305.0000 - precision: 0.3841 - recall: 0.9871 - val_loss: 0.7353 - val_fn: 0.0000e+00 - val_fp: 57.0000 - val_tn: 0.0000e+00 - val_tp: 33.0000 - val_precision: 0.3667 - val_recall: 1.0000\n",
            "Epoch 7/30\n",
            "1/1 - 0s - loss: 0.0018 - fn: 38.0000 - fp: 420.0000 - tn: 72.0000 - tp: 271.0000 - precision: 0.3922 - recall: 0.8770 - val_loss: 0.6588 - val_fn: 31.0000 - val_fp: 3.0000 - val_tn: 54.0000 - val_tp: 2.0000 - val_precision: 0.4000 - val_recall: 0.0606\n",
            "Epoch 8/30\n",
            "1/1 - 0s - loss: 0.0018 - fn: 256.0000 - fp: 61.0000 - tn: 431.0000 - tp: 53.0000 - precision: 0.4649 - recall: 0.1715 - val_loss: 0.6609 - val_fn: 31.0000 - val_fp: 3.0000 - val_tn: 54.0000 - val_tp: 2.0000 - val_precision: 0.4000 - val_recall: 0.0606\n",
            "Epoch 9/30\n",
            "1/1 - 0s - loss: 0.0018 - fn: 250.0000 - fp: 69.0000 - tn: 423.0000 - tp: 59.0000 - precision: 0.4609 - recall: 0.1909 - val_loss: 0.6794 - val_fn: 30.0000 - val_fp: 4.0000 - val_tn: 53.0000 - val_tp: 3.0000 - val_precision: 0.4286 - val_recall: 0.0909\n",
            "Epoch 10/30\n",
            "1/1 - 0s - loss: 0.0018 - fn: 187.0000 - fp: 165.0000 - tn: 327.0000 - tp: 122.0000 - precision: 0.4251 - recall: 0.3948 - val_loss: 0.7118 - val_fn: 0.0000e+00 - val_fp: 57.0000 - val_tn: 0.0000e+00 - val_tp: 33.0000 - val_precision: 0.3667 - val_recall: 1.0000\n",
            "Epoch 11/30\n",
            "1/1 - 0s - loss: 0.0017 - fn: 69.0000 - fp: 379.0000 - tn: 113.0000 - tp: 240.0000 - precision: 0.3877 - recall: 0.7767 - val_loss: 0.7169 - val_fn: 0.0000e+00 - val_fp: 57.0000 - val_tn: 0.0000e+00 - val_tp: 33.0000 - val_precision: 0.3667 - val_recall: 1.0000\n",
            "Epoch 12/30\n",
            "1/1 - 0s - loss: 0.0017 - fn: 62.0000 - fp: 397.0000 - tn: 95.0000 - tp: 247.0000 - precision: 0.3835 - recall: 0.7994 - val_loss: 0.7055 - val_fn: 0.0000e+00 - val_fp: 57.0000 - val_tn: 0.0000e+00 - val_tp: 33.0000 - val_precision: 0.3667 - val_recall: 1.0000\n",
            "Epoch 13/30\n",
            "1/1 - 0s - loss: 0.0017 - fn: 83.0000 - fp: 333.0000 - tn: 159.0000 - tp: 226.0000 - precision: 0.4043 - recall: 0.7314 - val_loss: 0.6987 - val_fn: 7.0000 - val_fp: 24.0000 - val_tn: 33.0000 - val_tp: 26.0000 - val_precision: 0.5200 - val_recall: 0.7879\n",
            "Epoch 14/30\n",
            "1/1 - 0s - loss: 0.0017 - fn: 125.0000 - fp: 250.0000 - tn: 242.0000 - tp: 184.0000 - precision: 0.4240 - recall: 0.5955 - val_loss: 0.6967 - val_fn: 23.0000 - val_fp: 6.0000 - val_tn: 51.0000 - val_tp: 10.0000 - val_precision: 0.6250 - val_recall: 0.3030\n",
            "Epoch 15/30\n",
            "1/1 - 0s - loss: 0.0017 - fn: 131.0000 - fp: 222.0000 - tn: 270.0000 - tp: 178.0000 - precision: 0.4450 - recall: 0.5761 - val_loss: 0.6967 - val_fn: 16.0000 - val_fp: 8.0000 - val_tn: 49.0000 - val_tp: 17.0000 - val_precision: 0.6800 - val_recall: 0.5152\n",
            "Epoch 16/30\n",
            "1/1 - 0s - loss: 0.0017 - fn: 135.0000 - fp: 212.0000 - tn: 280.0000 - tp: 174.0000 - precision: 0.4508 - recall: 0.5631 - val_loss: 0.6930 - val_fn: 20.0000 - val_fp: 5.0000 - val_tn: 52.0000 - val_tp: 13.0000 - val_precision: 0.7222 - val_recall: 0.3939\n",
            "Epoch 17/30\n",
            "1/1 - 0s - loss: 0.0017 - fn: 142.0000 - fp: 177.0000 - tn: 315.0000 - tp: 167.0000 - precision: 0.4855 - recall: 0.5405 - val_loss: 0.6899 - val_fn: 16.0000 - val_fp: 10.0000 - val_tn: 47.0000 - val_tp: 17.0000 - val_precision: 0.6296 - val_recall: 0.5152\n",
            "Epoch 18/30\n",
            "1/1 - 0s - loss: 0.0017 - fn: 131.0000 - fp: 199.0000 - tn: 293.0000 - tp: 178.0000 - precision: 0.4721 - recall: 0.5761 - val_loss: 0.6818 - val_fn: 24.0000 - val_fp: 4.0000 - val_tn: 53.0000 - val_tp: 9.0000 - val_precision: 0.6923 - val_recall: 0.2727\n",
            "Epoch 19/30\n",
            "1/1 - 0s - loss: 0.0017 - fn: 153.0000 - fp: 141.0000 - tn: 351.0000 - tp: 156.0000 - precision: 0.5253 - recall: 0.5049 - val_loss: 0.6712 - val_fn: 25.0000 - val_fp: 4.0000 - val_tn: 53.0000 - val_tp: 8.0000 - val_precision: 0.6667 - val_recall: 0.2424\n",
            "Epoch 20/30\n",
            "1/1 - 0s - loss: 0.0017 - fn: 170.0000 - fp: 87.0000 - tn: 405.0000 - tp: 139.0000 - precision: 0.6150 - recall: 0.4498 - val_loss: 0.6630 - val_fn: 20.0000 - val_fp: 3.0000 - val_tn: 54.0000 - val_tp: 13.0000 - val_precision: 0.8125 - val_recall: 0.3939\n",
            "Epoch 21/30\n",
            "1/1 - 0s - loss: 0.0016 - fn: 151.0000 - fp: 105.0000 - tn: 387.0000 - tp: 158.0000 - precision: 0.6008 - recall: 0.5113 - val_loss: 0.6620 - val_fn: 9.0000 - val_fp: 16.0000 - val_tn: 41.0000 - val_tp: 24.0000 - val_precision: 0.6000 - val_recall: 0.7273\n",
            "Epoch 22/30\n",
            "1/1 - 0s - loss: 0.0016 - fn: 98.0000 - fp: 195.0000 - tn: 297.0000 - tp: 211.0000 - precision: 0.5197 - recall: 0.6828 - val_loss: 0.6286 - val_fn: 24.0000 - val_fp: 2.0000 - val_tn: 55.0000 - val_tp: 9.0000 - val_precision: 0.8182 - val_recall: 0.2727\n",
            "Epoch 23/30\n",
            "1/1 - 0s - loss: 0.0016 - fn: 166.0000 - fp: 65.0000 - tn: 427.0000 - tp: 143.0000 - precision: 0.6875 - recall: 0.4628 - val_loss: 0.6280 - val_fn: 14.0000 - val_fp: 11.0000 - val_tn: 46.0000 - val_tp: 19.0000 - val_precision: 0.6333 - val_recall: 0.5758\n",
            "Epoch 24/30\n",
            "1/1 - 0s - loss: 0.0016 - fn: 134.0000 - fp: 145.0000 - tn: 347.0000 - tp: 175.0000 - precision: 0.5469 - recall: 0.5663 - val_loss: 0.6020 - val_fn: 14.0000 - val_fp: 5.0000 - val_tn: 52.0000 - val_tp: 19.0000 - val_precision: 0.7917 - val_recall: 0.5758\n",
            "Epoch 25/30\n",
            "1/1 - 0s - loss: 0.0015 - fn: 137.0000 - fp: 101.0000 - tn: 391.0000 - tp: 172.0000 - precision: 0.6300 - recall: 0.5566 - val_loss: 0.5901 - val_fn: 10.0000 - val_fp: 12.0000 - val_tn: 45.0000 - val_tp: 23.0000 - val_precision: 0.6571 - val_recall: 0.6970\n",
            "Epoch 26/30\n",
            "1/1 - 0s - loss: 0.0015 - fn: 103.0000 - fp: 128.0000 - tn: 364.0000 - tp: 206.0000 - precision: 0.6168 - recall: 0.6667 - val_loss: 0.5581 - val_fn: 15.0000 - val_fp: 3.0000 - val_tn: 54.0000 - val_tp: 18.0000 - val_precision: 0.8571 - val_recall: 0.5455\n",
            "Epoch 27/30\n",
            "1/1 - 0s - loss: 0.0014 - fn: 117.0000 - fp: 74.0000 - tn: 418.0000 - tp: 192.0000 - precision: 0.7218 - recall: 0.6214 - val_loss: 0.6352 - val_fn: 7.0000 - val_fp: 22.0000 - val_tn: 35.0000 - val_tp: 26.0000 - val_precision: 0.5417 - val_recall: 0.7879\n",
            "Epoch 28/30\n",
            "1/1 - 0s - loss: 0.0015 - fn: 34.0000 - fp: 271.0000 - tn: 221.0000 - tp: 275.0000 - precision: 0.5037 - recall: 0.8900 - val_loss: 0.5511 - val_fn: 24.0000 - val_fp: 1.0000 - val_tn: 56.0000 - val_tp: 9.0000 - val_precision: 0.9000 - val_recall: 0.2727\n",
            "Epoch 29/30\n",
            "1/1 - 0s - loss: 0.0016 - fn: 209.0000 - fp: 14.0000 - tn: 478.0000 - tp: 100.0000 - precision: 0.8772 - recall: 0.3236 - val_loss: 0.5225 - val_fn: 16.0000 - val_fp: 3.0000 - val_tn: 54.0000 - val_tp: 17.0000 - val_precision: 0.8500 - val_recall: 0.5152\n",
            "Epoch 30/30\n",
            "1/1 - 0s - loss: 0.0014 - fn: 151.0000 - fp: 28.0000 - tn: 464.0000 - tp: 158.0000 - precision: 0.8495 - recall: 0.5113 - val_loss: 0.6086 - val_fn: 8.0000 - val_fp: 19.0000 - val_tn: 38.0000 - val_tp: 25.0000 - val_precision: 0.5682 - val_recall: 0.7576\n"
          ],
          "name": "stdout"
        },
        {
          "output_type": "execute_result",
          "data": {
            "text/plain": [
              "<tensorflow.python.keras.callbacks.History at 0x7fd9462626a0>"
            ]
          },
          "metadata": {
            "tags": []
          },
          "execution_count": 68
        }
      ]
    },
    {
      "cell_type": "code",
      "metadata": {
        "id": "Y-uao_V-3PKu",
        "colab_type": "code",
        "colab": {}
      },
      "source": [
        "result1 = pd.DataFrame(model.predict(test_X).round())"
      ],
      "execution_count": 0,
      "outputs": []
    },
    {
      "cell_type": "code",
      "metadata": {
        "id": "2Mj0Fjv83m-F",
        "colab_type": "code",
        "colab": {}
      },
      "source": [
        "result1['Survived'] = test_y.values\n",
        "result1['result'] = np.where(result1[0] == result1.Survived, 1, 0)"
      ],
      "execution_count": 0,
      "outputs": []
    },
    {
      "cell_type": "code",
      "metadata": {
        "id": "q5L3HqPU4tZk",
        "colab_type": "code",
        "colab": {
          "base_uri": "https://localhost:8080/",
          "height": 34
        },
        "outputId": "231d123c-dcaa-4f5d-c3a7-bcf0ba7e904d"
      },
      "source": [
        "result1.result.mean()"
      ],
      "execution_count": 71,
      "outputs": [
        {
          "output_type": "execute_result",
          "data": {
            "text/plain": [
              "0.7"
            ]
          },
          "metadata": {
            "tags": []
          },
          "execution_count": 71
        }
      ]
    }
  ]
}